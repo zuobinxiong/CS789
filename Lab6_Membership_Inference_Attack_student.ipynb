{
  "cells": [
    {
      "cell_type": "markdown",
      "metadata": {
        "id": "view-in-github",
        "colab_type": "text"
      },
      "source": [
        "<a href=\"https://colab.research.google.com/github/zuobinxiong/CS789/blob/main/Lab6_Membership_Inference_Attack_student.ipynb\" target=\"_parent\"><img src=\"https://colab.research.google.com/assets/colab-badge.svg\" alt=\"Open In Colab\"/></a>"
      ]
    },
    {
      "cell_type": "markdown",
      "metadata": {
        "id": "Q6w_jUt-B14g"
      },
      "source": [
        "# Running membership inference attacks on the Nursery data"
      ]
    },
    {
      "cell_type": "markdown",
      "metadata": {
        "id": "8RzvTBtqB14k"
      },
      "source": [
        "In this tutorial we will show how to run black-box membership attacks. This will be demonstrated on the Nursery dataset (original dataset can be found here: https://archive.ics.uci.edu/ml/datasets/nursery)."
      ]
    },
    {
      "cell_type": "code",
      "source": [
        "!pip install adversarial-robustness-toolbox"
      ],
      "metadata": {
        "id": "haCZOnWgB8G5"
      },
      "execution_count": null,
      "outputs": []
    },
    {
      "cell_type": "markdown",
      "metadata": {
        "id": "-Chfd_1nB14m"
      },
      "source": [
        "We have already preprocessed the dataset such that all categorical features are one-hot encoded, and the data was scaled using sklearn's StandardScaler."
      ]
    },
    {
      "cell_type": "code",
      "execution_count": null,
      "metadata": {
        "id": "F-nPBExpB14n"
      },
      "outputs": [],
      "source": [
        "import os\n",
        "import sys\n",
        "sys.path.insert(0, os.path.abspath('..'))"
      ]
    },
    {
      "cell_type": "markdown",
      "metadata": {
        "id": "PsB0a0zsB14o"
      },
      "source": [
        "## Load data"
      ]
    },
    {
      "cell_type": "code",
      "execution_count": null,
      "metadata": {
        "id": "SuI0VUNIB14p"
      },
      "outputs": [],
      "source": [
        "from art.utils import load_nursery\n",
        "(x_train, y_train), (x_test, y_test), _, _ = load_nursery(test_set=0.5)"
      ]
    },
    {
      "cell_type": "markdown",
      "metadata": {
        "id": "0Qeruy4IB14p"
      },
      "source": [
        "## Train random forest model"
      ]
    },
    {
      "cell_type": "code",
      "execution_count": null,
      "metadata": {
        "id": "yyyPE5hhB14q"
      },
      "outputs": [],
      "source": [
        "from sklearn.ensemble import RandomForestClassifier\n",
        "\n",
        "\n",
        "model = ... # Define random forest model using RandomForestClassifier\n",
        "model.fit(...) # Evalutation\n",
        "print('Base model accuracy: ', ... )"
      ]
    },
    {
      "cell_type": "markdown",
      "metadata": {
        "id": "etyUjR1yB14r"
      },
      "source": [
        "## Attack\n",
        "### Rule-based attack\n",
        "The rule-based attack uses the simple rule to determine membership in the training data: if the model's prediction for a sample is correct, then it is a member. Otherwise, it is not a member."
      ]
    },
    {
      "cell_type": "code",
      "execution_count": null,
      "metadata": {
        "id": "38o6fOJ4B14t"
      },
      "outputs": [],
      "source": [
        "import numpy as np\n",
        "from art.estimators.classification.scikitlearn import ScikitlearnRandomForestClassifier\n",
        "from art.attacks.inference.membership_inference import MembershipInferenceBlackBoxRuleBased\n",
        "\n",
        "# use ScikitlearnRandomForestClassifier in art\n",
        "art_classifier = ScikitlearnRandomForestClassifier(model)\n",
        "\n",
        "# define the attack object using MembershipInferenceBlackBoxRuleBased\n",
        "attack = ...\n",
        "\n",
        "# infer attacked feature\n",
        "inferred_train = attack.infer(...)\n",
        "inferred_test = attack.infer(...)\n",
        "\n",
        "# check accuracy\n",
        "train_acc = ...\n",
        "test_acc = ...\n",
        "acc = ...\n",
        "print(f\"Members Accuracy: {train_acc:.4f}\")\n",
        "print(f\"Non Members Accuracy {test_acc:.4f}\")\n",
        "print(f\"Attack Accuracy {acc:.4f}\")"
      ]
    },
    {
      "cell_type": "markdown",
      "metadata": {
        "id": "MeSWrqJ9B14v"
      },
      "source": [
        "This means that on average for 51% of the data, membership status is inferred correctly."
      ]
    },
    {
      "cell_type": "code",
      "execution_count": null,
      "metadata": {
        "id": "cKoXAJxvB14v"
      },
      "outputs": [],
      "source": [
        "def calc_precision_recall(predicted, actual, positive_value=1):\n",
        "    score = 0  # both predicted and actual are positive\n",
        "    num_positive_predicted = 0  # predicted positive\n",
        "    num_positive_actual = 0  # actual positive\n",
        "    for i in range(len(predicted)):\n",
        "        if predicted[i] == positive_value:\n",
        "            num_positive_predicted += 1\n",
        "        if actual[i] == positive_value:\n",
        "            num_positive_actual += 1\n",
        "        if predicted[i] == actual[i]:\n",
        "            if predicted[i] == positive_value:\n",
        "                score += 1\n",
        "\n",
        "    if num_positive_predicted == 0:\n",
        "        precision = 1\n",
        "    else:\n",
        "        precision = score / num_positive_predicted  # the fraction of predicted “Yes” responses that are correct\n",
        "    if num_positive_actual == 0:\n",
        "        recall = 1\n",
        "    else:\n",
        "        recall = score / num_positive_actual  # the fraction of “Yes” responses that are predicted correctly\n",
        "\n",
        "    return precision, recall\n",
        "\n",
        "# rule-based\n",
        "# using the infer attacked features to calculate the precision and recall of the membership attack\n",
        "print(calc_precision_recall(...))"
      ]
    },
    {
      "cell_type": "markdown",
      "metadata": {
        "id": "JN6X733UB14x"
      },
      "source": [
        "### Black-box attack\n",
        "The black-box attack basically trains an additional classifier (called the attack model) to predict the membership status of a sample. It can use as input to the learning process probabilities/logits or losses, depending on the type of model and provided configuration.\n",
        "#### Train attack model"
      ]
    },
    {
      "cell_type": "code",
      "execution_count": null,
      "metadata": {
        "id": "r_imkLyoB14x"
      },
      "outputs": [],
      "source": [
        "from art.attacks.inference.membership_inference import MembershipInferenceBlackBox\n",
        "\n",
        "attack_train_ratio = 0.5\n",
        "attack_test_ratio = 0.5\n",
        "attack_train_size = int(len(x_train) * attack_train_ratio)\n",
        "attack_test_size = int(len(x_test) * attack_test_ratio)\n",
        "\n",
        "# Define the black-box membership inference attack\n",
        "bb_attack = ... # using MembershipInferenceBlackBox function\n",
        "\n",
        "# train attack model\n",
        "bb_attack.fit(...)"
      ]
    },
    {
      "cell_type": "markdown",
      "metadata": {
        "id": "YbLPSxPmB14y"
      },
      "source": [
        "#### Infer membership and check accuracy"
      ]
    },
    {
      "cell_type": "code",
      "execution_count": null,
      "metadata": {
        "scrolled": true,
        "id": "cwT6cMoVB14y"
      },
      "outputs": [],
      "source": [
        "# get inferred values\n",
        "inferred_train_bb = ...\n",
        "inferred_test_bb = ...\n",
        "\n",
        "# check accuracy\n",
        "train_acc = ...\n",
        "test_acc = ...\n",
        "acc = ...\n",
        "print(f\"Members Accuracy: {train_acc:.4f}\")\n",
        "print(f\"Non Members Accuracy {test_acc:.4f}\")\n",
        "print(f\"Attack Accuracy {acc:.4f}\")"
      ]
    },
    {
      "cell_type": "markdown",
      "metadata": {
        "id": "k_ytet7EB14z"
      },
      "source": [
        "Achieves much better results than the rule-based attack."
      ]
    },
    {
      "cell_type": "code",
      "execution_count": null,
      "metadata": {
        "id": "QoGHMLluB14z"
      },
      "outputs": [],
      "source": [
        "# black-box\n",
        "print(calc_precision_recall(...))"
      ]
    },
    {
      "cell_type": "markdown",
      "metadata": {
        "id": "qU6GcvmBB141"
      },
      "source": [
        "## Train neural network model"
      ]
    },
    {
      "cell_type": "code",
      "execution_count": null,
      "metadata": {
        "id": "rE3755GWB141"
      },
      "outputs": [],
      "source": [
        "import torch\n",
        "from torch import nn, optim\n",
        "from torch.utils.data import DataLoader\n",
        "from torch.utils.data.dataset import Dataset\n",
        "from art.estimators.classification.pytorch import PyTorchClassifier\n",
        "\n",
        "# reduce size of training set to make attack slightly better\n",
        "train_set_size = 500\n",
        "x_train = x_train[:train_set_size]\n",
        "y_train = y_train[:train_set_size]\n",
        "x_test = x_test[:train_set_size]\n",
        "y_test = y_test[:train_set_size]\n",
        "attack_train_size = int(len(x_train) * attack_train_ratio)\n",
        "attack_test_size = int(len(x_test) * attack_train_ratio)\n",
        "\n",
        "\n",
        "class NurseryDataset(Dataset):\n",
        "    def __init__(self, x, y=None):\n",
        "        self.x = torch.from_numpy(x.astype(np.float64)).type(torch.FloatTensor)\n",
        "\n",
        "        if y is not None:\n",
        "            self.y = torch.from_numpy(y.astype(np.int8)).type(torch.LongTensor)\n",
        "        else:\n",
        "            self.y = torch.zeros(x.shape[0])\n",
        "\n",
        "    def __len__(self):\n",
        "        return len(self.x)\n",
        "\n",
        "    def __getitem__(self, idx):\n",
        "        if idx >= len(self.x):\n",
        "            raise IndexError(\"Invalid Index\")\n",
        "\n",
        "        return self.x[idx], self.y[idx]\n",
        "\n",
        "train_set = NurseryDataset(x_train, y_train)\n",
        "train_loader = DataLoader(...)\n",
        "\n",
        "device = torch.device(\"cpu\")"
      ]
    },
    {
      "cell_type": "code",
      "source": [
        "# Define the neural network model\n",
        "class ModelToAttack(nn.Module):\n",
        "\n",
        "    def __init__(self, num_classes, num_features):\n",
        "        super(ModelToAttack, self).__init__()\n",
        "\n",
        "        self.fc1 = nn.Sequential(\n",
        "                nn.Linear(num_features, 1024),\n",
        "                nn.Tanh(), )\n",
        "\n",
        "        self.fc2 = nn.Sequential(\n",
        "                nn.Linear(1024, 512),\n",
        "                nn.Tanh(), )\n",
        "\n",
        "        self.fc3 = nn.Sequential(\n",
        "            nn.Linear(512, 256),\n",
        "            nn.Tanh(), )\n",
        "\n",
        "        self.fc4 = nn.Sequential(\n",
        "            nn.Linear(256, 128),\n",
        "            nn.Tanh(),\n",
        "        )\n",
        "\n",
        "        self.classifier = nn.Linear(128, num_classes)\n",
        "\n",
        "    def forward(self, x):\n",
        "        out = self.fc1(x)\n",
        "        out = self.fc2(out)\n",
        "        out = self.fc3(out)\n",
        "        out = self.fc4(out)\n",
        "        return self.classifier(out)"
      ],
      "metadata": {
        "id": "GmXebo86kM12"
      },
      "execution_count": null,
      "outputs": []
    },
    {
      "cell_type": "code",
      "source": [
        "# train the nn model\n",
        "mlp_model = ModelToAttack(4, 24)\n",
        "mlp_model = torch.nn.DataParallel(mlp_model)\n",
        "# fillout the loss function and optimizer\n",
        "criterion = ...\n",
        "optimizer = ...\n",
        "\n",
        "for epoch in range(20):\n",
        "    for (input, targets) in train_loader:\n",
        "        input, targets = torch.autograd.Variable(input), torch.autograd.Variable(targets)\n",
        "\n",
        "        targets = targets.to(device)\n",
        "\n",
        "        optimizer.zero_grad()\n",
        "        # get outputs\n",
        "        outputs = ...\n",
        "        outputs = outputs.to(device)\n",
        "        # calculate loss funciton\n",
        "        loss = ...\n",
        "\n",
        "        loss.backward()\n",
        "        optimizer.step()\n",
        "\n",
        "\n",
        "mlp_art_model = PyTorchClassifier(model=mlp_model, loss=criterion, optimizer=optimizer, input_shape=(24,), nb_classes=4)\n",
        "\n",
        "train_pred = np.array([np.argmax(arr) for arr in mlp_art_model.predict(x_train.astype(np.float32))])\n",
        "# calculate the training accuracy\n",
        "print('Base model Train accuracy: ', ...)\n",
        "# calculate the testing accuracy\n",
        "test_pred = np.array([np.argmax(arr) for arr in mlp_art_model.predict(x_test.astype(np.float32))])\n",
        "print('Base model Test accuracy: ', ...)"
      ],
      "metadata": {
        "id": "JBR1L5FSkdkO"
      },
      "execution_count": null,
      "outputs": []
    },
    {
      "cell_type": "markdown",
      "metadata": {
        "id": "fcd4kYB4B142"
      },
      "source": [
        "### Rule-based attack"
      ]
    },
    {
      "cell_type": "code",
      "execution_count": null,
      "metadata": {
        "id": "CM_65iiwB142"
      },
      "outputs": [],
      "source": [
        "# wrap the model\n",
        "mlp_attack = MembershipInferenceBlackBoxRuleBased(...)\n",
        "\n",
        "# infer\n",
        "mlp_inferred_train = ...\n",
        "mlp_inferred_test = ...\n",
        "\n",
        "# check accuracy\n",
        "mlp_train_acc = ...\n",
        "mlp_test_acc = ...\n",
        "mlp_acc = ...\n",
        "print(mlp_train_acc)\n",
        "print(mlp_test_acc)\n",
        "print(mlp_acc)\n",
        "\n",
        "# calculate the precision and recall\n",
        "print(calc_precision_recall(...))"
      ]
    },
    {
      "cell_type": "markdown",
      "metadata": {
        "id": "KcW6lY87B143"
      },
      "source": [
        "### Black-box attack"
      ]
    },
    {
      "cell_type": "code",
      "execution_count": null,
      "metadata": {
        "id": "JKUK_VY8B144"
      },
      "outputs": [],
      "source": [
        "mlp_attack_bb = MembershipInferenceBlackBox(mlp_art_model, attack_model_type='rf')\n",
        "\n",
        "# train attack model\n",
        "mlp_attack_bb.fit(...)\n",
        "\n",
        "# infer\n",
        "mlp_inferred_train_bb = ...\n",
        "mlp_inferred_test_bb = ...\n",
        "\n",
        "# check accuracy\n",
        "mlp_train_acc_bb = ...\n",
        "mlp_test_acc_bb = ...\n",
        "mlp_acc_bb = ...\n",
        "\n",
        "print(f\"Members Accuracy: {mlp_train_acc_bb:.4f}\")\n",
        "print(f\"Non Members Accuracy {mlp_test_acc_bb:.4f}\")\n",
        "print(f\"Attack Accuracy {mlp_acc_bb:.4f}\")\n",
        "\n",
        "print(calc_precision_recall(np.concatenate((mlp_inferred_train_bb, mlp_inferred_test_bb)),\n",
        "                            np.concatenate((np.ones(len(mlp_inferred_train_bb)), np.zeros(len(mlp_inferred_test_bb))))))"
      ]
    },
    {
      "cell_type": "code",
      "execution_count": null,
      "metadata": {
        "id": "V4ZIZ96GB146"
      },
      "outputs": [],
      "source": [
        "from sklearn.metrics import classification_report\n",
        "\n",
        "y_train_pred = np.concatenate((mlp_inferred_train_bb, mlp_inferred_test_bb))\n",
        "y_train_true = np.concatenate((np.ones_like(mlp_inferred_train_bb), np.zeros_like(mlp_inferred_test_bb)))\n",
        "print(classification_report(y_pred=y_train_pred, y_true=y_train_true))"
      ]
    },
    {
      "cell_type": "markdown",
      "metadata": {
        "id": "cEVyq3fBB147"
      },
      "source": [
        "For the pytorch target model we were able to achieve slightly better than random attack performance, but not as good as for the random forest model."
      ]
    },
    {
      "cell_type": "markdown",
      "metadata": {
        "id": "6qmHlCfAB147"
      },
      "source": [
        "## Running membership inference attacks using Shadow Models"
      ]
    },
    {
      "cell_type": "markdown",
      "source": [
        "## Load data\n",
        "The data is separated, 25% will go towards and training and testing the target model, 75% of data will be used as shadow training data."
      ],
      "metadata": {
        "id": "Np_F7XMJiWla"
      }
    },
    {
      "cell_type": "code",
      "source": [
        "(x_target, y_target), (x_shadow, y_shadow), _, _ = load_nursery(test_set=0.75)\n",
        "\n",
        "target_train_size = len(x_target) // 2\n",
        "# get the first part to be traget_train dataset, the second part as target test\n",
        "x_target_train = ...\n",
        "y_target_train = ...\n",
        "x_target_test = ...\n",
        "y_target_test = ..."
      ],
      "metadata": {
        "id": "Cpb8HGQZiUCX"
      },
      "execution_count": null,
      "outputs": []
    },
    {
      "cell_type": "markdown",
      "source": [
        "## Train random forest model"
      ],
      "metadata": {
        "id": "PEFyFWROieeV"
      }
    },
    {
      "cell_type": "code",
      "source": [
        "from sklearn.ensemble import RandomForestClassifier\n",
        "from art.estimators.classification.scikitlearn import ScikitlearnRandomForestClassifier\n",
        "\n",
        "model = RandomForestClassifier()\n",
        "model.fit(x_target_train, y_target_train)\n",
        "\n",
        "art_classifier = ScikitlearnRandomForestClassifier(model)\n",
        "\n",
        "print('Base model accuracy:', model.score(x_target_test, y_target_test))"
      ],
      "metadata": {
        "id": "-0IPOCvxifJm"
      },
      "execution_count": null,
      "outputs": []
    },
    {
      "cell_type": "markdown",
      "source": [
        "## Train shadow models\n",
        "Three shadow models are trained, and used to generate a meta-dataset of member and non-member predictions."
      ],
      "metadata": {
        "id": "c4MR3y8oigsg"
      }
    },
    {
      "cell_type": "code",
      "source": [
        "from art.attacks.inference.membership_inference import ShadowModels\n",
        "from art.utils import to_categorical\n",
        "\n",
        "# build a list of shadow models\n",
        "shadow_models = ShadowModels(art_classifier, num_shadow_models=5)\n",
        "\n",
        "shadow_dataset = shadow_models.generate_shadow_dataset(x_shadow, to_categorical(y_shadow, 4))\n",
        "(member_x, member_y, member_predictions), (nonmember_x, nonmember_y, nonmember_predictions) = shadow_dataset\n",
        "\n",
        "# Shadow models' accuracy\n",
        "print([sm.model.score(x_target_test, y_target_test) for sm in shadow_models.get_shadow_models()])"
      ],
      "metadata": {
        "id": "FHePvnyMijEf"
      },
      "execution_count": null,
      "outputs": []
    },
    {
      "cell_type": "markdown",
      "source": [
        "## Attack\n",
        "Black-box attack\n",
        "\n",
        "We run a black-box membership inference attack on the meta-dataset generated using the shadow models."
      ],
      "metadata": {
        "id": "LKNPcmc8ioOy"
      }
    },
    {
      "cell_type": "code",
      "source": [
        "from art.attacks.inference.membership_inference import MembershipInferenceBlackBox\n",
        "# feed all data of member and non-member into the attack model\n",
        "attack = MembershipInferenceBlackBox(art_classifier, attack_model_type=\"rf\")\n",
        "attack.fit(member_x, member_y, nonmember_x, nonmember_y, member_predictions, nonmember_predictions)"
      ],
      "metadata": {
        "id": "HwCC-DiyinWG"
      },
      "execution_count": null,
      "outputs": []
    },
    {
      "cell_type": "code",
      "source": [
        "# perform attack on member data and non member data\n",
        "member_infer = attack.infer(...)\n",
        "nonmember_infer = attack.infer(...)\n",
        "\n",
        "member_acc = np.sum(member_infer) / len(x_target_train)\n",
        "nonmember_acc = 1 - np.sum(nonmember_infer) / len(x_target_test)\n",
        "acc = (member_acc * len(x_target_train) + nonmember_acc * len(x_target_test)) / (len(x_target_train) + len(x_target_test))\n",
        "print('Attack Member Acc:', member_acc)\n",
        "print('Attack Non-Member Acc:', nonmember_acc)\n",
        "print('Attack Accuracy:', acc)"
      ],
      "metadata": {
        "id": "N84muV3sirQW"
      },
      "execution_count": null,
      "outputs": []
    },
    {
      "cell_type": "code",
      "source": [
        "print(calc_precision_recall(np.concatenate((member_infer, nonmember_infer)),\n",
        "                            np.concatenate((np.ones(len(member_infer)), np.zeros(len(nonmember_infer))))))"
      ],
      "metadata": {
        "id": "QKvYRj09is-_"
      },
      "execution_count": null,
      "outputs": []
    },
    {
      "cell_type": "markdown",
      "source": [
        "## Rule-based attack"
      ],
      "metadata": {
        "id": "zCTvuHWhiu-w"
      }
    },
    {
      "cell_type": "code",
      "source": [
        "from art.attacks.inference.membership_inference import MembershipInferenceBlackBoxRuleBased\n",
        "\n",
        "baseline = MembershipInferenceBlackBoxRuleBased(art_classifier)\n",
        "\n",
        "bl_inferred_train = baseline.infer(x_target_train, y_target_train)\n",
        "bl_inferred_test = baseline.infer(x_target_test, y_target_test)\n",
        "\n",
        "bl_member_acc = np.sum(bl_inferred_train) / len(bl_inferred_train)\n",
        "bl_nonmember_acc = 1 - (np.sum(bl_inferred_test) / len(bl_inferred_test))\n",
        "bl_acc = (bl_member_acc * len(bl_inferred_train) + bl_nonmember_acc * len(bl_inferred_test)) / (len(bl_inferred_train) + len(bl_inferred_test))\n",
        "print(bl_member_acc)\n",
        "print(bl_nonmember_acc)\n",
        "print('Baseline Accuracy:', bl_acc)\n",
        "\n",
        "print(calc_precision_recall(np.concatenate((bl_inferred_train, bl_inferred_test)),\n",
        "                            np.concatenate((np.ones(len(bl_inferred_train)), np.zeros(len(bl_inferred_test))))))"
      ],
      "metadata": {
        "id": "7YB6GCNaiwOG"
      },
      "execution_count": null,
      "outputs": []
    }
  ],
  "metadata": {
    "kernelspec": {
      "display_name": "Python 3",
      "language": "python",
      "name": "python3"
    },
    "language_info": {
      "codemirror_mode": {
        "name": "ipython",
        "version": 3
      },
      "file_extension": ".py",
      "mimetype": "text/x-python",
      "name": "python",
      "nbconvert_exporter": "python",
      "pygments_lexer": "ipython3",
      "version": "3.8.5"
    },
    "colab": {
      "provenance": [],
      "include_colab_link": true
    },
    "accelerator": "GPU",
    "gpuClass": "standard"
  },
  "nbformat": 4,
  "nbformat_minor": 0
}