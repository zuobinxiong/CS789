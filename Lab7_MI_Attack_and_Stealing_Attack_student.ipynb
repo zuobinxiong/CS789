{
  "nbformat": 4,
  "nbformat_minor": 0,
  "metadata": {
    "colab": {
      "provenance": [],
      "gpuType": "T4",
      "authorship_tag": "ABX9TyNUYJngFkGVxcptpGwVerKu",
      "include_colab_link": true
    },
    "kernelspec": {
      "name": "python3",
      "display_name": "Python 3"
    },
    "language_info": {
      "name": "python"
    },
    "accelerator": "GPU"
  },
  "cells": [
    {
      "cell_type": "markdown",
      "metadata": {
        "id": "view-in-github",
        "colab_type": "text"
      },
      "source": [
        "<a href=\"https://colab.research.google.com/github/zuobinxiong/CS789/blob/main/Lab7_MI_Attack_and_Stealing_Attack_student.ipynb\" target=\"_parent\"><img src=\"https://colab.research.google.com/assets/colab-badge.svg\" alt=\"Open In Colab\"/></a>"
      ]
    },
    {
      "cell_type": "markdown",
      "source": [
        "# download dataset link: https://drive.google.com/file/d/14kYe09TjIyb9HoRC5ySfgLKiaJ_DT01k/view?usp=sharing"
      ],
      "metadata": {
        "id": "EVaC9HXIsYkT"
      }
    },
    {
      "cell_type": "code",
      "execution_count": null,
      "metadata": {
        "id": "LdSnMliAuWC_"
      },
      "outputs": [],
      "source": [
        "!unzip /content/ModelInversion.zip"
      ]
    },
    {
      "cell_type": "code",
      "source": [
        "import torch\n",
        "import torch.nn as nn\n",
        "import torch.optim as optim\n",
        "import torch.utils.data as data\n",
        "\n",
        "import torchvision.transforms as transforms\n",
        "import torchvision.datasets as datasets\n"
      ],
      "metadata": {
        "id": "QipSgXwHviTt"
      },
      "execution_count": null,
      "outputs": []
    },
    {
      "cell_type": "markdown",
      "source": [
        "# 1 Model Inversion Attack"
      ],
      "metadata": {
        "id": "cDse5p97FleX"
      }
    },
    {
      "cell_type": "code",
      "source": [
        "# set seeds\n",
        "SEED = 12\n",
        "torch.manual_seed(SEED)\n",
        "torch.cuda.manual_seed(SEED)\n",
        "\n",
        "# torch.backends.cudnn.deterministic = True"
      ],
      "metadata": {
        "id": "Ker1DlSPv4JX"
      },
      "execution_count": null,
      "outputs": []
    },
    {
      "cell_type": "code",
      "source": [
        "# transfrom, wee need grayscale to convert the images to 1 channel\n",
        "transform = transforms.Compose([\n",
        "        transforms.Grayscale(),\n",
        "        transforms.ToTensor(),\n",
        "        transforms.Normalize((0.5), (0.5))\n",
        "    ])\n",
        "# load dataset\n",
        "atnt_faces = ..."
      ],
      "metadata": {
        "id": "ZDej5celGLH4"
      },
      "execution_count": null,
      "outputs": []
    },
    {
      "cell_type": "code",
      "source": [
        "# split dataset: 3 images of every class as validation set\n",
        "i = [i for i in range(len(atnt_faces)) if i % 10 > 3]\n",
        "i_val = [i for i in range(len(atnt_faces)) if i % 10 <= 3]\n",
        "\n",
        "# load data\n",
        "BATCH_SIZE = 64\n",
        "train_dataset = torch.utils.data.Subset(atnt_faces, i)\n",
        "train_data_loader = data.DataLoader(train_dataset,\n",
        "                                    shuffle=True,\n",
        "                                    batch_size=BATCH_SIZE)\n",
        "\n",
        "validation_dataset = torch.utils.data.Subset(atnt_faces, i_val)\n",
        "validation_data_loader = data.DataLoader(validation_dataset,\n",
        "                                          batch_size=BATCH_SIZE)"
      ],
      "metadata": {
        "id": "5hdTP6H5GUJJ"
      },
      "execution_count": null,
      "outputs": []
    },
    {
      "cell_type": "code",
      "source": [
        "# create the target model as the attacker's object\n",
        "class TargetModel(nn.Module):\n",
        "    def __init__(self, input_dim, output_dim):\n",
        "        super().__init__()\n",
        "\n",
        "        self.input_fc = nn.Linear(input_dim, 3000)\n",
        "        self.output_fc = nn.Linear(3000, output_dim)\n",
        "\n",
        "    def forward(self, x):\n",
        "        batch_size = x.shape[0]\n",
        "        x = x.view(batch_size, -1)\n",
        "        h = torch.sigmoid(self.input_fc(x))\n",
        "        output = self.output_fc(h)\n",
        "\n",
        "        return output, h"
      ],
      "metadata": {
        "id": "qDWP0LJEv8rw"
      },
      "execution_count": null,
      "outputs": []
    },
    {
      "cell_type": "code",
      "source": [
        "# define dimensions\n",
        "INPUT_DIM = 112 * 92\n",
        "OUTPUT_DIM = 40\n",
        "\n",
        "# create model\n",
        "mlp = ..."
      ],
      "metadata": {
        "id": "IgRHpM8kGuq2"
      },
      "execution_count": null,
      "outputs": []
    },
    {
      "cell_type": "code",
      "source": [
        "# set device\n",
        "device = torch.device('cuda' if torch.cuda.is_available() else 'cpu')\n",
        "print('Using device: %s' % device)\n",
        "mlp = mlp.to(device)"
      ],
      "metadata": {
        "colab": {
          "base_uri": "https://localhost:8080/"
        },
        "id": "ymG0tI1BG24Y",
        "outputId": "5ed84111-ca4b-4997-ba40-b0a972470d4b"
      },
      "execution_count": null,
      "outputs": [
        {
          "output_type": "stream",
          "name": "stdout",
          "text": [
            "Using device: cuda\n"
          ]
        }
      ]
    },
    {
      "cell_type": "code",
      "source": [
        "# calculating accuracy\n",
        "def calculate_accuracy(y_pred, y):\n",
        "    top_pred = ...\n",
        "    correct = ...\n",
        "    acc = ...\n",
        "    return acc"
      ],
      "metadata": {
        "id": "qHfSK-7pwATE"
      },
      "execution_count": null,
      "outputs": []
    },
    {
      "cell_type": "code",
      "source": [
        "def train(mlp, iterator, optimizer, criterion, device):\n",
        "    epoch_loss = 0\n",
        "    epoch_acc = 0\n",
        "\n",
        "    mlp.train()\n",
        "\n",
        "    for (x, y) in iterator:\n",
        "        x = x.to(device)\n",
        "        y = y.to(device)\n",
        "\n",
        "        optimizer.zero_grad()\n",
        "\n",
        "        y_pred, _ = mlp(x)\n",
        "        loss = criterion(y_pred, y)\n",
        "        acc = calculate_accuracy(y_pred, y)\n",
        "\n",
        "        loss.backward()\n",
        "\n",
        "        optimizer.step()\n",
        "\n",
        "        epoch_loss += loss.item()\n",
        "        epoch_acc += acc.item()\n",
        "\n",
        "    return epoch_loss / len(iterator), epoch_acc / len(iterator)"
      ],
      "metadata": {
        "id": "HIEcVowkwDU5"
      },
      "execution_count": null,
      "outputs": []
    },
    {
      "cell_type": "code",
      "source": [
        "def evaluate(mlp, iterator, criterion, device):\n",
        "    epoch_loss = 0\n",
        "    epoch_acc = 0\n",
        "\n",
        "    mlp.eval()\n",
        "\n",
        "    with torch.no_grad():\n",
        "        for (x, y) in iterator:\n",
        "            x = x.to(device)\n",
        "            y = y.to(device)\n",
        "\n",
        "            y_pred, _ = mlp(x)\n",
        "            loss = criterion(y_pred, y)\n",
        "            acc = calculate_accuracy(y_pred, y)\n",
        "\n",
        "            epoch_loss += loss.item()\n",
        "            epoch_acc += acc.item()\n",
        "\n",
        "    return epoch_loss / len(iterator), epoch_acc / len(iterator)"
      ],
      "metadata": {
        "id": "syb_ykPVwKUf"
      },
      "execution_count": null,
      "outputs": []
    },
    {
      "cell_type": "code",
      "source": [
        "def train_target_model(epochs):\n",
        "    # set criterion and optimizer\n",
        "    criterion = ...\n",
        "    # criterion\n",
        "    optimizer = ...\n",
        "\n",
        "    best_valid_loss = float('inf')\n",
        "\n",
        "    print('---Target Model Training Started---')\n",
        "    for epoch in range(epochs):\n",
        "        # train algorithm\n",
        "        train_loss, train_acc = ...\n",
        "        # evaluate algorithm\n",
        "        valid_loss, valid_acc = ...\n",
        "\n",
        "        if valid_loss < best_valid_loss:\n",
        "            best_valid_loss = valid_loss\n",
        "\n",
        "        print(f'Epoch: {epoch + 1:02}')\n",
        "        print(f'\\tTrain Loss: {train_loss:.3f} | Train Acc: {train_acc * 100:.2f}%')\n",
        "        print(f'\\t Val. Loss: {valid_loss:.3f} |  Val. Acc: {valid_acc * 100:.2f}%')\n",
        "\n",
        "    torch.save(mlp.state_dict(), 'atnt-mlp-model.pth')\n",
        "    print('---Target Model Training Done---')"
      ],
      "metadata": {
        "id": "wUZF4ANcwSMR"
      },
      "execution_count": null,
      "outputs": []
    },
    {
      "cell_type": "code",
      "source": [
        "train_target_model(20)"
      ],
      "metadata": {
        "id": "aHNspa7MwU5K",
        "colab": {
          "base_uri": "https://localhost:8080/"
        },
        "outputId": "7f4c42af-03c2-4548-9f9f-611438df3eee"
      },
      "execution_count": null,
      "outputs": [
        {
          "output_type": "stream",
          "name": "stdout",
          "text": [
            "---Target Model Training Started---\n",
            "Epoch: 01\n",
            "\tTrain Loss: 4.447 | Train Acc: 13.15%\n",
            "\t Val. Loss: 2.353 |  Val. Acc: 44.27%\n",
            "Epoch: 02\n",
            "\tTrain Loss: 1.863 | Train Acc: 62.11%\n",
            "\t Val. Loss: 1.898 |  Val. Acc: 45.31%\n",
            "Epoch: 03\n",
            "\tTrain Loss: 1.113 | Train Acc: 76.82%\n",
            "\t Val. Loss: 1.088 |  Val. Acc: 83.85%\n",
            "Epoch: 04\n",
            "\tTrain Loss: 0.500 | Train Acc: 97.92%\n",
            "\t Val. Loss: 0.740 |  Val. Acc: 90.62%\n",
            "Epoch: 05\n",
            "\tTrain Loss: 0.264 | Train Acc: 99.61%\n",
            "\t Val. Loss: 0.554 |  Val. Acc: 92.71%\n",
            "Epoch: 06\n",
            "\tTrain Loss: 0.137 | Train Acc: 100.00%\n",
            "\t Val. Loss: 0.450 |  Val. Acc: 94.27%\n",
            "Epoch: 07\n",
            "\tTrain Loss: 0.079 | Train Acc: 100.00%\n",
            "\t Val. Loss: 0.380 |  Val. Acc: 95.31%\n",
            "Epoch: 08\n",
            "\tTrain Loss: 0.050 | Train Acc: 100.00%\n",
            "\t Val. Loss: 0.321 |  Val. Acc: 94.79%\n",
            "Epoch: 09\n",
            "\tTrain Loss: 0.032 | Train Acc: 100.00%\n",
            "\t Val. Loss: 0.277 |  Val. Acc: 95.31%\n",
            "Epoch: 10\n",
            "\tTrain Loss: 0.022 | Train Acc: 100.00%\n",
            "\t Val. Loss: 0.244 |  Val. Acc: 95.31%\n",
            "Epoch: 11\n",
            "\tTrain Loss: 0.017 | Train Acc: 100.00%\n",
            "\t Val. Loss: 0.225 |  Val. Acc: 95.31%\n",
            "Epoch: 12\n",
            "\tTrain Loss: 0.013 | Train Acc: 100.00%\n",
            "\t Val. Loss: 0.213 |  Val. Acc: 95.31%\n",
            "Epoch: 13\n",
            "\tTrain Loss: 0.011 | Train Acc: 100.00%\n",
            "\t Val. Loss: 0.204 |  Val. Acc: 95.31%\n",
            "Epoch: 14\n",
            "\tTrain Loss: 0.009 | Train Acc: 100.00%\n",
            "\t Val. Loss: 0.198 |  Val. Acc: 95.31%\n",
            "Epoch: 15\n",
            "\tTrain Loss: 0.008 | Train Acc: 100.00%\n",
            "\t Val. Loss: 0.193 |  Val. Acc: 95.31%\n",
            "Epoch: 16\n",
            "\tTrain Loss: 0.007 | Train Acc: 100.00%\n",
            "\t Val. Loss: 0.190 |  Val. Acc: 95.31%\n",
            "Epoch: 17\n",
            "\tTrain Loss: 0.007 | Train Acc: 100.00%\n",
            "\t Val. Loss: 0.187 |  Val. Acc: 95.31%\n",
            "Epoch: 18\n",
            "\tTrain Loss: 0.006 | Train Acc: 100.00%\n",
            "\t Val. Loss: 0.184 |  Val. Acc: 95.31%\n",
            "Epoch: 19\n",
            "\tTrain Loss: 0.006 | Train Acc: 100.00%\n",
            "\t Val. Loss: 0.181 |  Val. Acc: 95.31%\n",
            "Epoch: 20\n",
            "\tTrain Loss: 0.005 | Train Acc: 100.00%\n",
            "\t Val. Loss: 0.179 |  Val. Acc: 95.31%\n",
            "---Target Model Training Done---\n"
          ]
        }
      ]
    },
    {
      "cell_type": "markdown",
      "source": [
        "# Starting Model Inversion Attack"
      ],
      "metadata": {
        "id": "9wLYOR0FxEdG"
      }
    },
    {
      "cell_type": "code",
      "source": [
        "import random\n",
        "import torch\n",
        "import torch.nn as nn\n",
        "import matplotlib.pyplot as plt\n",
        "# from target_model import TargetModel, train_target_model\n",
        "\n",
        "import argparse"
      ],
      "metadata": {
        "id": "Y2qNwqnwwyC9"
      },
      "execution_count": null,
      "outputs": []
    },
    {
      "cell_type": "code",
      "source": [
        "device = torch.device('cuda' if torch.cuda.is_available() else 'cpu')\n",
        "print('Using device: %s' % device)\n",
        "# define dimensions\n",
        "INPUT_DIM = 112 * 92\n",
        "OUTPUT_DIM = 40"
      ],
      "metadata": {
        "colab": {
          "base_uri": "https://localhost:8080/"
        },
        "id": "Fa4SgU3KxA5m",
        "outputId": "950cb581-7888-4dea-c631-44e9ac8586ca"
      },
      "execution_count": null,
      "outputs": [
        {
          "output_type": "stream",
          "name": "stdout",
          "text": [
            "Using device: cuda\n"
          ]
        }
      ]
    },
    {
      "cell_type": "code",
      "source": [
        "def mi_face(label_index, model, num_iterations, gradient_step, loss_function):\n",
        "    model.to(device)\n",
        "    model.eval()\n",
        "\n",
        "    # initialize two 112 * 92 tensors with zeros\n",
        "    tensor = ...\n",
        "    image = ...\n",
        "\n",
        "    # initialize with infinity\n",
        "    min_loss = float(\"inf\")\n",
        "\n",
        "    for i in range(num_iterations):\n",
        "        tensor.requires_grad = True\n",
        "\n",
        "        # get the prediction probs\n",
        "        pred, _ = ...\n",
        "\n",
        "        # calculate the loss and gardient for the class we want to reconstruct\n",
        "        if loss_function == \"crossEntropy\":\n",
        "            # use this\n",
        "            crit = ...\n",
        "            loss = ...\n",
        "        else:\n",
        "            # or this\n",
        "            soft_pred = nn.functional.softmax(pred, 1)\n",
        "            loss = soft_pred.squeeze()[label_index]\n",
        "        print('Loss: ' + str(loss.item()))\n",
        "\n",
        "        loss.backward()\n",
        "\n",
        "        with torch.no_grad():\n",
        "            # apply gradient descent\n",
        "            tensor = ...\n",
        "\n",
        "        # set image = tensor only if the new loss is the min from all iterations\n",
        "        if loss < min_loss:\n",
        "            min_loss = ...\n",
        "            image = ...\n",
        "\n",
        "    return image"
      ],
      "metadata": {
        "id": "5bHhHcQgxJco"
      },
      "execution_count": null,
      "outputs": []
    },
    {
      "cell_type": "code",
      "source": [
        "def perform_pretrained_dummy(iterations, loss_function, generate_specific_class):\n",
        "    # find the path of the stored model parameters\n",
        "    data_path = ...\n",
        "    # create a target model structure to attack\n",
        "    model = ...\n",
        "    # load the trained model parameter to the targetmodel structure\n",
        "    model....\n",
        "\n",
        "    if generate_specific_class == -1:\n",
        "        print('\\nStart model inversion for all classes\\n')\n",
        "        perform_attack_and_print_all_results(model, iterations, loss_function)\n",
        "    else:\n",
        "        print('\\nstart model inversion for class ' + str(generate_specific_class) + '\\n')\n",
        "        perform_attack_and_print_one_result(model, iterations, loss_function, generate_specific_class)"
      ],
      "metadata": {
        "id": "1VjLO_Niyd63"
      },
      "execution_count": null,
      "outputs": []
    },
    {
      "cell_type": "code",
      "source": [
        "def perform_attack_and_print_all_results(model, iterations, loss_function):\n",
        "\n",
        "    gradient_step_size = 0.1\n",
        "\n",
        "    # print all pictures\n",
        "    # create figure\n",
        "    fig, axs = plt.subplots(8, 10)\n",
        "    fig.set_size_inches(20, 24)\n",
        "    random.seed(7)\n",
        "    count = 0\n",
        "    for i in range(0, 8, 2):\n",
        "        for j in range(10):\n",
        "            # get random validation set image from respective class\n",
        "            count += 1\n",
        "            print('\\nReconstructing Class ' + str(count))\n",
        "\n",
        "            ran = random.randint(1, 2)\n",
        "            path = 'ModelInversion/data_pgm/s0' + str(count) + '/' + str(\n",
        "                ran) + '.pgm' if count < 10 else 'ModelInversion/data_pgm/s' + str(count) + '/' + str(ran) + '.pgm'\n",
        "\n",
        "            with open(path, 'rb') as f:\n",
        "                original = plt.imread(f)\n",
        "\n",
        "            # reconstruct respective class\n",
        "            reconstruction = mi_face(count - 1, model, iterations, gradient_step_size, loss_function)\n",
        "\n",
        "            # add both images to the plot\n",
        "            axs[i, j].imshow(original, cmap='gray')\n",
        "            axs[i + 1, j].imshow(reconstruction.squeeze().detach().numpy(), cmap='gray')\n",
        "            axs[i, j].axis('off')\n",
        "            axs[i + 1, j].axis('off')\n",
        "\n",
        "    # plot reconstructed image\n",
        "    fig.suptitle('Images reconstructed with ' + str(\n",
        "        iterations) + ' iterations of mi_face. Find the reconstruction below each row with train set samples.',\n",
        "                 fontsize=20)\n",
        "    fig.savefig('ModelInversion/results/results_' + str(iterations) + '.png', dpi=100)\n",
        "    plt.show()\n",
        "    print('\\nReconstruction Results can be found in results folder')"
      ],
      "metadata": {
        "id": "8MgC3h2UyjYF"
      },
      "execution_count": null,
      "outputs": []
    },
    {
      "cell_type": "code",
      "source": [
        "def perform_attack_and_print_one_result (model,  iterations, loss_function, generate_specific_class):\n",
        "    # set params\n",
        "    gradient_step_size = 0.1\n",
        "\n",
        "    # create figure\n",
        "    fig, (ax1, ax2) = plt.subplots(1, 2, constrained_layout=True, sharey=True)\n",
        "    # reconstruction for class 0\n",
        "    reconstruction = mi_face(generate_specific_class-1, model, iterations, gradient_step_size, loss_function)\n",
        "    ran = random.randint(1, 2)\n",
        "    path = 'ModelInversion/data_pgm/s0' + str(generate_specific_class) + '/' + str(\n",
        "        ran) + '.pgm' if generate_specific_class < 10 else 'ModelInversion/data_pgm/s' + str(generate_specific_class) + '/' + str(ran) + '.pgm'\n",
        "\n",
        "    with open(path, 'rb') as f:\n",
        "        original = plt.imread(f)\n",
        "    # add both images to the plot\n",
        "    ax1.imshow(original, cmap='gray')\n",
        "    ax1.set_title('Sample train set image')\n",
        "    ax1.axis('off')\n",
        "    ax2.imshow(reconstruction.squeeze().detach().numpy(), cmap='gray')\n",
        "    ax2.set_title('Reconstructed image')\n",
        "    ax2.axis('off')\n",
        "\n",
        "    # plot reconstructed image\n",
        "    fig.suptitle('Images reconstructed with\\n ' + str(\n",
        "        iterations) + ' iterations of mi_face. ', fontsize=15)\n",
        "    fig.savefig('ModelInversion/results/results_' + str(iterations) + '.png', dpi=100)\n",
        "    plt.show()\n",
        "    print('Reconstruction Results can be found in results folder')"
      ],
      "metadata": {
        "id": "LApiYA6qyk5d"
      },
      "execution_count": null,
      "outputs": []
    },
    {
      "cell_type": "code",
      "source": [
        "# test different attacks\n",
        "perform_pretrained_dummy(...)"
      ],
      "metadata": {
        "id": "NvctGRdyyrFx"
      },
      "execution_count": null,
      "outputs": []
    },
    {
      "cell_type": "markdown",
      "source": [
        "## Model Extraction Attack (with ART tool)"
      ],
      "metadata": {
        "id": "GLKpR6SH8OYJ"
      }
    },
    {
      "cell_type": "code",
      "source": [
        "!pip install adversarial-robustness-toolbox"
      ],
      "metadata": {
        "id": "0BESmtAs8Mev",
        "colab": {
          "base_uri": "https://localhost:8080/"
        },
        "outputId": "709cbc56-a910-4731-8581-88660d214234"
      },
      "execution_count": null,
      "outputs": [
        {
          "output_type": "stream",
          "name": "stdout",
          "text": [
            "Collecting adversarial-robustness-toolbox\n",
            "  Downloading adversarial_robustness_toolbox-1.16.0-py3-none-any.whl (1.6 MB)\n",
            "\u001b[2K     \u001b[90m━━━━━━━━━━━━━━━━━━━━━━━━━━━━━━━━━━━━━━━━\u001b[0m \u001b[32m1.6/1.6 MB\u001b[0m \u001b[31m17.8 MB/s\u001b[0m eta \u001b[36m0:00:00\u001b[0m\n",
            "\u001b[?25hRequirement already satisfied: numpy>=1.18.0 in /usr/local/lib/python3.10/dist-packages (from adversarial-robustness-toolbox) (1.23.5)\n",
            "Requirement already satisfied: scipy>=1.4.1 in /usr/local/lib/python3.10/dist-packages (from adversarial-robustness-toolbox) (1.11.3)\n",
            "Collecting scikit-learn<1.2.0,>=0.22.2 (from adversarial-robustness-toolbox)\n",
            "  Downloading scikit_learn-1.1.3-cp310-cp310-manylinux_2_17_x86_64.manylinux2014_x86_64.whl (30.5 MB)\n",
            "\u001b[2K     \u001b[90m━━━━━━━━━━━━━━━━━━━━━━━━━━━━━━━━━━━━━━━━\u001b[0m \u001b[32m30.5/30.5 MB\u001b[0m \u001b[31m43.4 MB/s\u001b[0m eta \u001b[36m0:00:00\u001b[0m\n",
            "\u001b[?25hRequirement already satisfied: six in /usr/local/lib/python3.10/dist-packages (from adversarial-robustness-toolbox) (1.16.0)\n",
            "Requirement already satisfied: setuptools in /usr/local/lib/python3.10/dist-packages (from adversarial-robustness-toolbox) (67.7.2)\n",
            "Requirement already satisfied: tqdm in /usr/local/lib/python3.10/dist-packages (from adversarial-robustness-toolbox) (4.66.1)\n",
            "Requirement already satisfied: joblib>=1.0.0 in /usr/local/lib/python3.10/dist-packages (from scikit-learn<1.2.0,>=0.22.2->adversarial-robustness-toolbox) (1.3.2)\n",
            "Requirement already satisfied: threadpoolctl>=2.0.0 in /usr/local/lib/python3.10/dist-packages (from scikit-learn<1.2.0,>=0.22.2->adversarial-robustness-toolbox) (3.2.0)\n",
            "Installing collected packages: scikit-learn, adversarial-robustness-toolbox\n",
            "  Attempting uninstall: scikit-learn\n",
            "    Found existing installation: scikit-learn 1.2.2\n",
            "    Uninstalling scikit-learn-1.2.2:\n",
            "      Successfully uninstalled scikit-learn-1.2.2\n",
            "\u001b[31mERROR: pip's dependency resolver does not currently take into account all the packages that are installed. This behaviour is the source of the following dependency conflicts.\n",
            "bigframes 0.13.0 requires scikit-learn>=1.2.2, but you have scikit-learn 1.1.3 which is incompatible.\u001b[0m\u001b[31m\n",
            "\u001b[0mSuccessfully installed adversarial-robustness-toolbox-1.16.0 scikit-learn-1.1.3\n"
          ]
        }
      ]
    },
    {
      "cell_type": "code",
      "source": [
        "import numpy as np\n",
        "import matplotlib.pyplot as plt\n",
        "%matplotlib inline\n",
        "\n",
        "\n",
        "import tensorflow as tf\n",
        "import keras\n",
        "from keras.models import Sequential\n",
        "from keras.layers import Dense, Flatten, Conv2D, MaxPooling2D, Flatten, InputLayer, Reshape\n",
        "\n",
        "from art.estimators.classification import KerasClassifier\n",
        "\n",
        "tf.compat.v1.disable_eager_execution()"
      ],
      "metadata": {
        "id": "Dd026UUV8s8h"
      },
      "execution_count": null,
      "outputs": []
    },
    {
      "cell_type": "code",
      "source": [
        "import art\n",
        "from art.utils import load_mnist\n",
        "\n",
        "# Load the dataset, and split the test data into test and steal datasets.\n",
        "(x_train, y_train), (x_test0, y_test0), _, _ = load_mnist()\n",
        "len_steal = 5000\n",
        "indices = np.random.permutation(len(x_test0))\n",
        "# split the test data into test and steal datasets.\n",
        "x_steal = ...\n",
        "y_steal =...\n",
        "x_test = ...\n",
        "y_test = ...\n",
        "\n",
        "im_shape = x_train[0].shape\n",
        "\n",
        "# define the target model structure\n",
        "def get_model(num_classes=10, c1=32, c2=64, d1=128):\n",
        "    model = Sequential()\n",
        "    model.add(Conv2D(c1, kernel_size=(3, 3), activation='relu', input_shape=im_shape))\n",
        "    model.add(Conv2D(c2, (3, 3), activation='relu'))\n",
        "    model.add(MaxPooling2D(pool_size=(2, 2)))\n",
        "    model.add(Flatten())\n",
        "    model.add(Dense(d1, activation='relu'))\n",
        "    model.add(Dense(num_classes, activation='softmax'))\n",
        "    model.compile(loss=keras.losses.categorical_crossentropy, optimizer=\"sgd\",\n",
        "                          metrics=['accuracy'])\n",
        "    return model"
      ],
      "metadata": {
        "id": "BTXib-re8xyB"
      },
      "execution_count": null,
      "outputs": []
    },
    {
      "cell_type": "code",
      "source": [
        "# Train the original model.\n",
        "num_epochs = 5\n",
        "# get the model for training\n",
        "model = ...\n",
        "print(\"Original model training:\")\n",
        "# train the model with training dataset\n",
        "model....\n",
        "print(\"Original model evaluation:\")\n",
        "# evaluate the model with testing dataset\n",
        "print(model....)\n",
        "classifier_original = KerasClassifier(model, clip_values=(0, 1), use_logits=False)"
      ],
      "metadata": {
        "colab": {
          "base_uri": "https://localhost:8080/"
        },
        "id": "6ax4dLVG81iG",
        "outputId": "732bd1a6-5d40-42cd-ccda-f43681dd9dc8"
      },
      "execution_count": null,
      "outputs": [
        {
          "output_type": "stream",
          "name": "stdout",
          "text": [
            "Original model training:\n",
            "Train on 60000 samples\n",
            "Epoch 1/5\n",
            "60000/60000 [==============================] - 10s 168us/sample - loss: 0.6029 - accuracy: 0.8399\n",
            "Epoch 2/5\n",
            "60000/60000 [==============================] - 3s 56us/sample - loss: 0.2392 - accuracy: 0.9286\n",
            "Epoch 3/5\n",
            "60000/60000 [==============================] - 3s 55us/sample - loss: 0.1830 - accuracy: 0.9454\n",
            "Epoch 4/5\n",
            "60000/60000 [==============================] - 4s 60us/sample - loss: 0.1494 - accuracy: 0.9547\n",
            "Epoch 5/5\n",
            "60000/60000 [==============================] - 4s 61us/sample - loss: 0.1282 - accuracy: 0.9614\n",
            "Original model evaluation:\n"
          ]
        },
        {
          "output_type": "stream",
          "name": "stderr",
          "text": [
            "/usr/local/lib/python3.10/dist-packages/keras/src/engine/training_v1.py:2335: UserWarning: `Model.state_updates` will be removed in a future version. This property should not be used in TensorFlow 2.0, as `updates` are applied automatically.\n",
            "  updates = self.state_updates\n"
          ]
        },
        {
          "output_type": "stream",
          "name": "stdout",
          "text": [
            "[0.1169010284371674, 0.9652]\n"
          ]
        }
      ]
    },
    {
      "cell_type": "code",
      "source": [
        "# Stealing from the unprotected classifier.\n",
        "from art.attacks import ExtractionAttack\n",
        "from art.attacks.extraction import CopycatCNN, KnockoffNets\n",
        "\n",
        "attack_catalogue = {\"Probabilistic CopycatCNN\": CopycatCNN(classifier=classifier_original,\n",
        "                                              batch_size_fit=64,\n",
        "                                              batch_size_query=64,\n",
        "                                              nb_epochs=num_epochs,\n",
        "                                              nb_stolen=len_steal,\n",
        "                                              use_probability=True),\n",
        "                    \"Argmax CopycatCNN\": CopycatCNN(classifier=classifier_original,\n",
        "                                              batch_size_fit=64,\n",
        "                                              batch_size_query=64,\n",
        "                                              nb_epochs=num_epochs,\n",
        "                                              nb_stolen=len_steal,\n",
        "                                              use_probability=False),\n",
        "                    \"Probabilistic KnockoffNets\": KnockoffNets(classifier=classifier_original,\n",
        "                                              batch_size_fit=64,\n",
        "                                              batch_size_query=64,\n",
        "                                              nb_epochs=num_epochs,\n",
        "                                              nb_stolen=len_steal,\n",
        "                                              use_probability=True),\n",
        "                    \"Argmax KnockoffNets\": KnockoffNets(classifier=classifier_original,\n",
        "                                              batch_size_fit=64,\n",
        "                                              batch_size_query=64,\n",
        "                                              nb_epochs=num_epochs,\n",
        "                                              nb_stolen=len_steal,\n",
        "                                              use_probability=False),\n",
        "                   }\n",
        "\n",
        "results = []\n",
        "for len_steal in [250, 500, 1000, 2000, 4000, 5000]:\n",
        "    indices = np.random.permutation(len(x_test0))\n",
        "    x_steal = x_test0[indices[:len_steal]]\n",
        "    y_steal = y_test0[indices[:len_steal]]\n",
        "    x_test = x_test0[indices[len_steal:]]\n",
        "    y_test = y_test0[indices[len_steal:]]\n",
        "\n",
        "    for name, attack in attack_catalogue.items():\n",
        "        model_stolen = get_model(num_classes=10, c1=32, c2=64, d1=128)\n",
        "        # build a classifier with KerasClassifier\n",
        "        classifier_stolen = ...\n",
        "        # use attack.extract to perform attack\n",
        "        classifier_stolen = ...\n",
        "        acc = classifier_stolen._model.evaluate(x_test, y_test)[1]\n",
        "        print(name, \":\", acc)\n",
        "        results.append((name, len_steal, acc))"
      ],
      "metadata": {
        "colab": {
          "base_uri": "https://localhost:8080/"
        },
        "id": "zMn26nVY9Eu_",
        "outputId": "ed2cbd8e-ee17-4c06-89f8-30fa424e0c9c"
      },
      "execution_count": null,
      "outputs": [
        {
          "output_type": "stream",
          "name": "stderr",
          "text": [
            "WARNING:art.attacks.extraction.copycat_cnn:This attack does not use the provided label y.\n",
            "WARNING:art.attacks.extraction.copycat_cnn:The size of the source input is smaller than the expected number of queries submitted to the victim classifier.\n",
            "/usr/local/lib/python3.10/dist-packages/keras/src/engine/training_v1.py:2359: UserWarning: `Model.state_updates` will be removed in a future version. This property should not be used in TensorFlow 2.0, as `updates` are applied automatically.\n",
            "  updates=self.state_updates,\n"
          ]
        },
        {
          "output_type": "stream",
          "name": "stdout",
          "text": [
            "Train on 250 samples\n",
            "Epoch 1/5\n",
            "250/250 [==============================] - 0s 1ms/sample - loss: 2.2789 - accuracy: 0.1520\n",
            "Epoch 2/5\n",
            "250/250 [==============================] - 0s 129us/sample - loss: 2.2568 - accuracy: 0.2640\n",
            "Epoch 3/5\n",
            "250/250 [==============================] - 0s 101us/sample - loss: 2.2338 - accuracy: 0.4560\n",
            "Epoch 4/5\n",
            "250/250 [==============================] - 0s 106us/sample - loss: 2.2101 - accuracy: 0.5560\n",
            "Epoch 5/5\n",
            "250/250 [==============================] - 0s 98us/sample - loss: 2.1828 - accuracy: 0.6200\n",
            "Probabilistic CopycatCNN : 0.53979486\n"
          ]
        },
        {
          "output_type": "stream",
          "name": "stderr",
          "text": [
            "WARNING:art.attacks.extraction.copycat_cnn:This attack does not use the provided label y.\n",
            "WARNING:art.attacks.extraction.copycat_cnn:The size of the source input is smaller than the expected number of queries submitted to the victim classifier.\n"
          ]
        },
        {
          "output_type": "stream",
          "name": "stdout",
          "text": [
            "Train on 250 samples\n",
            "Epoch 1/5\n",
            "250/250 [==============================] - 0s 291us/sample - loss: 2.3079 - accuracy: 0.0920\n",
            "Epoch 2/5\n",
            "250/250 [==============================] - 0s 95us/sample - loss: 2.2919 - accuracy: 0.1200\n",
            "Epoch 3/5\n",
            "250/250 [==============================] - 0s 85us/sample - loss: 2.2755 - accuracy: 0.1400\n",
            "Epoch 4/5\n",
            "250/250 [==============================] - 0s 86us/sample - loss: 2.2599 - accuracy: 0.1800\n",
            "Epoch 5/5\n",
            "250/250 [==============================] - 0s 83us/sample - loss: 2.2434 - accuracy: 0.2080\n"
          ]
        },
        {
          "output_type": "stream",
          "name": "stderr",
          "text": [
            "WARNING:art.attacks.extraction.knockoff_nets:This attack with random sampling strategy does not use the provided label y.\n",
            "WARNING:art.attacks.extraction.knockoff_nets:The size of the source input is smaller than the expected number of queries submitted to the victim classifier.\n"
          ]
        },
        {
          "output_type": "stream",
          "name": "stdout",
          "text": [
            "Argmax CopycatCNN : 0.25815386\n"
          ]
        },
        {
          "output_type": "stream",
          "name": "stderr",
          "text": [
            "WARNING:art.attacks.extraction.knockoff_nets:This attack with random sampling strategy does not use the provided label y.\n",
            "WARNING:art.attacks.extraction.knockoff_nets:The size of the source input is smaller than the expected number of queries submitted to the victim classifier.\n"
          ]
        },
        {
          "output_type": "stream",
          "name": "stdout",
          "text": [
            "Probabilistic KnockoffNets : 0.33394873\n"
          ]
        },
        {
          "output_type": "stream",
          "name": "stderr",
          "text": [
            "WARNING:art.attacks.extraction.copycat_cnn:This attack does not use the provided label y.\n",
            "WARNING:art.attacks.extraction.copycat_cnn:The size of the source input is smaller than the expected number of queries submitted to the victim classifier.\n"
          ]
        },
        {
          "output_type": "stream",
          "name": "stdout",
          "text": [
            "Argmax KnockoffNets : 0.20902564\n",
            "Train on 500 samples\n",
            "Epoch 1/5\n",
            "500/500 [==============================] - 0s 454us/sample - loss: 2.2972 - accuracy: 0.1220\n",
            "Epoch 2/5\n",
            "500/500 [==============================] - 0s 90us/sample - loss: 2.2554 - accuracy: 0.1220\n",
            "Epoch 3/5\n",
            "500/500 [==============================] - 0s 83us/sample - loss: 2.2106 - accuracy: 0.1800\n",
            "Epoch 4/5\n",
            "500/500 [==============================] - 0s 79us/sample - loss: 2.1566 - accuracy: 0.2240\n",
            "Epoch 5/5\n",
            "500/500 [==============================] - 0s 78us/sample - loss: 2.0861 - accuracy: 0.3880\n"
          ]
        },
        {
          "output_type": "stream",
          "name": "stderr",
          "text": [
            "WARNING:art.attacks.extraction.copycat_cnn:This attack does not use the provided label y.\n",
            "WARNING:art.attacks.extraction.copycat_cnn:The size of the source input is smaller than the expected number of queries submitted to the victim classifier.\n"
          ]
        },
        {
          "output_type": "stream",
          "name": "stdout",
          "text": [
            "Probabilistic CopycatCNN : 0.4303158\n",
            "Train on 500 samples\n",
            "Epoch 1/5\n",
            "500/500 [==============================] - 0s 229us/sample - loss: 2.3087 - accuracy: 0.0920\n",
            "Epoch 2/5\n",
            "500/500 [==============================] - 0s 83us/sample - loss: 2.2909 - accuracy: 0.1480\n",
            "Epoch 3/5\n",
            "500/500 [==============================] - 0s 80us/sample - loss: 2.2733 - accuracy: 0.2500\n",
            "Epoch 4/5\n",
            "500/500 [==============================] - 0s 79us/sample - loss: 2.2550 - accuracy: 0.3280\n",
            "Epoch 5/5\n",
            "500/500 [==============================] - 0s 76us/sample - loss: 2.2344 - accuracy: 0.3860\n"
          ]
        },
        {
          "output_type": "stream",
          "name": "stderr",
          "text": [
            "WARNING:art.attacks.extraction.knockoff_nets:This attack with random sampling strategy does not use the provided label y.\n",
            "WARNING:art.attacks.extraction.knockoff_nets:The size of the source input is smaller than the expected number of queries submitted to the victim classifier.\n"
          ]
        },
        {
          "output_type": "stream",
          "name": "stdout",
          "text": [
            "Argmax CopycatCNN : 0.36178946\n"
          ]
        },
        {
          "output_type": "stream",
          "name": "stderr",
          "text": [
            "WARNING:art.attacks.extraction.knockoff_nets:This attack with random sampling strategy does not use the provided label y.\n",
            "WARNING:art.attacks.extraction.knockoff_nets:The size of the source input is smaller than the expected number of queries submitted to the victim classifier.\n"
          ]
        },
        {
          "output_type": "stream",
          "name": "stdout",
          "text": [
            "Probabilistic KnockoffNets : 0.4711579\n",
            "Argmax KnockoffNets : 0.37894738\n"
          ]
        },
        {
          "output_type": "stream",
          "name": "stderr",
          "text": [
            "WARNING:art.attacks.extraction.copycat_cnn:This attack does not use the provided label y.\n",
            "WARNING:art.attacks.extraction.copycat_cnn:The size of the source input is smaller than the expected number of queries submitted to the victim classifier.\n"
          ]
        },
        {
          "output_type": "stream",
          "name": "stdout",
          "text": [
            "Train on 1000 samples\n",
            "Epoch 1/5\n",
            "1000/1000 [==============================] - 0s 327us/sample - loss: 2.2836 - accuracy: 0.1750\n",
            "Epoch 2/5\n",
            "1000/1000 [==============================] - 0s 95us/sample - loss: 2.2401 - accuracy: 0.3580\n",
            "Epoch 3/5\n",
            "1000/1000 [==============================] - 0s 89us/sample - loss: 2.1765 - accuracy: 0.5180\n",
            "Epoch 4/5\n",
            "1000/1000 [==============================] - 0s 83us/sample - loss: 2.0675 - accuracy: 0.6260\n",
            "Epoch 5/5\n",
            "1000/1000 [==============================] - 0s 81us/sample - loss: 1.8656 - accuracy: 0.6580\n",
            "Probabilistic CopycatCNN : 0.7138889\n"
          ]
        },
        {
          "output_type": "stream",
          "name": "stderr",
          "text": [
            "WARNING:art.attacks.extraction.copycat_cnn:This attack does not use the provided label y.\n",
            "WARNING:art.attacks.extraction.copycat_cnn:The size of the source input is smaller than the expected number of queries submitted to the victim classifier.\n"
          ]
        },
        {
          "output_type": "stream",
          "name": "stdout",
          "text": [
            "Train on 1000 samples\n",
            "Epoch 1/5\n",
            "1000/1000 [==============================] - 0s 223us/sample - loss: 2.2716 - accuracy: 0.2330\n",
            "Epoch 2/5\n",
            "1000/1000 [==============================] - 0s 109us/sample - loss: 2.1966 - accuracy: 0.3750\n",
            "Epoch 3/5\n",
            "1000/1000 [==============================] - 0s 109us/sample - loss: 2.0816 - accuracy: 0.5680\n",
            "Epoch 4/5\n",
            "1000/1000 [==============================] - 0s 106us/sample - loss: 1.8628 - accuracy: 0.6330\n",
            "Epoch 5/5\n",
            "1000/1000 [==============================] - 0s 96us/sample - loss: 1.4578 - accuracy: 0.7710\n"
          ]
        },
        {
          "output_type": "stream",
          "name": "stderr",
          "text": [
            "WARNING:art.attacks.extraction.knockoff_nets:This attack with random sampling strategy does not use the provided label y.\n",
            "WARNING:art.attacks.extraction.knockoff_nets:The size of the source input is smaller than the expected number of queries submitted to the victim classifier.\n"
          ]
        },
        {
          "output_type": "stream",
          "name": "stdout",
          "text": [
            "Argmax CopycatCNN : 0.74377775\n"
          ]
        },
        {
          "output_type": "stream",
          "name": "stderr",
          "text": [
            "WARNING:art.attacks.extraction.knockoff_nets:This attack with random sampling strategy does not use the provided label y.\n",
            "WARNING:art.attacks.extraction.knockoff_nets:The size of the source input is smaller than the expected number of queries submitted to the victim classifier.\n"
          ]
        },
        {
          "output_type": "stream",
          "name": "stdout",
          "text": [
            "Probabilistic KnockoffNets : 0.73355556\n"
          ]
        },
        {
          "output_type": "stream",
          "name": "stderr",
          "text": [
            "WARNING:art.attacks.extraction.copycat_cnn:This attack does not use the provided label y.\n",
            "WARNING:art.attacks.extraction.copycat_cnn:The size of the source input is smaller than the expected number of queries submitted to the victim classifier.\n"
          ]
        },
        {
          "output_type": "stream",
          "name": "stdout",
          "text": [
            "Argmax KnockoffNets : 0.73066664\n",
            "Train on 2000 samples\n",
            "Epoch 1/5\n",
            "2000/2000 [==============================] - 0s 147us/sample - loss: 2.2682 - accuracy: 0.2805\n",
            "Epoch 2/5\n",
            "2000/2000 [==============================] - 0s 75us/sample - loss: 2.1368 - accuracy: 0.5765\n",
            "Epoch 3/5\n",
            "2000/2000 [==============================] - 0s 69us/sample - loss: 1.7202 - accuracy: 0.7030\n",
            "Epoch 4/5\n",
            "2000/2000 [==============================] - 0s 68us/sample - loss: 0.9556 - accuracy: 0.7955\n",
            "Epoch 5/5\n",
            "2000/2000 [==============================] - 0s 71us/sample - loss: 0.5930 - accuracy: 0.8555\n"
          ]
        },
        {
          "output_type": "stream",
          "name": "stderr",
          "text": [
            "WARNING:art.attacks.extraction.copycat_cnn:This attack does not use the provided label y.\n",
            "WARNING:art.attacks.extraction.copycat_cnn:The size of the source input is smaller than the expected number of queries submitted to the victim classifier.\n"
          ]
        },
        {
          "output_type": "stream",
          "name": "stdout",
          "text": [
            "Probabilistic CopycatCNN : 0.782875\n",
            "Train on 2000 samples\n",
            "Epoch 1/5\n",
            "2000/2000 [==============================] - 0s 117us/sample - loss: 2.2880 - accuracy: 0.1290\n",
            "Epoch 2/5\n",
            "2000/2000 [==============================] - 0s 69us/sample - loss: 2.2339 - accuracy: 0.3755\n",
            "Epoch 3/5\n",
            "2000/2000 [==============================] - 0s 67us/sample - loss: 2.1078 - accuracy: 0.5390\n",
            "Epoch 4/5\n",
            "2000/2000 [==============================] - 0s 68us/sample - loss: 1.6802 - accuracy: 0.7235\n",
            "Epoch 5/5\n",
            "2000/2000 [==============================] - 0s 70us/sample - loss: 0.8907 - accuracy: 0.8160\n"
          ]
        },
        {
          "output_type": "stream",
          "name": "stderr",
          "text": [
            "WARNING:art.attacks.extraction.knockoff_nets:This attack with random sampling strategy does not use the provided label y.\n",
            "WARNING:art.attacks.extraction.knockoff_nets:The size of the source input is smaller than the expected number of queries submitted to the victim classifier.\n"
          ]
        },
        {
          "output_type": "stream",
          "name": "stdout",
          "text": [
            "Argmax CopycatCNN : 0.794375\n"
          ]
        },
        {
          "output_type": "stream",
          "name": "stderr",
          "text": [
            "WARNING:art.attacks.extraction.knockoff_nets:This attack with random sampling strategy does not use the provided label y.\n",
            "WARNING:art.attacks.extraction.knockoff_nets:The size of the source input is smaller than the expected number of queries submitted to the victim classifier.\n"
          ]
        },
        {
          "output_type": "stream",
          "name": "stdout",
          "text": [
            "Probabilistic KnockoffNets : 0.853125\n",
            "Argmax KnockoffNets : 0.7985\n"
          ]
        },
        {
          "output_type": "stream",
          "name": "stderr",
          "text": [
            "WARNING:art.attacks.extraction.copycat_cnn:This attack does not use the provided label y.\n",
            "WARNING:art.attacks.extraction.copycat_cnn:The size of the source input is smaller than the expected number of queries submitted to the victim classifier.\n"
          ]
        },
        {
          "output_type": "stream",
          "name": "stdout",
          "text": [
            "Train on 4000 samples\n",
            "Epoch 1/5\n",
            "4000/4000 [==============================] - 1s 131us/sample - loss: 2.1940 - accuracy: 0.3573\n",
            "Epoch 2/5\n",
            "4000/4000 [==============================] - 0s 73us/sample - loss: 1.3099 - accuracy: 0.7610\n",
            "Epoch 3/5\n",
            "4000/4000 [==============================] - 0s 68us/sample - loss: 0.5041 - accuracy: 0.8748\n",
            "Epoch 4/5\n",
            "4000/4000 [==============================] - 0s 67us/sample - loss: 0.3715 - accuracy: 0.9015\n",
            "Epoch 5/5\n",
            "4000/4000 [==============================] - 0s 68us/sample - loss: 0.3261 - accuracy: 0.9125\n"
          ]
        },
        {
          "output_type": "stream",
          "name": "stderr",
          "text": [
            "WARNING:art.attacks.extraction.copycat_cnn:This attack does not use the provided label y.\n",
            "WARNING:art.attacks.extraction.copycat_cnn:The size of the source input is smaller than the expected number of queries submitted to the victim classifier.\n"
          ]
        },
        {
          "output_type": "stream",
          "name": "stdout",
          "text": [
            "Probabilistic CopycatCNN : 0.90133333\n",
            "Train on 4000 samples\n",
            "Epoch 1/5\n",
            "4000/4000 [==============================] - 0s 108us/sample - loss: 2.1917 - accuracy: 0.3528\n",
            "Epoch 2/5\n",
            "4000/4000 [==============================] - 0s 76us/sample - loss: 1.2857 - accuracy: 0.7380\n",
            "Epoch 3/5\n",
            "4000/4000 [==============================] - 0s 70us/sample - loss: 0.4918 - accuracy: 0.8595\n",
            "Epoch 4/5\n",
            "4000/4000 [==============================] - 0s 68us/sample - loss: 0.3465 - accuracy: 0.8907\n",
            "Epoch 5/5\n",
            "4000/4000 [==============================] - 0s 74us/sample - loss: 0.2896 - accuracy: 0.9047\n"
          ]
        },
        {
          "output_type": "stream",
          "name": "stderr",
          "text": [
            "WARNING:art.attacks.extraction.knockoff_nets:This attack with random sampling strategy does not use the provided label y.\n",
            "WARNING:art.attacks.extraction.knockoff_nets:The size of the source input is smaller than the expected number of queries submitted to the victim classifier.\n"
          ]
        },
        {
          "output_type": "stream",
          "name": "stdout",
          "text": [
            "Argmax CopycatCNN : 0.8655\n"
          ]
        },
        {
          "output_type": "stream",
          "name": "stderr",
          "text": [
            "WARNING:art.attacks.extraction.knockoff_nets:This attack with random sampling strategy does not use the provided label y.\n",
            "WARNING:art.attacks.extraction.knockoff_nets:The size of the source input is smaller than the expected number of queries submitted to the victim classifier.\n"
          ]
        },
        {
          "output_type": "stream",
          "name": "stdout",
          "text": [
            "Probabilistic KnockoffNets : 0.88666666\n",
            "Argmax KnockoffNets : 0.9015\n"
          ]
        },
        {
          "output_type": "stream",
          "name": "stderr",
          "text": [
            "WARNING:art.attacks.extraction.copycat_cnn:This attack does not use the provided label y.\n"
          ]
        },
        {
          "output_type": "stream",
          "name": "stdout",
          "text": [
            "Train on 5000 samples\n",
            "Epoch 1/5\n",
            "5000/5000 [==============================] - 1s 117us/sample - loss: 2.2114 - accuracy: 0.4366\n",
            "Epoch 2/5\n",
            "5000/5000 [==============================] - 0s 74us/sample - loss: 1.2721 - accuracy: 0.7518\n",
            "Epoch 3/5\n",
            "5000/5000 [==============================] - 0s 70us/sample - loss: 0.4709 - accuracy: 0.8752\n",
            "Epoch 4/5\n",
            "5000/5000 [==============================] - 0s 69us/sample - loss: 0.3714 - accuracy: 0.8954\n",
            "Epoch 5/5\n",
            "5000/5000 [==============================] - 0s 72us/sample - loss: 0.3214 - accuracy: 0.9150\n"
          ]
        },
        {
          "output_type": "stream",
          "name": "stderr",
          "text": [
            "WARNING:art.attacks.extraction.copycat_cnn:This attack does not use the provided label y.\n"
          ]
        },
        {
          "output_type": "stream",
          "name": "stdout",
          "text": [
            "Probabilistic CopycatCNN : 0.8852\n",
            "Train on 5000 samples\n",
            "Epoch 1/5\n",
            "5000/5000 [==============================] - 1s 104us/sample - loss: 2.0573 - accuracy: 0.5080\n",
            "Epoch 2/5\n",
            "5000/5000 [==============================] - 0s 75us/sample - loss: 0.7453 - accuracy: 0.8276\n",
            "Epoch 3/5\n",
            "5000/5000 [==============================] - 0s 69us/sample - loss: 0.3673 - accuracy: 0.8896\n",
            "Epoch 4/5\n",
            "5000/5000 [==============================] - 0s 69us/sample - loss: 0.2957 - accuracy: 0.9042\n",
            "Epoch 5/5\n",
            "5000/5000 [==============================] - 0s 72us/sample - loss: 0.2702 - accuracy: 0.9186\n"
          ]
        },
        {
          "output_type": "stream",
          "name": "stderr",
          "text": [
            "WARNING:art.attacks.extraction.knockoff_nets:This attack with random sampling strategy does not use the provided label y.\n"
          ]
        },
        {
          "output_type": "stream",
          "name": "stdout",
          "text": [
            "Argmax CopycatCNN : 0.8636\n",
            "Probabilistic KnockoffNets : 0.8188\n"
          ]
        },
        {
          "output_type": "stream",
          "name": "stderr",
          "text": [
            "WARNING:art.attacks.extraction.knockoff_nets:This attack with random sampling strategy does not use the provided label y.\n"
          ]
        },
        {
          "output_type": "stream",
          "name": "stdout",
          "text": [
            "Argmax KnockoffNets : 0.745\n"
          ]
        }
      ]
    },
    {
      "cell_type": "code",
      "source": [
        "import pandas as pd\n",
        "df = pd.DataFrame(results, columns=('Method Name', 'Stealing Dataset Size', 'Accuracy'))\n",
        "fig, ax = plt.subplots(figsize=(8,6))\n",
        "ax.set_xlabel(\"Stealing Dataset Size\")\n",
        "ax.set_ylabel(\"Stolen Model Accuracy\")\n",
        "for name, group in df.groupby(\"Method Name\"):\n",
        "    group.plot(1, 2, ax=ax, label=name)\n",
        "plt.show()"
      ],
      "metadata": {
        "colab": {
          "base_uri": "https://localhost:8080/",
          "height": 542
        },
        "id": "Y0IMXEOh9UMf",
        "outputId": "12659b67-ccc3-402e-8919-d42b888f7620"
      },
      "execution_count": null,
      "outputs": [
        {
          "output_type": "display_data",
          "data": {
            "text/plain": [
              "<Figure size 800x600 with 1 Axes>"
            ],
            "image/png": "[encoded data removed]"
          },
          "metadata": {}
        }
      ]
    },
    {
      "cell_type": "code",
      "source": [
        "# Prepare the defense layer.\n",
        "from art.defences.postprocessor import ReverseSigmoid\n",
        "postprocessor = ReverseSigmoid(beta=1.0, gamma=0.2)\n",
        "classifier_protected = KerasClassifier(model, clip_values=(0, 1), use_logits=False, postprocessing_defences=postprocessor)\n",
        "\n",
        "# Below is used by `FunctionallyEquivalentExtraction`.\n",
        "model_flat = Sequential([InputLayer([784]), Reshape([28, 28, 1]), model])\n",
        "model_flat.compile('sgd', 'categorical_crossentropy', ['accuracy'])\n",
        "classifier_flat_protected = KerasClassifier(model_flat, clip_values=(0, 1), use_logits=False, postprocessing_defences=postprocessor)"
      ],
      "metadata": {
        "id": "clu7pHTH9fgI"
      },
      "execution_count": null,
      "outputs": []
    },
    {
      "cell_type": "code",
      "source": [
        "# Prepare the defense layer.\n",
        "from art.defences.postprocessor import Rounded\n",
        "postprocessor = Rounded(decimals=1)\n",
        "classifier_protected = KerasClassifier(model, clip_values=(0, 1), use_logits=False, postprocessing_defences=postprocessor)"
      ],
      "metadata": {
        "id": "9b6t9J-EOl89"
      },
      "execution_count": null,
      "outputs": []
    },
    {
      "cell_type": "code",
      "source": [
        "# Stealing from the protected classifier.\n",
        "\n",
        "attack_catalogue = {\n",
        "                    \"Probabilistic CopycatCNN (vs. Protected)\": CopycatCNN(classifier=classifier_protected,\n",
        "                                              batch_size_fit=64,\n",
        "                                              batch_size_query=64,\n",
        "                                              nb_epochs=num_epochs,\n",
        "                                              nb_stolen=len_steal,\n",
        "                                              use_probability=True),\n",
        "                    \"Argmax CopycatCNN (vs. Protected)\": CopycatCNN(classifier=classifier_protected,\n",
        "                                              batch_size_fit=64,\n",
        "                                              batch_size_query=64,\n",
        "                                              nb_epochs=num_epochs,\n",
        "                                              nb_stolen=len_steal,\n",
        "                                              use_probability=False),\n",
        "                    \"Probabilistic KnockoffNets (vs. Protected)\": KnockoffNets(classifier=classifier_protected,\n",
        "                                              batch_size_fit=64,\n",
        "                                              batch_size_query=64,\n",
        "                                              nb_epochs=num_epochs,\n",
        "                                              nb_stolen=len_steal,\n",
        "                                              use_probability=True),\n",
        "                    \"Argmax KnockoffNets (vs. Protected)\": KnockoffNets(classifier=classifier_protected,\n",
        "                                              batch_size_fit=64,\n",
        "                                              batch_size_query=64,\n",
        "                                              nb_epochs=num_epochs,\n",
        "                                              nb_stolen=len_steal,\n",
        "                                              use_probability=False),\n",
        "#                     \"FunctionallyEquivalentExtraction\": FunctionallyEquivalentExtraction(classifier=classifier_flat_protected,\n",
        "#                                               num_neurons=128),  # This one takes too long time for this dataset/model.\n",
        "                    }\n",
        "\n",
        "results_protected = []\n",
        "for len_steal in [250, 500, 1000, 2000, 4000, 5000]:\n",
        "    indices = np.random.permutation(len(x_test0))\n",
        "    x_steal = x_test0[indices[:len_steal]]\n",
        "    y_steal = y_test0[indices[:len_steal]]\n",
        "    x_test = x_test0[indices[len_steal:]]\n",
        "    y_test = y_test0[indices[len_steal:]]\n",
        "\n",
        "    for name, attack in attack_catalogue.items():\n",
        "        model_stolen = get_model(num_classes=10, c1=32, c2=64, d1=128)\n",
        "        classifier_stolen = KerasClassifier(model_stolen, clip_values=(0, 1), use_logits=False)\n",
        "        if name==\"FunctionallyEquivalentExtraction\":\n",
        "            classifier_stolen = attack.extract(np.reshape(x_steal, [len(x_steal), -1]), y_steal, thieved_classifier=classifier_stolen)\n",
        "        else:\n",
        "            classifier_stolen = attack.extract(x_steal, y_steal, thieved_classifier=classifier_stolen)\n",
        "\n",
        "        acc = classifier_stolen._model.evaluate(x_test, y_test)[1]\n",
        "        print(name, \":\", acc)\n",
        "        results_protected.append((name, len_steal, acc))"
      ],
      "metadata": {
        "colab": {
          "base_uri": "https://localhost:8080/"
        },
        "id": "Ce75T0Z-9v99",
        "outputId": "9ad3ab16-4039-4802-d741-904080da448e"
      },
      "execution_count": null,
      "outputs": [
        {
          "output_type": "stream",
          "name": "stderr",
          "text": [
            "WARNING:art.attacks.extraction.copycat_cnn:This attack does not use the provided label y.\n",
            "WARNING:art.attacks.extraction.copycat_cnn:The size of the source input is smaller than the expected number of queries submitted to the victim classifier.\n"
          ]
        },
        {
          "output_type": "stream",
          "name": "stdout",
          "text": [
            "Train on 250 samples\n",
            "Epoch 1/5\n",
            "250/250 [==============================] - 1s 6ms/sample - loss: 2.2927 - accuracy: 0.0960\n",
            "Epoch 2/5\n",
            "250/250 [==============================] - 0s 255us/sample - loss: 2.2841 - accuracy: 0.1520\n",
            "Epoch 3/5\n",
            "250/250 [==============================] - 0s 230us/sample - loss: 2.2752 - accuracy: 0.2040\n",
            "Epoch 4/5\n",
            "250/250 [==============================] - 0s 256us/sample - loss: 2.2662 - accuracy: 0.2400\n",
            "Epoch 5/5\n",
            "250/250 [==============================] - 0s 246us/sample - loss: 2.2571 - accuracy: 0.2640\n"
          ]
        },
        {
          "output_type": "stream",
          "name": "stderr",
          "text": [
            "/usr/local/lib/python3.10/dist-packages/keras/src/engine/training_v1.py:2335: UserWarning: `Model.state_updates` will be removed in a future version. This property should not be used in TensorFlow 2.0, as `updates` are applied automatically.\n",
            "  updates = self.state_updates\n",
            "WARNING:art.attacks.extraction.copycat_cnn:This attack does not use the provided label y.\n",
            "WARNING:art.attacks.extraction.copycat_cnn:The size of the source input is smaller than the expected number of queries submitted to the victim classifier.\n"
          ]
        },
        {
          "output_type": "stream",
          "name": "stdout",
          "text": [
            "Probabilistic CopycatCNN (vs. Protected) : 0.22892308\n",
            "Train on 250 samples\n",
            "Epoch 1/5\n",
            "250/250 [==============================] - 1s 2ms/sample - loss: 2.3035 - accuracy: 0.1040\n",
            "Epoch 2/5\n",
            "250/250 [==============================] - 0s 115us/sample - loss: 2.2957 - accuracy: 0.1280\n",
            "Epoch 3/5\n",
            "250/250 [==============================] - 0s 121us/sample - loss: 2.2879 - accuracy: 0.1440\n",
            "Epoch 4/5\n",
            "250/250 [==============================] - 0s 117us/sample - loss: 2.2798 - accuracy: 0.1520\n",
            "Epoch 5/5\n",
            "250/250 [==============================] - 0s 136us/sample - loss: 2.2716 - accuracy: 0.1560\n"
          ]
        },
        {
          "output_type": "stream",
          "name": "stderr",
          "text": [
            "WARNING:art.attacks.extraction.knockoff_nets:This attack with random sampling strategy does not use the provided label y.\n",
            "WARNING:art.attacks.extraction.knockoff_nets:The size of the source input is smaller than the expected number of queries submitted to the victim classifier.\n"
          ]
        },
        {
          "output_type": "stream",
          "name": "stdout",
          "text": [
            "Argmax CopycatCNN (vs. Protected) : 0.11364102\n"
          ]
        },
        {
          "output_type": "stream",
          "name": "stderr",
          "text": [
            "WARNING:art.attacks.extraction.knockoff_nets:This attack with random sampling strategy does not use the provided label y.\n",
            "WARNING:art.attacks.extraction.knockoff_nets:The size of the source input is smaller than the expected number of queries submitted to the victim classifier.\n"
          ]
        },
        {
          "output_type": "stream",
          "name": "stdout",
          "text": [
            "Probabilistic KnockoffNets (vs. Protected) : 0.236\n",
            "Argmax KnockoffNets (vs. Protected) : 0.2708718\n"
          ]
        },
        {
          "output_type": "stream",
          "name": "stderr",
          "text": [
            "WARNING:art.attacks.extraction.copycat_cnn:This attack does not use the provided label y.\n",
            "WARNING:art.attacks.extraction.copycat_cnn:The size of the source input is smaller than the expected number of queries submitted to the victim classifier.\n"
          ]
        },
        {
          "output_type": "stream",
          "name": "stdout",
          "text": [
            "Train on 500 samples\n",
            "Epoch 1/5\n",
            "500/500 [==============================] - 1s 2ms/sample - loss: 2.2861 - accuracy: 0.1040\n",
            "Epoch 2/5\n",
            "500/500 [==============================] - 0s 160us/sample - loss: 2.2615 - accuracy: 0.2880\n",
            "Epoch 3/5\n",
            "500/500 [==============================] - 0s 140us/sample - loss: 2.2363 - accuracy: 0.3680\n",
            "Epoch 4/5\n",
            "500/500 [==============================] - 0s 134us/sample - loss: 2.2075 - accuracy: 0.4380\n",
            "Epoch 5/5\n",
            "500/500 [==============================] - 0s 140us/sample - loss: 2.1726 - accuracy: 0.4860\n"
          ]
        },
        {
          "output_type": "stream",
          "name": "stderr",
          "text": [
            "WARNING:art.attacks.extraction.copycat_cnn:This attack does not use the provided label y.\n",
            "WARNING:art.attacks.extraction.copycat_cnn:The size of the source input is smaller than the expected number of queries submitted to the victim classifier.\n"
          ]
        },
        {
          "output_type": "stream",
          "name": "stdout",
          "text": [
            "Probabilistic CopycatCNN (vs. Protected) : 0.46557894\n",
            "Train on 500 samples\n",
            "Epoch 1/5\n",
            "500/500 [==============================] - 1s 2ms/sample - loss: 2.2900 - accuracy: 0.1880\n",
            "Epoch 2/5\n",
            "500/500 [==============================] - 0s 144us/sample - loss: 2.2641 - accuracy: 0.3000\n",
            "Epoch 3/5\n",
            "500/500 [==============================] - 0s 154us/sample - loss: 2.2362 - accuracy: 0.3360\n",
            "Epoch 4/5\n",
            "500/500 [==============================] - 0s 147us/sample - loss: 2.2018 - accuracy: 0.3760\n",
            "Epoch 5/5\n",
            "500/500 [==============================] - 0s 150us/sample - loss: 2.1574 - accuracy: 0.4080\n"
          ]
        },
        {
          "output_type": "stream",
          "name": "stderr",
          "text": [
            "WARNING:art.attacks.extraction.knockoff_nets:This attack with random sampling strategy does not use the provided label y.\n",
            "WARNING:art.attacks.extraction.knockoff_nets:The size of the source input is smaller than the expected number of queries submitted to the victim classifier.\n"
          ]
        },
        {
          "output_type": "stream",
          "name": "stdout",
          "text": [
            "Argmax CopycatCNN (vs. Protected) : 0.4234737\n"
          ]
        },
        {
          "output_type": "stream",
          "name": "stderr",
          "text": [
            "WARNING:art.attacks.extraction.knockoff_nets:This attack with random sampling strategy does not use the provided label y.\n",
            "WARNING:art.attacks.extraction.knockoff_nets:The size of the source input is smaller than the expected number of queries submitted to the victim classifier.\n"
          ]
        },
        {
          "output_type": "stream",
          "name": "stdout",
          "text": [
            "Probabilistic KnockoffNets (vs. Protected) : 0.43757895\n",
            "Argmax KnockoffNets (vs. Protected) : 0.4976842\n"
          ]
        },
        {
          "output_type": "stream",
          "name": "stderr",
          "text": [
            "WARNING:art.attacks.extraction.copycat_cnn:This attack does not use the provided label y.\n",
            "WARNING:art.attacks.extraction.copycat_cnn:The size of the source input is smaller than the expected number of queries submitted to the victim classifier.\n"
          ]
        },
        {
          "output_type": "stream",
          "name": "stdout",
          "text": [
            "Train on 1000 samples\n",
            "Epoch 1/5\n",
            "1000/1000 [==============================] - 1s 708us/sample - loss: 2.2817 - accuracy: 0.1170\n",
            "Epoch 2/5\n",
            "1000/1000 [==============================] - 0s 106us/sample - loss: 2.2464 - accuracy: 0.3130\n",
            "Epoch 3/5\n",
            "1000/1000 [==============================] - 0s 110us/sample - loss: 2.2016 - accuracy: 0.4440\n",
            "Epoch 4/5\n",
            "1000/1000 [==============================] - 0s 105us/sample - loss: 2.1307 - accuracy: 0.5060\n",
            "Epoch 5/5\n",
            "1000/1000 [==============================] - 0s 106us/sample - loss: 2.0066 - accuracy: 0.5830\n",
            "Probabilistic CopycatCNN (vs. Protected) : 0.59555554\n"
          ]
        },
        {
          "output_type": "stream",
          "name": "stderr",
          "text": [
            "WARNING:art.attacks.extraction.copycat_cnn:This attack does not use the provided label y.\n",
            "WARNING:art.attacks.extraction.copycat_cnn:The size of the source input is smaller than the expected number of queries submitted to the victim classifier.\n"
          ]
        },
        {
          "output_type": "stream",
          "name": "stdout",
          "text": [
            "Train on 1000 samples\n",
            "Epoch 1/5\n",
            "1000/1000 [==============================] - 1s 696us/sample - loss: 2.2820 - accuracy: 0.1640\n",
            "Epoch 2/5\n",
            "1000/1000 [==============================] - 0s 114us/sample - loss: 2.2348 - accuracy: 0.3270\n",
            "Epoch 3/5\n",
            "1000/1000 [==============================] - 0s 106us/sample - loss: 2.1717 - accuracy: 0.4680\n",
            "Epoch 4/5\n",
            "1000/1000 [==============================] - 0s 120us/sample - loss: 2.0657 - accuracy: 0.5650\n",
            "Epoch 5/5\n",
            "1000/1000 [==============================] - 0s 105us/sample - loss: 1.8660 - accuracy: 0.6730\n",
            "Argmax CopycatCNN (vs. Protected) : 0.69277775\n"
          ]
        },
        {
          "output_type": "stream",
          "name": "stderr",
          "text": [
            "WARNING:art.attacks.extraction.knockoff_nets:This attack with random sampling strategy does not use the provided label y.\n",
            "WARNING:art.attacks.extraction.knockoff_nets:The size of the source input is smaller than the expected number of queries submitted to the victim classifier.\n"
          ]
        },
        {
          "output_type": "stream",
          "name": "stdout",
          "text": [
            "Probabilistic KnockoffNets (vs. Protected) : 0.5571111\n"
          ]
        },
        {
          "output_type": "stream",
          "name": "stderr",
          "text": [
            "WARNING:art.attacks.extraction.knockoff_nets:This attack with random sampling strategy does not use the provided label y.\n",
            "WARNING:art.attacks.extraction.knockoff_nets:The size of the source input is smaller than the expected number of queries submitted to the victim classifier.\n"
          ]
        },
        {
          "output_type": "stream",
          "name": "stdout",
          "text": [
            "Argmax KnockoffNets (vs. Protected) : 0.64255553\n"
          ]
        },
        {
          "output_type": "stream",
          "name": "stderr",
          "text": [
            "WARNING:art.attacks.extraction.copycat_cnn:This attack does not use the provided label y.\n",
            "WARNING:art.attacks.extraction.copycat_cnn:The size of the source input is smaller than the expected number of queries submitted to the victim classifier.\n"
          ]
        },
        {
          "output_type": "stream",
          "name": "stdout",
          "text": [
            "Train on 2000 samples\n",
            "Epoch 1/5\n",
            "2000/2000 [==============================] - 1s 417us/sample - loss: 2.2515 - accuracy: 0.2095\n",
            "Epoch 2/5\n",
            "2000/2000 [==============================] - 0s 105us/sample - loss: 2.1148 - accuracy: 0.4435\n",
            "Epoch 3/5\n",
            "2000/2000 [==============================] - 0s 103us/sample - loss: 1.6959 - accuracy: 0.6220\n",
            "Epoch 4/5\n",
            "2000/2000 [==============================] - 0s 100us/sample - loss: 0.9355 - accuracy: 0.8025\n",
            "Epoch 5/5\n",
            "2000/2000 [==============================] - 0s 107us/sample - loss: 0.5588 - accuracy: 0.8580\n",
            "Probabilistic CopycatCNN (vs. Protected) : 0.76075\n"
          ]
        },
        {
          "output_type": "stream",
          "name": "stderr",
          "text": [
            "WARNING:art.attacks.extraction.copycat_cnn:This attack does not use the provided label y.\n",
            "WARNING:art.attacks.extraction.copycat_cnn:The size of the source input is smaller than the expected number of queries submitted to the victim classifier.\n"
          ]
        },
        {
          "output_type": "stream",
          "name": "stdout",
          "text": [
            "Train on 2000 samples\n",
            "Epoch 1/5\n",
            "2000/2000 [==============================] - 1s 573us/sample - loss: 2.2642 - accuracy: 0.1905\n",
            "Epoch 2/5\n",
            "2000/2000 [==============================] - 0s 138us/sample - loss: 2.1002 - accuracy: 0.4585\n",
            "Epoch 3/5\n",
            "2000/2000 [==============================] - 0s 144us/sample - loss: 1.5705 - accuracy: 0.7010\n",
            "Epoch 4/5\n",
            "2000/2000 [==============================] - 0s 136us/sample - loss: 0.8198 - accuracy: 0.8040\n",
            "Epoch 5/5\n",
            "2000/2000 [==============================] - 0s 135us/sample - loss: 0.5096 - accuracy: 0.8585\n"
          ]
        },
        {
          "output_type": "stream",
          "name": "stderr",
          "text": [
            "WARNING:art.attacks.extraction.knockoff_nets:This attack with random sampling strategy does not use the provided label y.\n",
            "WARNING:art.attacks.extraction.knockoff_nets:The size of the source input is smaller than the expected number of queries submitted to the victim classifier.\n"
          ]
        },
        {
          "output_type": "stream",
          "name": "stdout",
          "text": [
            "Argmax CopycatCNN (vs. Protected) : 0.856875\n"
          ]
        },
        {
          "output_type": "stream",
          "name": "stderr",
          "text": [
            "WARNING:art.attacks.extraction.knockoff_nets:This attack with random sampling strategy does not use the provided label y.\n",
            "WARNING:art.attacks.extraction.knockoff_nets:The size of the source input is smaller than the expected number of queries submitted to the victim classifier.\n"
          ]
        },
        {
          "output_type": "stream",
          "name": "stdout",
          "text": [
            "Probabilistic KnockoffNets (vs. Protected) : 0.858625\n"
          ]
        },
        {
          "output_type": "stream",
          "name": "stderr",
          "text": [
            "WARNING:art.attacks.extraction.copycat_cnn:This attack does not use the provided label y.\n",
            "WARNING:art.attacks.extraction.copycat_cnn:The size of the source input is smaller than the expected number of queries submitted to the victim classifier.\n"
          ]
        },
        {
          "output_type": "stream",
          "name": "stdout",
          "text": [
            "Argmax KnockoffNets (vs. Protected) : 0.8365\n",
            "Train on 4000 samples\n",
            "Epoch 1/5\n",
            "4000/4000 [==============================] - 1s 267us/sample - loss: 2.1565 - accuracy: 0.4087\n",
            "Epoch 2/5\n",
            "4000/4000 [==============================] - 0s 102us/sample - loss: 1.1425 - accuracy: 0.7793\n",
            "Epoch 3/5\n",
            "4000/4000 [==============================] - 0s 97us/sample - loss: 0.4622 - accuracy: 0.8727\n",
            "Epoch 4/5\n",
            "4000/4000 [==============================] - 0s 95us/sample - loss: 0.3544 - accuracy: 0.8980\n",
            "Epoch 5/5\n",
            "4000/4000 [==============================] - 0s 94us/sample - loss: 0.3208 - accuracy: 0.9100\n",
            "Probabilistic CopycatCNN (vs. Protected) : 0.8983333\n"
          ]
        },
        {
          "output_type": "stream",
          "name": "stderr",
          "text": [
            "WARNING:art.attacks.extraction.copycat_cnn:This attack does not use the provided label y.\n",
            "WARNING:art.attacks.extraction.copycat_cnn:The size of the source input is smaller than the expected number of queries submitted to the victim classifier.\n"
          ]
        },
        {
          "output_type": "stream",
          "name": "stdout",
          "text": [
            "Train on 4000 samples\n",
            "Epoch 1/5\n",
            "4000/4000 [==============================] - 1s 265us/sample - loss: 2.1076 - accuracy: 0.4232\n",
            "Epoch 2/5\n",
            "4000/4000 [==============================] - 0s 97us/sample - loss: 0.9900 - accuracy: 0.7952\n",
            "Epoch 3/5\n",
            "4000/4000 [==============================] - 0s 96us/sample - loss: 0.4353 - accuracy: 0.8750\n",
            "Epoch 4/5\n",
            "4000/4000 [==============================] - 0s 93us/sample - loss: 0.3448 - accuracy: 0.8898\n",
            "Epoch 5/5\n",
            "4000/4000 [==============================] - 0s 91us/sample - loss: 0.2864 - accuracy: 0.9085\n"
          ]
        },
        {
          "output_type": "stream",
          "name": "stderr",
          "text": [
            "WARNING:art.attacks.extraction.knockoff_nets:This attack with random sampling strategy does not use the provided label y.\n",
            "WARNING:art.attacks.extraction.knockoff_nets:The size of the source input is smaller than the expected number of queries submitted to the victim classifier.\n"
          ]
        },
        {
          "output_type": "stream",
          "name": "stdout",
          "text": [
            "Argmax CopycatCNN (vs. Protected) : 0.9066667\n",
            "Probabilistic KnockoffNets (vs. Protected) : 0.90133333\n"
          ]
        },
        {
          "output_type": "stream",
          "name": "stderr",
          "text": [
            "WARNING:art.attacks.extraction.knockoff_nets:This attack with random sampling strategy does not use the provided label y.\n",
            "WARNING:art.attacks.extraction.knockoff_nets:The size of the source input is smaller than the expected number of queries submitted to the victim classifier.\n"
          ]
        },
        {
          "output_type": "stream",
          "name": "stdout",
          "text": [
            "Argmax KnockoffNets (vs. Protected) : 0.76783335\n"
          ]
        },
        {
          "output_type": "stream",
          "name": "stderr",
          "text": [
            "WARNING:art.attacks.extraction.copycat_cnn:This attack does not use the provided label y.\n"
          ]
        },
        {
          "output_type": "stream",
          "name": "stdout",
          "text": [
            "Train on 5000 samples\n",
            "Epoch 1/5\n",
            "5000/5000 [==============================] - 1s 275us/sample - loss: 2.0830 - accuracy: 0.4216\n",
            "Epoch 2/5\n",
            "5000/5000 [==============================] - 1s 137us/sample - loss: 0.8021 - accuracy: 0.8220\n",
            "Epoch 3/5\n",
            "5000/5000 [==============================] - 1s 135us/sample - loss: 0.3868 - accuracy: 0.8896\n",
            "Epoch 4/5\n",
            "5000/5000 [==============================] - 1s 132us/sample - loss: 0.3159 - accuracy: 0.9100\n",
            "Epoch 5/5\n",
            "5000/5000 [==============================] - 1s 127us/sample - loss: 0.2919 - accuracy: 0.9152\n"
          ]
        },
        {
          "output_type": "stream",
          "name": "stderr",
          "text": [
            "WARNING:art.attacks.extraction.copycat_cnn:This attack does not use the provided label y.\n"
          ]
        },
        {
          "output_type": "stream",
          "name": "stdout",
          "text": [
            "Probabilistic CopycatCNN (vs. Protected) : 0.8992\n",
            "Train on 5000 samples\n",
            "Epoch 1/5\n",
            "5000/5000 [==============================] - 2s 337us/sample - loss: 2.0129 - accuracy: 0.4662\n",
            "Epoch 2/5\n",
            "5000/5000 [==============================] - 1s 106us/sample - loss: 0.6506 - accuracy: 0.8416\n",
            "Epoch 3/5\n",
            "5000/5000 [==============================] - 0s 98us/sample - loss: 0.3459 - accuracy: 0.8896\n",
            "Epoch 4/5\n",
            "5000/5000 [==============================] - 0s 97us/sample - loss: 0.2922 - accuracy: 0.9012\n",
            "Epoch 5/5\n",
            "5000/5000 [==============================] - 0s 94us/sample - loss: 0.2513 - accuracy: 0.9176\n"
          ]
        },
        {
          "output_type": "stream",
          "name": "stderr",
          "text": [
            "WARNING:art.attacks.extraction.knockoff_nets:This attack with random sampling strategy does not use the provided label y.\n"
          ]
        },
        {
          "output_type": "stream",
          "name": "stdout",
          "text": [
            "Argmax CopycatCNN (vs. Protected) : 0.6284\n"
          ]
        },
        {
          "output_type": "stream",
          "name": "stderr",
          "text": [
            "WARNING:art.attacks.extraction.knockoff_nets:This attack with random sampling strategy does not use the provided label y.\n"
          ]
        },
        {
          "output_type": "stream",
          "name": "stdout",
          "text": [
            "Probabilistic KnockoffNets (vs. Protected) : 0.8876\n",
            "Argmax KnockoffNets (vs. Protected) : 0.7412\n"
          ]
        }
      ]
    },
    {
      "cell_type": "code",
      "source": [
        "import pandas as pd\n",
        "df_protected = pd.DataFrame(results_protected, columns=('Method Name', 'Stealing Dataset Size', 'Accuracy'))\n",
        "fig, ax = plt.subplots(figsize=(8,6))\n",
        "ax.set_xlabel(\"Stealing Dataset Size\")\n",
        "ax.set_ylabel(\"Stolen Model Accuracy\")\n",
        "for name, group in df_protected.groupby(\"Method Name\"):\n",
        "    group.plot(1, 2, ax=ax, label=name)\n",
        "plt.show()"
      ],
      "metadata": {
        "colab": {
          "base_uri": "https://localhost:8080/",
          "height": 542
        },
        "id": "IDUjb2uC9-1g",
        "outputId": "d6b5fa69-a8c2-4677-c91a-3139c7614c08"
      },
      "execution_count": null,
      "outputs": [
        {
          "output_type": "display_data",
          "data": {
            "text/plain": [
              "<Figure size 800x600 with 1 Axes>"
            ],
            "image/png": "[encoded data removed]"
          },
          "metadata": {}
        }
      ]
    },
    {
      "cell_type": "code",
      "source": [
        "df_combined = pd.concat([df, df_protected])\n",
        "groupby = df_combined.groupby(\"Method Name\")"
      ],
      "metadata": {
        "id": "6RtZ3KNg-MSC"
      },
      "execution_count": null,
      "outputs": []
    },
    {
      "cell_type": "code",
      "source": [
        "names = [\"CopycatCNN\", \"KnockoffNets\"]\n",
        "for name in names:\n",
        "    fig, ax = plt.subplots(figsize=(8,6))\n",
        "    groupby.get_group(\"Probabilistic \" + name).plot(1,2,ax=ax, label=\"Probabilistic \" + name)\n",
        "    groupby.get_group(\"Probabilistic \" + name + \" (vs. Protected)\").plot(1,2,ax=ax, label=\"Probabilistic \" + name + \" (vs. Protected)\")\n",
        "    ax.set_xlabel(\"Stealing Dataset Size\")\n",
        "    ax.set_ylabel(\"Stolen Model Accuracy\")\n",
        "    fig.show()"
      ],
      "metadata": {
        "id": "YGQzzVk6-O7_",
        "outputId": "85867458-e08d-4fa4-d8c4-1162d9984198",
        "colab": {
          "base_uri": "https://localhost:8080/",
          "height": 1000
        }
      },
      "execution_count": null,
      "outputs": [
        {
          "output_type": "display_data",
          "data": {
            "text/plain": [
              "<Figure size 800x600 with 1 Axes>"
            ],
            "image/png": "[encoded data removed]"
          },
          "metadata": {}
        },
        {
          "output_type": "display_data",
          "data": {
            "text/plain": [
              "<Figure size 800x600 with 1 Axes>"
            ],
            "image/png": "[encoded data removed]"
          },
          "metadata": {}
        }
      ]
    },
    {
      "cell_type": "code",
      "source": [],
      "metadata": {
        "id": "rAkqvmSH-Sbr"
      },
      "execution_count": null,
      "outputs": []
    }
  ]
}