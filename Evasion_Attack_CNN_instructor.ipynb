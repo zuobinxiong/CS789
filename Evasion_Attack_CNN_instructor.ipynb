{
  "cells": [
    {
      "cell_type": "markdown",
      "metadata": {
        "id": "view-in-github",
        "colab_type": "text"
      },
      "source": [
        "<a href=\"https://colab.research.google.com/github/zuobinxiong/CS789/blob/main/Evasion_Attack_CNN_instructor.ipynb\" target=\"_parent\"><img src=\"https://colab.research.google.com/assets/colab-badge.svg\" alt=\"Open In Colab\"/></a>"
      ]
    },
    {
      "cell_type": "markdown",
      "metadata": {
        "id": "d1IIenRzV7Gv"
      },
      "source": [
        "# Attacking a CNN\n",
        "\n",
        "The CNN is vunerable to adversarial examples as ![adv example](https://www.tensorflow.org/tutorials/generative/images/adversarial_example.png)\n",
        "\n",
        "In this exercise we will train a CNN to distinguish between instances of handwritten `0` and instances of handwritten `1`. We will be using `PyTorch` to do this.  \n",
        "\n",
        "Once we have a trained classifier, we will create adversarial examples from scratch using `ART`\n",
        "\n",
        "This is adopted from https://github.com/Trusted-AI/adversarial-robustness-toolbox/blob/main/examples/get_started_pytorch.py"
      ]
    },
    {
      "cell_type": "code",
      "execution_count": null,
      "metadata": {
        "ExecuteTime": {
          "end_time": "2021-09-20T18:17:58.581831Z",
          "start_time": "2021-09-20T18:17:58.530114Z"
        },
        "id": "_BEmxB6BOawB"
      },
      "outputs": [],
      "source": [
        "# some configurations for jupyter notebook\n",
        "%config Completer.use_jedi = False\n",
        "%load_ext autoreload\n",
        "%autoreload 2"
      ]
    },
    {
      "cell_type": "code",
      "execution_count": null,
      "metadata": {
        "ExecuteTime": {
          "end_time": "2021-09-20T18:18:00.584863Z",
          "start_time": "2021-09-20T18:17:59.308424Z"
        },
        "colab": {
          "base_uri": "https://localhost:8080/"
        },
        "id": "nhoEjgYmWJ0E",
        "scrolled": false,
        "outputId": "6be97dab-53c6-4a72-af99-406545c20bbe"
      },
      "outputs": [
        {
          "output_type": "stream",
          "name": "stdout",
          "text": [
            "Collecting adversarial-robustness-toolbox\n",
            "  Downloading adversarial_robustness_toolbox-1.16.0-py3-none-any.whl (1.6 MB)\n",
            "\u001b[2K     \u001b[90m━━━━━━━━━━━━━━━━━━━━━━━━━━━━━━━━━━━━━━━━\u001b[0m \u001b[32m1.6/1.6 MB\u001b[0m \u001b[31m25.9 MB/s\u001b[0m eta \u001b[36m0:00:00\u001b[0m\n",
            "\u001b[?25hRequirement already satisfied: numpy>=1.18.0 in /usr/local/lib/python3.10/dist-packages (from adversarial-robustness-toolbox) (1.23.5)\n",
            "Requirement already satisfied: scipy>=1.4.1 in /usr/local/lib/python3.10/dist-packages (from adversarial-robustness-toolbox) (1.11.2)\n",
            "Collecting scikit-learn<1.2.0,>=0.22.2 (from adversarial-robustness-toolbox)\n",
            "  Downloading scikit_learn-1.1.3-cp310-cp310-manylinux_2_17_x86_64.manylinux2014_x86_64.whl (30.5 MB)\n",
            "\u001b[2K     \u001b[90m━━━━━━━━━━━━━━━━━━━━━━━━━━━━━━━━━━━━━━━━\u001b[0m \u001b[32m30.5/30.5 MB\u001b[0m \u001b[31m57.1 MB/s\u001b[0m eta \u001b[36m0:00:00\u001b[0m\n",
            "\u001b[?25hRequirement already satisfied: six in /usr/local/lib/python3.10/dist-packages (from adversarial-robustness-toolbox) (1.16.0)\n",
            "Requirement already satisfied: setuptools in /usr/local/lib/python3.10/dist-packages (from adversarial-robustness-toolbox) (67.7.2)\n",
            "Requirement already satisfied: tqdm in /usr/local/lib/python3.10/dist-packages (from adversarial-robustness-toolbox) (4.66.1)\n",
            "Requirement already satisfied: joblib>=1.0.0 in /usr/local/lib/python3.10/dist-packages (from scikit-learn<1.2.0,>=0.22.2->adversarial-robustness-toolbox) (1.3.2)\n",
            "Requirement already satisfied: threadpoolctl>=2.0.0 in /usr/local/lib/python3.10/dist-packages (from scikit-learn<1.2.0,>=0.22.2->adversarial-robustness-toolbox) (3.2.0)\n",
            "Installing collected packages: scikit-learn, adversarial-robustness-toolbox\n",
            "  Attempting uninstall: scikit-learn\n",
            "    Found existing installation: scikit-learn 1.2.2\n",
            "    Uninstalling scikit-learn-1.2.2:\n",
            "      Successfully uninstalled scikit-learn-1.2.2\n",
            "Successfully installed adversarial-robustness-toolbox-1.16.0 scikit-learn-1.1.3\n"
          ]
        }
      ],
      "source": [
        "!pip install adversarial-robustness-toolbox"
      ]
    },
    {
      "cell_type": "code",
      "execution_count": null,
      "metadata": {
        "ExecuteTime": {
          "end_time": "2021-09-20T18:18:05.331321Z",
          "start_time": "2021-09-20T18:18:04.318186Z"
        },
        "id": "iIH4d-w4V7G7"
      },
      "outputs": [],
      "source": [
        "import torch\n",
        "import torch.nn as nn\n",
        "import torch.nn.functional as F\n",
        "import torch.optim as optim\n",
        "import numpy as np\n",
        "\n",
        "%matplotlib inline\n",
        "import matplotlib.pyplot as plt\n"
      ]
    },
    {
      "cell_type": "markdown",
      "metadata": {
        "id": "EIL2ziyzV7G_"
      },
      "source": [
        "The MNIST dataset contains data for all of the digits.\n",
        "\n",
        "We need to normalize the data. Here, we use the API from `ART`."
      ]
    },
    {
      "cell_type": "markdown",
      "metadata": {
        "id": "y3nYU03lV7HD"
      },
      "source": [
        "Load the actual data. It will load the data as numpy array."
      ]
    },
    {
      "cell_type": "code",
      "execution_count": null,
      "metadata": {
        "ExecuteTime": {
          "end_time": "2021-09-20T18:18:08.140320Z",
          "start_time": "2021-09-20T18:18:07.099854Z"
        },
        "id": "CMKzVNfRV7HA"
      },
      "outputs": [],
      "source": [
        "from art.attacks.evasion import FastGradientMethod\n",
        "from art.estimators.classification import PyTorchClassifier\n",
        "from art.utils import load_mnist"
      ]
    },
    {
      "cell_type": "code",
      "execution_count": null,
      "metadata": {
        "ExecuteTime": {
          "end_time": "2021-09-20T18:39:44.338855Z",
          "start_time": "2021-09-20T18:39:43.231914Z"
        },
        "id": "PGJqi9ncOawJ"
      },
      "outputs": [],
      "source": [
        "# Step 1: Load the MNIST dataset\n",
        "\n",
        "(x_train, y_train), (x_test, y_test), min_pixel_value, max_pixel_value = load_mnist()\n",
        "\n",
        "# Step 1a: Swap axes to PyTorch's NCHW format\n",
        "\n",
        "x_train = np.transpose(x_train, (0, 3, 1, 2)).astype(np.float32)\n",
        "x_test = np.transpose(x_test, (0, 3, 1, 2)).astype(np.float32)"
      ]
    },
    {
      "cell_type": "code",
      "execution_count": null,
      "metadata": {
        "ExecuteTime": {
          "end_time": "2021-09-20T18:39:44.365959Z",
          "start_time": "2021-09-20T18:39:44.341398Z"
        },
        "colab": {
          "base_uri": "https://localhost:8080/"
        },
        "id": "w-dbdU9WOawK",
        "outputId": "4c9e6006-82a7-49c1-b424-f4b4c91085cd"
      },
      "outputs": [
        {
          "output_type": "stream",
          "name": "stdout",
          "text": [
            "<class 'numpy.ndarray'>\n",
            "(60000, 1, 28, 28) (10000, 1, 28, 28) (60000, 10)\n"
          ]
        }
      ],
      "source": [
        "print(type(x_train))\n",
        "print(x_train.shape, x_test.shape, y_train.shape)"
      ]
    },
    {
      "cell_type": "markdown",
      "metadata": {
        "id": "d64xNkKdV7HX"
      },
      "source": [
        "We are using a very simple CNN. This network can be used to distinguish between all 10 classes with very high accuracy."
      ]
    },
    {
      "cell_type": "code",
      "execution_count": null,
      "metadata": {
        "ExecuteTime": {
          "end_time": "2021-09-20T18:39:44.535674Z",
          "start_time": "2021-09-20T18:39:44.368150Z"
        },
        "id": "GMjW64ADV7HY"
      },
      "outputs": [],
      "source": [
        "# define the classifier\n",
        "class Net(nn.Module):\n",
        "    def __init__(self):\n",
        "        super(Net, self).__init__()\n",
        "        self.conv_1 = nn.Conv2d(in_channels=1, out_channels=4, kernel_size=5, stride=1)\n",
        "        self.conv_2 = nn.Conv2d(in_channels=4, out_channels=10, kernel_size=5, stride=1)\n",
        "        self.fc_1 = nn.Linear(in_features=4 * 4 * 10, out_features=100)\n",
        "        self.fc_2 = nn.Linear(in_features=100, out_features=10)\n",
        "\n",
        "    def forward(self, x):\n",
        "        x = F.relu(self.conv_1(x))\n",
        "        x = F.max_pool2d(x, 2, 2)\n",
        "        x = F.relu(self.conv_2(x))\n",
        "        x = F.max_pool2d(x, 2, 2)\n",
        "        x = x.view(-1, 4 * 4 * 10)\n",
        "        x = F.relu(self.fc_1(x))\n",
        "        x = self.fc_2(x)\n",
        "        return x\n"
      ]
    },
    {
      "cell_type": "markdown",
      "metadata": {
        "id": "E_8rGWZ-OawN"
      },
      "source": [
        "Then, we initialize a model and train with the cross-entropy loss.\n",
        "\n",
        "To simplify the training code, we use the wrapper `PyTorchClassifier` from `ART` to train the model."
      ]
    },
    {
      "cell_type": "code",
      "execution_count": null,
      "metadata": {
        "ExecuteTime": {
          "end_time": "2021-09-20T18:39:55.972521Z",
          "start_time": "2021-09-20T18:39:44.539201Z"
        },
        "colab": {
          "base_uri": "https://localhost:8080/"
        },
        "id": "2iZ-HomzOawN",
        "outputId": "da1c5495-0658-4e57-de54-de75af3014e1"
      },
      "outputs": [
        {
          "output_type": "stream",
          "name": "stdout",
          "text": [
            "Accuracy on benign test examples: 97.91%\n"
          ]
        }
      ],
      "source": [
        "# Step 2: Create the model\n",
        "\n",
        "model = Net()\n",
        "\n",
        "# Step 2a: Define the loss function and the optimizer\n",
        "\n",
        "criterion = nn.CrossEntropyLoss()\n",
        "optimizer = optim.Adam(model.parameters(), lr=0.01)\n",
        "\n",
        "# Step 3: Create the ART classifier\n",
        "\n",
        "classifier = PyTorchClassifier(\n",
        "    model=model,\n",
        "    clip_values=(min_pixel_value, max_pixel_value),\n",
        "    loss=criterion,\n",
        "    optimizer=optimizer,\n",
        "    input_shape=(1, 28, 28),\n",
        "    nb_classes=10,\n",
        ")\n",
        "\n",
        "# Step 4: Train the ART classifier\n",
        "\n",
        "classifier.fit(x_train, y_train, batch_size=64, nb_epochs=10)\n",
        "\n",
        "# Step 5: Evaluate the ART classifier on benign test examples\n",
        "\n",
        "predictions = classifier.predict(x_test)\n",
        "accuracy = np.sum(np.argmax(predictions, axis=1) == np.argmax(y_test, axis=1)) / len(y_test)\n",
        "print(\"Accuracy on benign test examples: {}%\".format(accuracy * 100))"
      ]
    },
    {
      "cell_type": "code",
      "execution_count": null,
      "metadata": {
        "ExecuteTime": {
          "end_time": "2021-09-20T18:39:56.005178Z",
          "start_time": "2021-09-20T18:39:55.975174Z"
        },
        "pycharm": {
          "name": "#%%\n"
        },
        "id": "zr9bUY7iOawP",
        "colab": {
          "base_uri": "https://localhost:8080/"
        },
        "outputId": "ae04aea4-3929-4101-ea5a-371c785c2792"
      },
      "outputs": [
        {
          "output_type": "execute_result",
          "data": {
            "text/plain": [
              "device(type='cuda', index=0)"
            ]
          },
          "metadata": {},
          "execution_count": 11
        }
      ],
      "source": [
        "# the device(cpu/gpu) of the model\n",
        "\n",
        "device = next(model.parameters()).device\n",
        "device"
      ]
    },
    {
      "cell_type": "markdown",
      "metadata": {
        "id": "bn0dNIotIQ_n"
      },
      "source": [
        "Let's get to the actual attack. First, we pick a sample that we want to perturb. After that we will be implementing our own FGSM attack.\n",
        "\n",
        "The attack is fairly simple. It consists of the following steps:\n",
        "\n",
        "1.   Compute the loss of the original sample\n",
        "2.   Calculate the gradient of the loss w.r.t the input\n",
        "3.   Take the sign of the gradient and add a fraction episilon to the input, namely $x + \\epsilon sign(\\nabla_x J(x, y))$\n",
        "\n",
        "Epsilon controlls the strenght of the pertubation.\n",
        "\n",
        "First, we select a sample to visualize it and output the model's predictions."
      ]
    },
    {
      "cell_type": "code",
      "execution_count": null,
      "metadata": {
        "ExecuteTime": {
          "end_time": "2021-09-20T18:44:22.767406Z",
          "start_time": "2021-09-20T18:44:22.433939Z"
        },
        "id": "-1U3SGAeOawQ",
        "colab": {
          "base_uri": "https://localhost:8080/",
          "height": 545
        },
        "outputId": "b6bbcf49-c0bc-469b-aba6-d1c9018c1d52"
      },
      "outputs": [
        {
          "output_type": "stream",
          "name": "stdout",
          "text": [
            "(1, 28, 28)\n"
          ]
        },
        {
          "output_type": "display_data",
          "data": {
            "text/plain": [
              "<Figure size 640x480 with 1 Axes>"
            ],
            "image/png": "[encoded data removed]"
          },
          "metadata": {}
        },
        {
          "output_type": "stream",
          "name": "stdout",
          "text": [
            "output for the test samples:\n",
            " [[ 13.671443   -11.777933    -7.687038   -21.041943    -5.429765\n",
            "   -6.2753296   -0.38672453  -5.0125756   -6.6972246   -5.7071023 ]]\n",
            "class prediction for the test samples:\n",
            " tensor([[1.0000e+00, 8.8609e-12, 5.2982e-10, 8.3978e-16, 5.0635e-09, 2.1738e-09,\n",
            "         7.8454e-07, 7.6848e-09, 1.4256e-09, 3.8371e-09]], device='cuda:0')\n",
            "predicted as [0]\n"
          ]
        }
      ],
      "source": [
        "\n",
        "#chose a sample to pertubate\n",
        "sample_ind = 25 # chosen by totaly random dice roll\n",
        "\n",
        "# picking a test sample\n",
        "sample = x_test[ sample_ind, : ]\n",
        "\n",
        "print( sample.shape )\n",
        "\n",
        "# plot the first instance in the traning set\n",
        "plt.imshow( sample.reshape( 28, 28 ), cmap=\"gray_r\" )\n",
        "plt.axis( 'off' )\n",
        "plt.show( )\n",
        "\n",
        "t_sample = torch.FloatTensor(sample.reshape( (1, sample.shape[ 0 ], sample.shape[ 1 ], sample.shape[ 2 ]) ) ).to(device)\n",
        "pred_prob = F.softmax(model( t_sample ), dim=1)\n",
        "\n",
        "logits = classifier.predict( sample.reshape( (1, sample.shape[ 0 ], sample.shape[ 1 ], sample.shape[ 2 ]) ) )\n",
        "\n",
        "print( 'output for the test samples:\\n', logits )\n",
        "print( 'class prediction for the test samples:\\n', pred_prob.detach() )\n",
        "print( 'predicted as', np.argmax( logits , axis=1) )"
      ]
    },
    {
      "cell_type": "markdown",
      "metadata": {
        "id": "lSDRK1zAOawS"
      },
      "source": [
        "Since `ART` loads data as numpy array, we create a variable as PyTorch Tensor for convenience."
      ]
    },
    {
      "cell_type": "code",
      "execution_count": null,
      "metadata": {
        "ExecuteTime": {
          "end_time": "2021-09-20T18:44:25.303912Z",
          "start_time": "2021-09-20T18:44:25.266904Z"
        },
        "id": "ugejhOHUOawS"
      },
      "outputs": [],
      "source": [
        "t_sample = torch.FloatTensor(sample.reshape( (1, sample.shape[ 0 ], sample.shape[ 1 ], sample.shape[ 2 ]) ) ).to(device)\n",
        "one_hot_y = torch.LongTensor( y_test[ sample_ind, : ].reshape( ( 1, -1 ) ) ).to(device)\n",
        "t_y = torch.argmax(one_hot_y, dim=1)"
      ]
    },
    {
      "cell_type": "markdown",
      "metadata": {
        "id": "8Ke00x9-OawT"
      },
      "source": [
        "Construct adversarial examples from scratch."
      ]
    },
    {
      "cell_type": "markdown",
      "metadata": {
        "id": "zUDoLLIKOawU"
      },
      "source": [
        "It's caused by the mechanism of PyTorch.\n",
        "\n",
        "By default, only model's parameters will compute/require gradients.\n",
        "\n",
        "Now, we need to let the input data require gradients."
      ]
    },
    {
      "cell_type": "code",
      "execution_count": null,
      "metadata": {
        "ExecuteTime": {
          "end_time": "2021-09-20T18:44:59.675502Z",
          "start_time": "2021-09-20T18:44:58.371025Z"
        },
        "colab": {
          "base_uri": "https://localhost:8080/",
          "height": 562
        },
        "id": "RovKr9sKIQgh",
        "outputId": "0ad62f53-185c-43ae-c6ba-1170cea463d8"
      },
      "outputs": [
        {
          "output_type": "stream",
          "name": "stdout",
          "text": [
            "our adversarial example\n",
            "torch.Size([1, 1, 28, 28])\n",
            "logits for our sample: \t\n",
            " [[  6.1596036  -10.54993      0.34596282 -14.467785    -4.449729\n",
            "   -5.318031     6.3282347   -7.0117745   -8.034576    -5.3612666 ]]\n",
            "class prediction for our sample: \t\n",
            " tensor([[4.5731e-01, 2.5313e-08, 1.3658e-03, 5.0332e-10, 1.1288e-05, 4.7373e-06,\n",
            "         5.4131e-01, 8.7086e-07, 3.1315e-07, 4.5369e-06]], device='cuda:0')\n",
            "predicted as [6]\n"
          ]
        },
        {
          "output_type": "display_data",
          "data": {
            "text/plain": [
              "<Figure size 640x480 with 1 Axes>"
            ],
            "image/png": "[encoded data removed]"
          },
          "metadata": {}
        }
      ],
      "source": [
        "# constructing adversarial examples\n",
        "######################\n",
        "# fill in the blanks #\n",
        "######################\n",
        "\n",
        "eps = 0.05# allowed maximum modification\n",
        "\n",
        "# Set the data require gradients\n",
        "\n",
        "t_sample.requires_grad = True\n",
        "\n",
        "# compute logits\n",
        "\n",
        "logits = model(t_sample)\n",
        "\n",
        "# compute the loss of our original sample\n",
        "\n",
        "loss = nn.CrossEntropyLoss()(logits, t_y)\n",
        "\n",
        "# get the gradient wrt to the input.\n",
        "\n",
        "grads = torch.autograd.grad(loss, [t_sample])[0]\n",
        "\n",
        "# calculate the pertubation\n",
        "\n",
        "perturbation = torch.sign(grads)\n",
        "\n",
        "# apply pertubation\n",
        "\n",
        "x_adv = t_sample + perturbation * eps\n",
        "\n",
        "# now that we have the adversarial examples\n",
        "# get the prediction result and print the adversarial example\n",
        "\n",
        "\n",
        "print( 'our adversarial example' )\n",
        "print( x_adv.shape )\n",
        "print( 'logits for our sample: \\t\\n', classifier.predict( x_adv.cpu().detach().numpy() ) )\n",
        "print( 'class prediction for our sample: \\t\\n', F.softmax( model( x_adv ), dim=1 ).detach()  )\n",
        "print( 'predicted as', np.argmax( classifier.predict( x_adv.cpu().detach().numpy() ) , axis=1) )\n",
        "plt.imshow( x_adv.cpu().detach().numpy().reshape( 28, 28 ), cmap=\"gray_r\" )\n",
        "plt.axis( 'off' )\n",
        "plt.show( )\n"
      ]
    },
    {
      "cell_type": "markdown",
      "metadata": {
        "id": "azepEwpTewML"
      },
      "source": [
        "The FGSM is one of the most simple attacks.\n",
        "As we can see, results are not very convincing since the perturbation is perceptible.\n",
        "We can improve on it by making it iterative.\n",
        "\n",
        "Using the code from above, create an iterative version of FGSM that calculates a new perturbation for ever iteration and stops once it achieve misclassifaction.\n",
        "\n"
      ]
    },
    {
      "cell_type": "code",
      "execution_count": null,
      "metadata": {
        "ExecuteTime": {
          "end_time": "2021-09-20T18:45:41.111083Z",
          "start_time": "2021-09-20T18:45:41.010037Z"
        },
        "colab": {
          "base_uri": "https://localhost:8080/",
          "height": 406
        },
        "id": "iafxdtldOawX",
        "outputId": "8fab1d89-a5ae-4fe9-80cb-95232edf8549"
      },
      "outputs": [
        {
          "output_type": "display_data",
          "data": {
            "text/plain": [
              "<Figure size 640x480 with 1 Axes>"
            ],
            "image/png": "[encoded data removed]"
          },
          "metadata": {}
        }
      ],
      "source": [
        "plt.imshow( t_sample.cpu().detach().numpy().reshape( 28, 28 ), cmap=\"gray_r\" )\n",
        "plt.axis( 'off' )\n",
        "plt.show( )"
      ]
    },
    {
      "cell_type": "code",
      "execution_count": null,
      "metadata": {
        "ExecuteTime": {
          "end_time": "2021-09-20T18:46:29.491425Z",
          "start_time": "2021-09-20T18:46:29.331852Z"
        },
        "colab": {
          "base_uri": "https://localhost:8080/",
          "height": 562
        },
        "id": "mOHo8eQ0gS4F",
        "outputId": "aa798bda-865f-445f-df0b-177774d8b9c2"
      },
      "outputs": [
        {
          "output_type": "stream",
          "name": "stdout",
          "text": [
            "our adversarial example\n",
            "torch.Size([1, 1, 28, 28])\n",
            "logits for our sample: \t\n",
            " [[  0.9449905  -4.557856   -2.9043484 -13.162658   -3.3962893  -5.0581985\n",
            "    6.0764914  -8.176232   -1.8672246  -4.1838756]]\n",
            "class prediction for our sample: \t\n",
            " tensor([[5.8693e-03, 2.3918e-05, 1.2498e-04, 4.3824e-09, 7.6418e-05, 1.4502e-05,\n",
            "         9.9350e-01, 6.4164e-07, 3.5258e-04, 3.4766e-05]], device='cuda:0')\n",
            "predicted as [6]\n"
          ]
        },
        {
          "output_type": "display_data",
          "data": {
            "text/plain": [
              "<Figure size 640x480 with 1 Axes>"
            ],
            "image/png": "[encoded data removed]"
          },
          "metadata": {}
        }
      ],
      "source": [
        "epsilon = 0.005\n",
        "iterations = 10\n",
        "\n",
        "x_adv = t_sample.detach().clone()\n",
        "x_adv.requires_grad = True\n",
        "\n",
        "for i in range(iterations):\n",
        "    # your code here\n",
        "\n",
        "    # compute logits\n",
        "\n",
        "    logits = model(x_adv)\n",
        "\n",
        "    # compute the loss of our original sample\n",
        "\n",
        "    loss = nn.CrossEntropyLoss()(logits, t_y)\n",
        "\n",
        "    # get the gradient wrt to the input.\n",
        "\n",
        "    grads = torch.autograd.grad(loss, [x_adv])[0]\n",
        "\n",
        "    # calculate the pertubation\n",
        "\n",
        "    perturbation = torch.sign(grads)\n",
        "\n",
        "    # apply pertubation\n",
        "\n",
        "    x_adv.data += perturbation.detach() * epsilon\n",
        "\n",
        "print( 'our adversarial example' )\n",
        "print( x_adv.shape )\n",
        "print( 'logits for our sample: \\t\\n', classifier.predict( x_adv.cpu().detach().numpy() ) )\n",
        "print( 'class prediction for our sample: \\t\\n', F.softmax( model( x_adv ), dim=1 ).detach()  )\n",
        "print( 'predicted as', np.argmax( classifier.predict( x_adv.cpu().detach().numpy() ) , axis=1) )\n",
        "plt.imshow( x_adv.cpu().detach().numpy().reshape( 28, 28 ), cmap=\"gray_r\" )\n",
        "plt.axis( 'off' )\n",
        "plt.show( )"
      ]
    },
    {
      "cell_type": "markdown",
      "metadata": {
        "id": "VszDZ1p6V7Hc"
      },
      "source": [
        "Let's use `ART` library to do the actual attack.\n",
        "\n",
        "We will also use the FGSM attack to generate an adversarial example."
      ]
    },
    {
      "cell_type": "code",
      "execution_count": null,
      "metadata": {
        "ExecuteTime": {
          "end_time": "2021-09-20T18:46:40.358884Z",
          "start_time": "2021-09-20T18:46:37.843558Z"
        },
        "colab": {
          "base_uri": "https://localhost:8080/"
        },
        "id": "mQymSykoOawd",
        "outputId": "9529f520-7fc3-420b-e8ce-9edbcf7203c1"
      },
      "outputs": [
        {
          "output_type": "stream",
          "name": "stdout",
          "text": [
            "Accuracy on clean test examples: 97.91%\n",
            "Accuracy on adversarial test examples: 48.52%\n"
          ]
        }
      ],
      "source": [
        "# Evaluate\n",
        "predictions = classifier.predict(x_test)\n",
        "accuracy = np.sum(np.argmax(predictions, axis=1) == np.argmax(y_test, axis=1)) / len(y_test)\n",
        "print(\"Accuracy on clean test examples: {}%\".format(accuracy * 100))\n",
        "\n",
        "from art.attacks.evasion import FastGradientMethod\n",
        "attack = FastGradientMethod(estimator=classifier, eps=0.2)\n",
        "x_test_adv = attack.generate(x=x_test)\n",
        "\n",
        "# Step 7: Evaluate the ART classifier on adversarial test examples\n",
        "\n",
        "predictions = classifier.predict(x_test_adv)\n",
        "accuracy = np.sum(np.argmax(predictions, axis=1) == np.argmax(y_test, axis=1)) / len(y_test)\n",
        "print(\"Accuracy on adversarial test examples: {}%\".format(accuracy * 100))"
      ]
    },
    {
      "cell_type": "code",
      "execution_count": null,
      "metadata": {
        "ExecuteTime": {
          "end_time": "2021-09-20T18:47:11.028811Z",
          "start_time": "2021-09-20T18:47:10.899485Z"
        },
        "pycharm": {
          "name": "#%%\n"
        },
        "colab": {
          "base_uri": "https://localhost:8080/",
          "height": 475,
          "referenced_widgets": [
            "cb361b9825aa4206a1fba7bff2e5cced",
            "773fc6102763478a8820e4cc98349e9a",
            "85b1c8527a5e4654b4a4ff5e0db9b5f1",
            "7486afd95e384708858f5d371afd8c19",
            "227a539b94f6497bb36c62b28c9985c0",
            "f622888b91d743d5a0c3494e5bb0808e",
            "9737a9d8b903495aa12a9358ee2c5478",
            "43abfebb0ead4d53872d822146b66505",
            "2ec6b8b2a7d14620973394083f0baf4e",
            "6942ddc4fb9e465ca7d012793ddda186",
            "fde656e68cc1425dbcd664f0593784d5"
          ]
        },
        "id": "wCdGoCVDOawe",
        "outputId": "fd76ea22-1f36-448b-b7c4-b3aeb1e92e78"
      },
      "outputs": [
        {
          "output_type": "display_data",
          "data": {
            "text/plain": [
              "PGD - Batches:   0%|          | 0/1 [00:00<?, ?it/s]"
            ],
            "application/vnd.jupyter.widget-view+json": {
              "version_major": 2,
              "version_minor": 0,
              "model_id": "cb361b9825aa4206a1fba7bff2e5cced"
            }
          },
          "metadata": {}
        },
        {
          "output_type": "stream",
          "name": "stdout",
          "text": [
            "logits for our sample: \t\n",
            " [[-11.306394     1.8971353    2.1593668   -0.76262766 -20.211578\n",
            "   -8.560522    -6.92595    -15.361308    20.980938   -13.58745   ]]\n",
            "predicted as [8]\n"
          ]
        },
        {
          "output_type": "display_data",
          "data": {
            "text/plain": [
              "<Figure size 640x480 with 1 Axes>"
            ],
            "image/png": "[encoded data removed]"
          },
          "metadata": {}
        }
      ],
      "source": [
        "# Visualize one example\n",
        "x_test_adv = attack.generate(x=x_test[sample_ind:sample_ind+1, ])\n",
        "print( 'logits for our sample: \\t\\n', classifier.predict( x_test_adv ) )\n",
        "# print( 'class prediction for our sample: \\t\\n', F.softmax( model( x_test_adv ), dim=1 ).detach()  )\n",
        "print( 'predicted as', np.argmax( classifier.predict( x_test_adv ) , axis=1) )\n",
        "\n",
        "plt.imshow( x_test_adv.reshape( 28, 28 ), cmap=\"gray_r\" )\n",
        "plt.axis( 'off' )\n",
        "plt.show( )"
      ]
    },
    {
      "cell_type": "markdown",
      "metadata": {
        "id": "8212TwiOOawf"
      },
      "source": [
        "You can see that it's much simpler than we write it from scratch."
      ]
    },
    {
      "cell_type": "markdown",
      "metadata": {
        "id": "SrPLNrpgOawf"
      },
      "source": [
        "You can check it from https://github.com/Trusted-AI/adversarial-robustness-toolbox/blob/main/examples/get_started_pytorch.py"
      ]
    },
    {
      "cell_type": "markdown",
      "metadata": {
        "id": "vKJQIF24Y91W"
      },
      "source": [
        "We have seen that FGSM does not do a great job of producing adversarial examples when work with 0 and 1. Update the code above work on all 10 digits and try for a number of 0 instance what class they get transformed into in an untargeted attack.\n",
        "Alternativley pick a pair of numbers that you think are closer to each orther and the FGSM attack should work better with.\n",
        "\n",
        "\n",
        "`ART` provides more attacks than the once introduced above. Try any other attacks from the official documents.\n",
        "\n",
        "You can find more information on the attacks here: https://github.com/Trusted-AI/adversarial-robustness-toolbox/wiki/ART-Attacks and https://adversarial-robustness-toolbox.readthedocs.io/en/latest/modules/attacks/evasion.html#projected-gradient-descent-pgd"
      ]
    },
    {
      "cell_type": "code",
      "execution_count": null,
      "metadata": {
        "ExecuteTime": {
          "end_time": "2021-09-20T18:51:46.656771Z",
          "start_time": "2021-09-20T18:51:21.815338Z"
        },
        "colab": {
          "base_uri": "https://localhost:8080/",
          "height": 510,
          "referenced_widgets": [
            "c3af7f7f1a0b4569aba2a9c543bae15e",
            "f6f72470b29746adb18942c5396fa2d9",
            "530c1e9106724530acd853964f5c3120",
            "7e5bf3cc0bfe430fa3c2e0bef48aa2de",
            "597f60361ead456f832f26f7d2d05856",
            "994cff6e437c4a0e9e9ed02eba2d64df",
            "2fcd845eb3324b8798dd94409e394068",
            "85ea3a809f7543af9800349165bd4a7f",
            "a1e09f3f44184eefa3f93db31268badb",
            "6b26f290d46f45138fc6a2d32c1fc786",
            "ca356da64ec24494a4ae17f26a67302e",
            "9c37b2400430494ca81563e05a7fcb9c",
            "6bfd895d6d62475699a8cc06f1f74aca",
            "db2c1e6537674c31be66ff84c0dcda71",
            "e19ccdfe72b04ec38c6ed5764845e7df",
            "c150a252d68341f7b8c8fbac0224e2a3",
            "c7b1dbaecef14cada98280b5ce83c40c",
            "50a09e4803554d0793141bbfe8d54c0a",
            "503994a1c61d439db8a137bbe34ca078",
            "bc58607cb23346baa5cc0a772a558230",
            "88844478728045c69076268a50910d95",
            "d45f49ff9a944d24b95f35b60085ce34"
          ]
        },
        "id": "uvZ3hfrNcp9i",
        "outputId": "e48ddda7-d85e-408a-d38f-d6e8bfb41d4d"
      },
      "outputs": [
        {
          "output_type": "stream",
          "name": "stdout",
          "text": [
            "Accuracy on clean test examples: 97.91%\n"
          ]
        },
        {
          "output_type": "display_data",
          "data": {
            "text/plain": [
              "PGD - Batches:   0%|          | 0/313 [00:00<?, ?it/s]"
            ],
            "application/vnd.jupyter.widget-view+json": {
              "version_major": 2,
              "version_minor": 0,
              "model_id": "c3af7f7f1a0b4569aba2a9c543bae15e"
            }
          },
          "metadata": {}
        },
        {
          "output_type": "stream",
          "name": "stdout",
          "text": [
            "Accuracy on adversarial test examples: 2.9899999999999998%\n"
          ]
        },
        {
          "output_type": "display_data",
          "data": {
            "text/plain": [
              "PGD - Batches:   0%|          | 0/1 [00:00<?, ?it/s]"
            ],
            "application/vnd.jupyter.widget-view+json": {
              "version_major": 2,
              "version_minor": 0,
              "model_id": "9c37b2400430494ca81563e05a7fcb9c"
            }
          },
          "metadata": {}
        },
        {
          "output_type": "stream",
          "name": "stdout",
          "text": [
            "logits for our sample: \t\n",
            " [[-11.306394     1.8971353    2.1593668   -0.76262766 -20.211578\n",
            "   -8.560522    -6.92595    -15.361308    20.980938   -13.58745   ]]\n",
            "predicted as [8]\n"
          ]
        },
        {
          "output_type": "display_data",
          "data": {
            "text/plain": [
              "<Figure size 640x480 with 1 Axes>"
            ],
            "image/png": "[encoded data removed]"
          },
          "metadata": {}
        }
      ],
      "source": [
        "# your code here\n",
        "\n",
        "# Evaluate\n",
        "predictions = classifier.predict(x_test)\n",
        "accuracy = np.sum(np.argmax(predictions, axis=1) == np.argmax(y_test, axis=1)) / len(y_test)\n",
        "print(\"Accuracy on clean test examples: {}%\".format(accuracy * 100))\n",
        "\n",
        "from art.attacks.evasion import ProjectedGradientDescent\n",
        "attack = ProjectedGradientDescent(estimator=classifier, max_iter=20)\n",
        "x_test_adv = attack.generate(x=x_test)\n",
        "\n",
        "# Step 7: Evaluate the ART classifier on adversarial test examples\n",
        "\n",
        "predictions = classifier.predict(x_test_adv)\n",
        "accuracy = np.sum(np.argmax(predictions, axis=1) == np.argmax(y_test, axis=1)) / len(y_test)\n",
        "print(\"Accuracy on adversarial test examples: {}%\".format(accuracy * 100))\n",
        "\n",
        "# Visualize one example\n",
        "x_test_adv = attack.generate(x=x_test[sample_ind:sample_ind+1, ])\n",
        "print( 'logits for our sample: \\t\\n', classifier.predict( x_test_adv ) )\n",
        "# print( 'class prediction for our sample: \\t\\n', F.softmax( model( x_test_adv ), dim=1 ).detach()  )\n",
        "print( 'predicted as', np.argmax( classifier.predict( x_test_adv ) , axis=1) )\n",
        "\n",
        "plt.imshow( x_test_adv.reshape( 28, 28 ), cmap=\"gray_r\" )\n",
        "plt.axis( 'off' )\n",
        "plt.show( )"
      ]
    },
    {
      "cell_type": "code",
      "execution_count": null,
      "metadata": {
        "ExecuteTime": {
          "end_time": "2021-09-20T18:50:36.653185Z",
          "start_time": "2021-09-20T18:49:54.740Z"
        },
        "id": "JArHK5DuOawi"
      },
      "outputs": [],
      "source": []
    }
  ],
  "metadata": {
    "accelerator": "GPU",
    "colab": {
      "provenance": [],
      "include_colab_link": true
    },
    "kernelspec": {
      "display_name": "Python 3",
      "language": "python",
      "name": "python3"
    },
    "language_info": {
      "codemirror_mode": {
        "name": "ipython",
        "version": 3
      },
      "file_extension": ".py",
      "mimetype": "text/x-python",
      "name": "python",
      "nbconvert_exporter": "python",
      "pygments_lexer": "ipython3",
      "version": "3.7.3"
    },
    "toc": {
      "base_numbering": 1,
      "nav_menu": {},
      "number_sections": true,
      "sideBar": true,
      "skip_h1_title": false,
      "title_cell": "Table of Contents",
      "title_sidebar": "Contents",
      "toc_cell": false,
      "toc_position": {},
      "toc_section_display": true,
      "toc_window_display": false
    },
    "gpuClass": "standard",
    "widgets": {
      "application/vnd.jupyter.widget-state+json": {
        "cb361b9825aa4206a1fba7bff2e5cced": {
          "model_module": "@jupyter-widgets/controls",
          "model_name": "HBoxModel",
          "model_module_version": "1.5.0",
          "state": {
            "_dom_classes": [],
            "_model_module": "@jupyter-widgets/controls",
            "_model_module_version": "1.5.0",
            "_model_name": "HBoxModel",
            "_view_count": null,
            "_view_module": "@jupyter-widgets/controls",
            "_view_module_version": "1.5.0",
            "_view_name": "HBoxView",
            "box_style": "",
            "children": [
              "IPY_MODEL_773fc6102763478a8820e4cc98349e9a",
              "IPY_MODEL_85b1c8527a5e4654b4a4ff5e0db9b5f1",
              "IPY_MODEL_7486afd95e384708858f5d371afd8c19"
            ],
            "layout": "IPY_MODEL_227a539b94f6497bb36c62b28c9985c0"
          }
        },
        "773fc6102763478a8820e4cc98349e9a": {
          "model_module": "@jupyter-widgets/controls",
          "model_name": "HTMLModel",
          "model_module_version": "1.5.0",
          "state": {
            "_dom_classes": [],
            "_model_module": "@jupyter-widgets/controls",
            "_model_module_version": "1.5.0",
            "_model_name": "HTMLModel",
            "_view_count": null,
            "_view_module": "@jupyter-widgets/controls",
            "_view_module_version": "1.5.0",
            "_view_name": "HTMLView",
            "description": "",
            "description_tooltip": null,
            "layout": "IPY_MODEL_f622888b91d743d5a0c3494e5bb0808e",
            "placeholder": "​",
            "style": "IPY_MODEL_9737a9d8b903495aa12a9358ee2c5478",
            "value": "PGD - Batches:   0%"
          }
        },
        "85b1c8527a5e4654b4a4ff5e0db9b5f1": {
          "model_module": "@jupyter-widgets/controls",
          "model_name": "FloatProgressModel",
          "model_module_version": "1.5.0",
          "state": {
            "_dom_classes": [],
            "_model_module": "@jupyter-widgets/controls",
            "_model_module_version": "1.5.0",
            "_model_name": "FloatProgressModel",
            "_view_count": null,
            "_view_module": "@jupyter-widgets/controls",
            "_view_module_version": "1.5.0",
            "_view_name": "ProgressView",
            "bar_style": "",
            "description": "",
            "description_tooltip": null,
            "layout": "IPY_MODEL_43abfebb0ead4d53872d822146b66505",
            "max": 1,
            "min": 0,
            "orientation": "horizontal",
            "style": "IPY_MODEL_2ec6b8b2a7d14620973394083f0baf4e",
            "value": 1
          }
        },
        "7486afd95e384708858f5d371afd8c19": {
          "model_module": "@jupyter-widgets/controls",
          "model_name": "HTMLModel",
          "model_module_version": "1.5.0",
          "state": {
            "_dom_classes": [],
            "_model_module": "@jupyter-widgets/controls",
            "_model_module_version": "1.5.0",
            "_model_name": "HTMLModel",
            "_view_count": null,
            "_view_module": "@jupyter-widgets/controls",
            "_view_module_version": "1.5.0",
            "_view_name": "HTMLView",
            "description": "",
            "description_tooltip": null,
            "layout": "IPY_MODEL_6942ddc4fb9e465ca7d012793ddda186",
            "placeholder": "​",
            "style": "IPY_MODEL_fde656e68cc1425dbcd664f0593784d5",
            "value": " 0/1 [00:00&lt;?, ?it/s]"
          }
        },
        "227a539b94f6497bb36c62b28c9985c0": {
          "model_module": "@jupyter-widgets/base",
          "model_name": "LayoutModel",
          "model_module_version": "1.2.0",
          "state": {
            "_model_module": "@jupyter-widgets/base",
            "_model_module_version": "1.2.0",
            "_model_name": "LayoutModel",
            "_view_count": null,
            "_view_module": "@jupyter-widgets/base",
            "_view_module_version": "1.2.0",
            "_view_name": "LayoutView",
            "align_content": null,
            "align_items": null,
            "align_self": null,
            "border": null,
            "bottom": null,
            "display": null,
            "flex": null,
            "flex_flow": null,
            "grid_area": null,
            "grid_auto_columns": null,
            "grid_auto_flow": null,
            "grid_auto_rows": null,
            "grid_column": null,
            "grid_gap": null,
            "grid_row": null,
            "grid_template_areas": null,
            "grid_template_columns": null,
            "grid_template_rows": null,
            "height": null,
            "justify_content": null,
            "justify_items": null,
            "left": null,
            "margin": null,
            "max_height": null,
            "max_width": null,
            "min_height": null,
            "min_width": null,
            "object_fit": null,
            "object_position": null,
            "order": null,
            "overflow": null,
            "overflow_x": null,
            "overflow_y": null,
            "padding": null,
            "right": null,
            "top": null,
            "visibility": "hidden",
            "width": null
          }
        },
        "f622888b91d743d5a0c3494e5bb0808e": {
          "model_module": "@jupyter-widgets/base",
          "model_name": "LayoutModel",
          "model_module_version": "1.2.0",
          "state": {
            "_model_module": "@jupyter-widgets/base",
            "_model_module_version": "1.2.0",
            "_model_name": "LayoutModel",
            "_view_count": null,
            "_view_module": "@jupyter-widgets/base",
            "_view_module_version": "1.2.0",
            "_view_name": "LayoutView",
            "align_content": null,
            "align_items": null,
            "align_self": null,
            "border": null,
            "bottom": null,
            "display": null,
            "flex": null,
            "flex_flow": null,
            "grid_area": null,
            "grid_auto_columns": null,
            "grid_auto_flow": null,
            "grid_auto_rows": null,
            "grid_column": null,
            "grid_gap": null,
            "grid_row": null,
            "grid_template_areas": null,
            "grid_template_columns": null,
            "grid_template_rows": null,
            "height": null,
            "justify_content": null,
            "justify_items": null,
            "left": null,
            "margin": null,
            "max_height": null,
            "max_width": null,
            "min_height": null,
            "min_width": null,
            "object_fit": null,
            "object_position": null,
            "order": null,
            "overflow": null,
            "overflow_x": null,
            "overflow_y": null,
            "padding": null,
            "right": null,
            "top": null,
            "visibility": null,
            "width": null
          }
        },
        "9737a9d8b903495aa12a9358ee2c5478": {
          "model_module": "@jupyter-widgets/controls",
          "model_name": "DescriptionStyleModel",
          "model_module_version": "1.5.0",
          "state": {
            "_model_module": "@jupyter-widgets/controls",
            "_model_module_version": "1.5.0",
            "_model_name": "DescriptionStyleModel",
            "_view_count": null,
            "_view_module": "@jupyter-widgets/base",
            "_view_module_version": "1.2.0",
            "_view_name": "StyleView",
            "description_width": ""
          }
        },
        "43abfebb0ead4d53872d822146b66505": {
          "model_module": "@jupyter-widgets/base",
          "model_name": "LayoutModel",
          "model_module_version": "1.2.0",
          "state": {
            "_model_module": "@jupyter-widgets/base",
            "_model_module_version": "1.2.0",
            "_model_name": "LayoutModel",
            "_view_count": null,
            "_view_module": "@jupyter-widgets/base",
            "_view_module_version": "1.2.0",
            "_view_name": "LayoutView",
            "align_content": null,
            "align_items": null,
            "align_self": null,
            "border": null,
            "bottom": null,
            "display": null,
            "flex": null,
            "flex_flow": null,
            "grid_area": null,
            "grid_auto_columns": null,
            "grid_auto_flow": null,
            "grid_auto_rows": null,
            "grid_column": null,
            "grid_gap": null,
            "grid_row": null,
            "grid_template_areas": null,
            "grid_template_columns": null,
            "grid_template_rows": null,
            "height": null,
            "justify_content": null,
            "justify_items": null,
            "left": null,
            "margin": null,
            "max_height": null,
            "max_width": null,
            "min_height": null,
            "min_width": null,
            "object_fit": null,
            "object_position": null,
            "order": null,
            "overflow": null,
            "overflow_x": null,
            "overflow_y": null,
            "padding": null,
            "right": null,
            "top": null,
            "visibility": null,
            "width": null
          }
        },
        "2ec6b8b2a7d14620973394083f0baf4e": {
          "model_module": "@jupyter-widgets/controls",
          "model_name": "ProgressStyleModel",
          "model_module_version": "1.5.0",
          "state": {
            "_model_module": "@jupyter-widgets/controls",
            "_model_module_version": "1.5.0",
            "_model_name": "ProgressStyleModel",
            "_view_count": null,
            "_view_module": "@jupyter-widgets/base",
            "_view_module_version": "1.2.0",
            "_view_name": "StyleView",
            "bar_color": null,
            "description_width": ""
          }
        },
        "6942ddc4fb9e465ca7d012793ddda186": {
          "model_module": "@jupyter-widgets/base",
          "model_name": "LayoutModel",
          "model_module_version": "1.2.0",
          "state": {
            "_model_module": "@jupyter-widgets/base",
            "_model_module_version": "1.2.0",
            "_model_name": "LayoutModel",
            "_view_count": null,
            "_view_module": "@jupyter-widgets/base",
            "_view_module_version": "1.2.0",
            "_view_name": "LayoutView",
            "align_content": null,
            "align_items": null,
            "align_self": null,
            "border": null,
            "bottom": null,
            "display": null,
            "flex": null,
            "flex_flow": null,
            "grid_area": null,
            "grid_auto_columns": null,
            "grid_auto_flow": null,
            "grid_auto_rows": null,
            "grid_column": null,
            "grid_gap": null,
            "grid_row": null,
            "grid_template_areas": null,
            "grid_template_columns": null,
            "grid_template_rows": null,
            "height": null,
            "justify_content": null,
            "justify_items": null,
            "left": null,
            "margin": null,
            "max_height": null,
            "max_width": null,
            "min_height": null,
            "min_width": null,
            "object_fit": null,
            "object_position": null,
            "order": null,
            "overflow": null,
            "overflow_x": null,
            "overflow_y": null,
            "padding": null,
            "right": null,
            "top": null,
            "visibility": null,
            "width": null
          }
        },
        "fde656e68cc1425dbcd664f0593784d5": {
          "model_module": "@jupyter-widgets/controls",
          "model_name": "DescriptionStyleModel",
          "model_module_version": "1.5.0",
          "state": {
            "_model_module": "@jupyter-widgets/controls",
            "_model_module_version": "1.5.0",
            "_model_name": "DescriptionStyleModel",
            "_view_count": null,
            "_view_module": "@jupyter-widgets/base",
            "_view_module_version": "1.2.0",
            "_view_name": "StyleView",
            "description_width": ""
          }
        },
        "c3af7f7f1a0b4569aba2a9c543bae15e": {
          "model_module": "@jupyter-widgets/controls",
          "model_name": "HBoxModel",
          "model_module_version": "1.5.0",
          "state": {
            "_dom_classes": [],
            "_model_module": "@jupyter-widgets/controls",
            "_model_module_version": "1.5.0",
            "_model_name": "HBoxModel",
            "_view_count": null,
            "_view_module": "@jupyter-widgets/controls",
            "_view_module_version": "1.5.0",
            "_view_name": "HBoxView",
            "box_style": "",
            "children": [
              "IPY_MODEL_f6f72470b29746adb18942c5396fa2d9",
              "IPY_MODEL_530c1e9106724530acd853964f5c3120",
              "IPY_MODEL_7e5bf3cc0bfe430fa3c2e0bef48aa2de"
            ],
            "layout": "IPY_MODEL_597f60361ead456f832f26f7d2d05856"
          }
        },
        "f6f72470b29746adb18942c5396fa2d9": {
          "model_module": "@jupyter-widgets/controls",
          "model_name": "HTMLModel",
          "model_module_version": "1.5.0",
          "state": {
            "_dom_classes": [],
            "_model_module": "@jupyter-widgets/controls",
            "_model_module_version": "1.5.0",
            "_model_name": "HTMLModel",
            "_view_count": null,
            "_view_module": "@jupyter-widgets/controls",
            "_view_module_version": "1.5.0",
            "_view_name": "HTMLView",
            "description": "",
            "description_tooltip": null,
            "layout": "IPY_MODEL_994cff6e437c4a0e9e9ed02eba2d64df",
            "placeholder": "​",
            "style": "IPY_MODEL_2fcd845eb3324b8798dd94409e394068",
            "value": "PGD - Batches: 100%"
          }
        },
        "530c1e9106724530acd853964f5c3120": {
          "model_module": "@jupyter-widgets/controls",
          "model_name": "FloatProgressModel",
          "model_module_version": "1.5.0",
          "state": {
            "_dom_classes": [],
            "_model_module": "@jupyter-widgets/controls",
            "_model_module_version": "1.5.0",
            "_model_name": "FloatProgressModel",
            "_view_count": null,
            "_view_module": "@jupyter-widgets/controls",
            "_view_module_version": "1.5.0",
            "_view_name": "ProgressView",
            "bar_style": "",
            "description": "",
            "description_tooltip": null,
            "layout": "IPY_MODEL_85ea3a809f7543af9800349165bd4a7f",
            "max": 313,
            "min": 0,
            "orientation": "horizontal",
            "style": "IPY_MODEL_a1e09f3f44184eefa3f93db31268badb",
            "value": 313
          }
        },
        "7e5bf3cc0bfe430fa3c2e0bef48aa2de": {
          "model_module": "@jupyter-widgets/controls",
          "model_name": "HTMLModel",
          "model_module_version": "1.5.0",
          "state": {
            "_dom_classes": [],
            "_model_module": "@jupyter-widgets/controls",
            "_model_module_version": "1.5.0",
            "_model_name": "HTMLModel",
            "_view_count": null,
            "_view_module": "@jupyter-widgets/controls",
            "_view_module_version": "1.5.0",
            "_view_name": "HTMLView",
            "description": "",
            "description_tooltip": null,
            "layout": "IPY_MODEL_6b26f290d46f45138fc6a2d32c1fc786",
            "placeholder": "​",
            "style": "IPY_MODEL_ca356da64ec24494a4ae17f26a67302e",
            "value": " 313/313 [00:16&lt;00:00, 23.44it/s]"
          }
        },
        "597f60361ead456f832f26f7d2d05856": {
          "model_module": "@jupyter-widgets/base",
          "model_name": "LayoutModel",
          "model_module_version": "1.2.0",
          "state": {
            "_model_module": "@jupyter-widgets/base",
            "_model_module_version": "1.2.0",
            "_model_name": "LayoutModel",
            "_view_count": null,
            "_view_module": "@jupyter-widgets/base",
            "_view_module_version": "1.2.0",
            "_view_name": "LayoutView",
            "align_content": null,
            "align_items": null,
            "align_self": null,
            "border": null,
            "bottom": null,
            "display": null,
            "flex": null,
            "flex_flow": null,
            "grid_area": null,
            "grid_auto_columns": null,
            "grid_auto_flow": null,
            "grid_auto_rows": null,
            "grid_column": null,
            "grid_gap": null,
            "grid_row": null,
            "grid_template_areas": null,
            "grid_template_columns": null,
            "grid_template_rows": null,
            "height": null,
            "justify_content": null,
            "justify_items": null,
            "left": null,
            "margin": null,
            "max_height": null,
            "max_width": null,
            "min_height": null,
            "min_width": null,
            "object_fit": null,
            "object_position": null,
            "order": null,
            "overflow": null,
            "overflow_x": null,
            "overflow_y": null,
            "padding": null,
            "right": null,
            "top": null,
            "visibility": "hidden",
            "width": null
          }
        },
        "994cff6e437c4a0e9e9ed02eba2d64df": {
          "model_module": "@jupyter-widgets/base",
          "model_name": "LayoutModel",
          "model_module_version": "1.2.0",
          "state": {
            "_model_module": "@jupyter-widgets/base",
            "_model_module_version": "1.2.0",
            "_model_name": "LayoutModel",
            "_view_count": null,
            "_view_module": "@jupyter-widgets/base",
            "_view_module_version": "1.2.0",
            "_view_name": "LayoutView",
            "align_content": null,
            "align_items": null,
            "align_self": null,
            "border": null,
            "bottom": null,
            "display": null,
            "flex": null,
            "flex_flow": null,
            "grid_area": null,
            "grid_auto_columns": null,
            "grid_auto_flow": null,
            "grid_auto_rows": null,
            "grid_column": null,
            "grid_gap": null,
            "grid_row": null,
            "grid_template_areas": null,
            "grid_template_columns": null,
            "grid_template_rows": null,
            "height": null,
            "justify_content": null,
            "justify_items": null,
            "left": null,
            "margin": null,
            "max_height": null,
            "max_width": null,
            "min_height": null,
            "min_width": null,
            "object_fit": null,
            "object_position": null,
            "order": null,
            "overflow": null,
            "overflow_x": null,
            "overflow_y": null,
            "padding": null,
            "right": null,
            "top": null,
            "visibility": null,
            "width": null
          }
        },
        "2fcd845eb3324b8798dd94409e394068": {
          "model_module": "@jupyter-widgets/controls",
          "model_name": "DescriptionStyleModel",
          "model_module_version": "1.5.0",
          "state": {
            "_model_module": "@jupyter-widgets/controls",
            "_model_module_version": "1.5.0",
            "_model_name": "DescriptionStyleModel",
            "_view_count": null,
            "_view_module": "@jupyter-widgets/base",
            "_view_module_version": "1.2.0",
            "_view_name": "StyleView",
            "description_width": ""
          }
        },
        "85ea3a809f7543af9800349165bd4a7f": {
          "model_module": "@jupyter-widgets/base",
          "model_name": "LayoutModel",
          "model_module_version": "1.2.0",
          "state": {
            "_model_module": "@jupyter-widgets/base",
            "_model_module_version": "1.2.0",
            "_model_name": "LayoutModel",
            "_view_count": null,
            "_view_module": "@jupyter-widgets/base",
            "_view_module_version": "1.2.0",
            "_view_name": "LayoutView",
            "align_content": null,
            "align_items": null,
            "align_self": null,
            "border": null,
            "bottom": null,
            "display": null,
            "flex": null,
            "flex_flow": null,
            "grid_area": null,
            "grid_auto_columns": null,
            "grid_auto_flow": null,
            "grid_auto_rows": null,
            "grid_column": null,
            "grid_gap": null,
            "grid_row": null,
            "grid_template_areas": null,
            "grid_template_columns": null,
            "grid_template_rows": null,
            "height": null,
            "justify_content": null,
            "justify_items": null,
            "left": null,
            "margin": null,
            "max_height": null,
            "max_width": null,
            "min_height": null,
            "min_width": null,
            "object_fit": null,
            "object_position": null,
            "order": null,
            "overflow": null,
            "overflow_x": null,
            "overflow_y": null,
            "padding": null,
            "right": null,
            "top": null,
            "visibility": null,
            "width": null
          }
        },
        "a1e09f3f44184eefa3f93db31268badb": {
          "model_module": "@jupyter-widgets/controls",
          "model_name": "ProgressStyleModel",
          "model_module_version": "1.5.0",
          "state": {
            "_model_module": "@jupyter-widgets/controls",
            "_model_module_version": "1.5.0",
            "_model_name": "ProgressStyleModel",
            "_view_count": null,
            "_view_module": "@jupyter-widgets/base",
            "_view_module_version": "1.2.0",
            "_view_name": "StyleView",
            "bar_color": null,
            "description_width": ""
          }
        },
        "6b26f290d46f45138fc6a2d32c1fc786": {
          "model_module": "@jupyter-widgets/base",
          "model_name": "LayoutModel",
          "model_module_version": "1.2.0",
          "state": {
            "_model_module": "@jupyter-widgets/base",
            "_model_module_version": "1.2.0",
            "_model_name": "LayoutModel",
            "_view_count": null,
            "_view_module": "@jupyter-widgets/base",
            "_view_module_version": "1.2.0",
            "_view_name": "LayoutView",
            "align_content": null,
            "align_items": null,
            "align_self": null,
            "border": null,
            "bottom": null,
            "display": null,
            "flex": null,
            "flex_flow": null,
            "grid_area": null,
            "grid_auto_columns": null,
            "grid_auto_flow": null,
            "grid_auto_rows": null,
            "grid_column": null,
            "grid_gap": null,
            "grid_row": null,
            "grid_template_areas": null,
            "grid_template_columns": null,
            "grid_template_rows": null,
            "height": null,
            "justify_content": null,
            "justify_items": null,
            "left": null,
            "margin": null,
            "max_height": null,
            "max_width": null,
            "min_height": null,
            "min_width": null,
            "object_fit": null,
            "object_position": null,
            "order": null,
            "overflow": null,
            "overflow_x": null,
            "overflow_y": null,
            "padding": null,
            "right": null,
            "top": null,
            "visibility": null,
            "width": null
          }
        },
        "ca356da64ec24494a4ae17f26a67302e": {
          "model_module": "@jupyter-widgets/controls",
          "model_name": "DescriptionStyleModel",
          "model_module_version": "1.5.0",
          "state": {
            "_model_module": "@jupyter-widgets/controls",
            "_model_module_version": "1.5.0",
            "_model_name": "DescriptionStyleModel",
            "_view_count": null,
            "_view_module": "@jupyter-widgets/base",
            "_view_module_version": "1.2.0",
            "_view_name": "StyleView",
            "description_width": ""
          }
        },
        "9c37b2400430494ca81563e05a7fcb9c": {
          "model_module": "@jupyter-widgets/controls",
          "model_name": "HBoxModel",
          "model_module_version": "1.5.0",
          "state": {
            "_dom_classes": [],
            "_model_module": "@jupyter-widgets/controls",
            "_model_module_version": "1.5.0",
            "_model_name": "HBoxModel",
            "_view_count": null,
            "_view_module": "@jupyter-widgets/controls",
            "_view_module_version": "1.5.0",
            "_view_name": "HBoxView",
            "box_style": "",
            "children": [
              "IPY_MODEL_6bfd895d6d62475699a8cc06f1f74aca",
              "IPY_MODEL_db2c1e6537674c31be66ff84c0dcda71",
              "IPY_MODEL_e19ccdfe72b04ec38c6ed5764845e7df"
            ],
            "layout": "IPY_MODEL_c150a252d68341f7b8c8fbac0224e2a3"
          }
        },
        "6bfd895d6d62475699a8cc06f1f74aca": {
          "model_module": "@jupyter-widgets/controls",
          "model_name": "HTMLModel",
          "model_module_version": "1.5.0",
          "state": {
            "_dom_classes": [],
            "_model_module": "@jupyter-widgets/controls",
            "_model_module_version": "1.5.0",
            "_model_name": "HTMLModel",
            "_view_count": null,
            "_view_module": "@jupyter-widgets/controls",
            "_view_module_version": "1.5.0",
            "_view_name": "HTMLView",
            "description": "",
            "description_tooltip": null,
            "layout": "IPY_MODEL_c7b1dbaecef14cada98280b5ce83c40c",
            "placeholder": "​",
            "style": "IPY_MODEL_50a09e4803554d0793141bbfe8d54c0a",
            "value": "PGD - Batches:   0%"
          }
        },
        "db2c1e6537674c31be66ff84c0dcda71": {
          "model_module": "@jupyter-widgets/controls",
          "model_name": "FloatProgressModel",
          "model_module_version": "1.5.0",
          "state": {
            "_dom_classes": [],
            "_model_module": "@jupyter-widgets/controls",
            "_model_module_version": "1.5.0",
            "_model_name": "FloatProgressModel",
            "_view_count": null,
            "_view_module": "@jupyter-widgets/controls",
            "_view_module_version": "1.5.0",
            "_view_name": "ProgressView",
            "bar_style": "",
            "description": "",
            "description_tooltip": null,
            "layout": "IPY_MODEL_503994a1c61d439db8a137bbe34ca078",
            "max": 1,
            "min": 0,
            "orientation": "horizontal",
            "style": "IPY_MODEL_bc58607cb23346baa5cc0a772a558230",
            "value": 1
          }
        },
        "e19ccdfe72b04ec38c6ed5764845e7df": {
          "model_module": "@jupyter-widgets/controls",
          "model_name": "HTMLModel",
          "model_module_version": "1.5.0",
          "state": {
            "_dom_classes": [],
            "_model_module": "@jupyter-widgets/controls",
            "_model_module_version": "1.5.0",
            "_model_name": "HTMLModel",
            "_view_count": null,
            "_view_module": "@jupyter-widgets/controls",
            "_view_module_version": "1.5.0",
            "_view_name": "HTMLView",
            "description": "",
            "description_tooltip": null,
            "layout": "IPY_MODEL_88844478728045c69076268a50910d95",
            "placeholder": "​",
            "style": "IPY_MODEL_d45f49ff9a944d24b95f35b60085ce34",
            "value": " 0/1 [00:00&lt;?, ?it/s]"
          }
        },
        "c150a252d68341f7b8c8fbac0224e2a3": {
          "model_module": "@jupyter-widgets/base",
          "model_name": "LayoutModel",
          "model_module_version": "1.2.0",
          "state": {
            "_model_module": "@jupyter-widgets/base",
            "_model_module_version": "1.2.0",
            "_model_name": "LayoutModel",
            "_view_count": null,
            "_view_module": "@jupyter-widgets/base",
            "_view_module_version": "1.2.0",
            "_view_name": "LayoutView",
            "align_content": null,
            "align_items": null,
            "align_self": null,
            "border": null,
            "bottom": null,
            "display": null,
            "flex": null,
            "flex_flow": null,
            "grid_area": null,
            "grid_auto_columns": null,
            "grid_auto_flow": null,
            "grid_auto_rows": null,
            "grid_column": null,
            "grid_gap": null,
            "grid_row": null,
            "grid_template_areas": null,
            "grid_template_columns": null,
            "grid_template_rows": null,
            "height": null,
            "justify_content": null,
            "justify_items": null,
            "left": null,
            "margin": null,
            "max_height": null,
            "max_width": null,
            "min_height": null,
            "min_width": null,
            "object_fit": null,
            "object_position": null,
            "order": null,
            "overflow": null,
            "overflow_x": null,
            "overflow_y": null,
            "padding": null,
            "right": null,
            "top": null,
            "visibility": "hidden",
            "width": null
          }
        },
        "c7b1dbaecef14cada98280b5ce83c40c": {
          "model_module": "@jupyter-widgets/base",
          "model_name": "LayoutModel",
          "model_module_version": "1.2.0",
          "state": {
            "_model_module": "@jupyter-widgets/base",
            "_model_module_version": "1.2.0",
            "_model_name": "LayoutModel",
            "_view_count": null,
            "_view_module": "@jupyter-widgets/base",
            "_view_module_version": "1.2.0",
            "_view_name": "LayoutView",
            "align_content": null,
            "align_items": null,
            "align_self": null,
            "border": null,
            "bottom": null,
            "display": null,
            "flex": null,
            "flex_flow": null,
            "grid_area": null,
            "grid_auto_columns": null,
            "grid_auto_flow": null,
            "grid_auto_rows": null,
            "grid_column": null,
            "grid_gap": null,
            "grid_row": null,
            "grid_template_areas": null,
            "grid_template_columns": null,
            "grid_template_rows": null,
            "height": null,
            "justify_content": null,
            "justify_items": null,
            "left": null,
            "margin": null,
            "max_height": null,
            "max_width": null,
            "min_height": null,
            "min_width": null,
            "object_fit": null,
            "object_position": null,
            "order": null,
            "overflow": null,
            "overflow_x": null,
            "overflow_y": null,
            "padding": null,
            "right": null,
            "top": null,
            "visibility": null,
            "width": null
          }
        },
        "50a09e4803554d0793141bbfe8d54c0a": {
          "model_module": "@jupyter-widgets/controls",
          "model_name": "DescriptionStyleModel",
          "model_module_version": "1.5.0",
          "state": {
            "_model_module": "@jupyter-widgets/controls",
            "_model_module_version": "1.5.0",
            "_model_name": "DescriptionStyleModel",
            "_view_count": null,
            "_view_module": "@jupyter-widgets/base",
            "_view_module_version": "1.2.0",
            "_view_name": "StyleView",
            "description_width": ""
          }
        },
        "503994a1c61d439db8a137bbe34ca078": {
          "model_module": "@jupyter-widgets/base",
          "model_name": "LayoutModel",
          "model_module_version": "1.2.0",
          "state": {
            "_model_module": "@jupyter-widgets/base",
            "_model_module_version": "1.2.0",
            "_model_name": "LayoutModel",
            "_view_count": null,
            "_view_module": "@jupyter-widgets/base",
            "_view_module_version": "1.2.0",
            "_view_name": "LayoutView",
            "align_content": null,
            "align_items": null,
            "align_self": null,
            "border": null,
            "bottom": null,
            "display": null,
            "flex": null,
            "flex_flow": null,
            "grid_area": null,
            "grid_auto_columns": null,
            "grid_auto_flow": null,
            "grid_auto_rows": null,
            "grid_column": null,
            "grid_gap": null,
            "grid_row": null,
            "grid_template_areas": null,
            "grid_template_columns": null,
            "grid_template_rows": null,
            "height": null,
            "justify_content": null,
            "justify_items": null,
            "left": null,
            "margin": null,
            "max_height": null,
            "max_width": null,
            "min_height": null,
            "min_width": null,
            "object_fit": null,
            "object_position": null,
            "order": null,
            "overflow": null,
            "overflow_x": null,
            "overflow_y": null,
            "padding": null,
            "right": null,
            "top": null,
            "visibility": null,
            "width": null
          }
        },
        "bc58607cb23346baa5cc0a772a558230": {
          "model_module": "@jupyter-widgets/controls",
          "model_name": "ProgressStyleModel",
          "model_module_version": "1.5.0",
          "state": {
            "_model_module": "@jupyter-widgets/controls",
            "_model_module_version": "1.5.0",
            "_model_name": "ProgressStyleModel",
            "_view_count": null,
            "_view_module": "@jupyter-widgets/base",
            "_view_module_version": "1.2.0",
            "_view_name": "StyleView",
            "bar_color": null,
            "description_width": ""
          }
        },
        "88844478728045c69076268a50910d95": {
          "model_module": "@jupyter-widgets/base",
          "model_name": "LayoutModel",
          "model_module_version": "1.2.0",
          "state": {
            "_model_module": "@jupyter-widgets/base",
            "_model_module_version": "1.2.0",
            "_model_name": "LayoutModel",
            "_view_count": null,
            "_view_module": "@jupyter-widgets/base",
            "_view_module_version": "1.2.0",
            "_view_name": "LayoutView",
            "align_content": null,
            "align_items": null,
            "align_self": null,
            "border": null,
            "bottom": null,
            "display": null,
            "flex": null,
            "flex_flow": null,
            "grid_area": null,
            "grid_auto_columns": null,
            "grid_auto_flow": null,
            "grid_auto_rows": null,
            "grid_column": null,
            "grid_gap": null,
            "grid_row": null,
            "grid_template_areas": null,
            "grid_template_columns": null,
            "grid_template_rows": null,
            "height": null,
            "justify_content": null,
            "justify_items": null,
            "left": null,
            "margin": null,
            "max_height": null,
            "max_width": null,
            "min_height": null,
            "min_width": null,
            "object_fit": null,
            "object_position": null,
            "order": null,
            "overflow": null,
            "overflow_x": null,
            "overflow_y": null,
            "padding": null,
            "right": null,
            "top": null,
            "visibility": null,
            "width": null
          }
        },
        "d45f49ff9a944d24b95f35b60085ce34": {
          "model_module": "@jupyter-widgets/controls",
          "model_name": "DescriptionStyleModel",
          "model_module_version": "1.5.0",
          "state": {
            "_model_module": "@jupyter-widgets/controls",
            "_model_module_version": "1.5.0",
            "_model_name": "DescriptionStyleModel",
            "_view_count": null,
            "_view_module": "@jupyter-widgets/base",
            "_view_module_version": "1.2.0",
            "_view_name": "StyleView",
            "description_width": ""
          }
        }
      }
    }
  },
  "nbformat": 4,
  "nbformat_minor": 0
}