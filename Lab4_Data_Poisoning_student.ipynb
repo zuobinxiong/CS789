{
  "cells": [
    {
      "cell_type": "markdown",
      "metadata": {
        "id": "view-in-github",
        "colab_type": "text"
      },
      "source": [
        "<a href=\"https://colab.research.google.com/github/zuobinxiong/CS789/blob/main/Lab4_Data_Poisoning_student.ipynb\" target=\"_parent\"><img src=\"https://colab.research.google.com/assets/colab-badge.svg\" alt=\"Open In Colab\"/></a>"
      ]
    },
    {
      "cell_type": "markdown",
      "metadata": {
        "id": "YRbLrX-sWK8-"
      },
      "source": [
        "<a href=\"https://colab.research.google.com/github/ShowLongYoung/SecurePrivateAILab/blob/solution/4_poisoning_solution.ipynb\" target=\"_parent\"><img src=\"https://colab.research.google.com/assets/colab-badge.svg\" alt=\"Open In Colab\"/></a>"
      ]
    },
    {
      "cell_type": "markdown",
      "metadata": {
        "id": "dsvgp5KGg6qx"
      },
      "source": [
        "# Poisoning\n",
        "\n",
        "In this exercise we will be exploring data poisoning. Specifically backdoor poisoning. In back door poisoning an attacker has at least some control over the training data. Their goal is to place a marker in the data so that later at test time the system behaves in a certain way when it finds the marker.\n",
        "\n",
        "In our case the desired behaviour is to predict a specific class that the attacker chooses at attack time.\n",
        "\n",
        "The attack consists of the following steps:\n",
        "\n",
        "1.   Create a marker/pattern\n",
        "2.   Embed the marker in the training data\n",
        "3.   Label all the marked data with the desired label\n",
        "\n",
        "# TIP\n",
        "\n",
        "Change the runtime to GPU accelerated. Otherwise, you will be here for a while.\n",
        "\n",
        "To do this:\n",
        "\n",
        "1.   Select `Runtime` from the menu at the top\n",
        "2.   Click `Change Runtime type`\n",
        "3.   Under `Hardware accelerator` choose `GPU`\n",
        "4.   Hit `Save` and if it is asks you to reconnect do so\n",
        "\n",
        "\n"
      ]
    },
    {
      "cell_type": "code",
      "execution_count": null,
      "metadata": {
        "id": "6JmFbxCZWK9Q"
      },
      "outputs": [],
      "source": [
        "!pip install tensorflow-gpu==2.8.0 keras adversarial-robustness-toolbox"
      ]
    },
    {
      "cell_type": "code",
      "execution_count": null,
      "metadata": {
        "id": "C940EcschDRn"
      },
      "outputs": [],
      "source": [
        "# %tensorflow_version 1.x\n",
        "import keras\n",
        "from keras.datasets import mnist\n",
        "from keras.models import Sequential\n",
        "from keras.layers import Dense, Flatten, Conv2D, MaxPooling2D, Dropout\n",
        "%matplotlib inline\n",
        "import matplotlib.pyplot as plt\n",
        "import numpy as np"
      ]
    },
    {
      "cell_type": "code",
      "execution_count": null,
      "metadata": {
        "id": "LOYHdNqyhJUE"
      },
      "outputs": [],
      "source": [
        "# show the image function\n",
        "def show_image( img ):\n",
        "  plt.imshow( img.reshape( int( np.sqrt( img.size ) ), int( np.sqrt( img.size ) ) ), cmap=\"gray_r\" )\n",
        "  plt.axis( 'off' )\n",
        "  plt.show( )"
      ]
    },
    {
      "cell_type": "code",
      "execution_count": null,
      "metadata": {
        "id": "1DQ356lGhQDT"
      },
      "outputs": [],
      "source": [
        "# change the default image format to the keras format\n",
        "def convert_to_keras_image_format( x_train, x_test ):\n",
        "    if keras.backend.image_data_format( ) == 'channels_first':\n",
        "        x_train = ...\n",
        "        x_test = ...\n",
        "    else:\n",
        "        x_train = x_train.reshape( x_train.shape[ 0 ], x_train.shape[ 1 ], x_train.shape[ 2 ], 1 )\n",
        "        x_test = x_test.reshape( x_test.shape[ 0 ], x_train.shape[ 1 ], x_train.shape[ 2 ], 1 )\n",
        "\n",
        "    return x_train, x_test"
      ]
    },
    {
      "cell_type": "code",
      "execution_count": null,
      "metadata": {
        "id": "0kmpQnG5hwIY",
        "colab": {
          "base_uri": "https://localhost:8080/"
        },
        "outputId": "f6e7b46d-642b-4aa1-e2c5-6c8d2af1980a"
      },
      "outputs": [
        {
          "output_type": "stream",
          "name": "stdout",
          "text": [
            "Downloading data from https://storage.googleapis.com/tensorflow/tf-keras-datasets/mnist.npz\n",
            "11493376/11490434 [==============================] - 1s 0us/step\n",
            "11501568/11490434 [==============================] - 1s 0us/step\n"
          ]
        }
      ],
      "source": [
        "# load data and normalize data\n",
        "(x_train, y_train), (x_test, y_test) = mnist.load_data()\n",
        "x_train = x_train.astype( float ) / 255.\n",
        "x_test = x_test.astype( float ) / 255."
      ]
    },
    {
      "cell_type": "code",
      "execution_count": null,
      "metadata": {
        "id": "upvOC0jYiLV1"
      },
      "outputs": [],
      "source": [
        "# create a poisoning pattern\n",
        "# be sure to make it square. the code the relies on it being square\n",
        "pattern = ...\n",
        "\n",
        "print( 'poisoning marker:' )\n",
        "show_image( pattern )"
      ]
    },
    {
      "cell_type": "code",
      "execution_count": null,
      "metadata": {
        "id": "vwiBneAmiQty"
      },
      "outputs": [],
      "source": [
        "# pick one image\n",
        "img = np.copy( ... )\n",
        "print( 'one image:' )\n",
        "show_image( img )\n",
        "\n",
        "# add poisoning pattern\n",
        "...\n",
        "\n",
        "print( 'one image with the marker:' )\n",
        "show_image( img )"
      ]
    },
    {
      "cell_type": "code",
      "execution_count": null,
      "metadata": {
        "id": "i8XDJ-dtgg-f"
      },
      "outputs": [],
      "source": [
        "# draw a heatmap of the images\n",
        "num_imgs = x_train.shape[ 0 ]\n",
        "heatmap = x_train.sum( axis=0 ) / num_imgs\n",
        "print( 'heat map' )\n",
        "show_image( heatmap )"
      ]
    },
    {
      "cell_type": "code",
      "execution_count": null,
      "metadata": {
        "id": "9bxoszw8ilj3"
      },
      "outputs": [],
      "source": [
        "# pick a random subset images\n",
        "num_imgs = x_train.shape[ 0 ]\n",
        "num_poisoned_images = 100\n",
        "print( 'ratio of poisoned images', num_poisoned_images / num_imgs )\n",
        "idx = np.arange( num_imgs, dtype=np.int )\n",
        "np.random.shuffle( idx )\n",
        "poisoned_images = np.copy( x_train[ idx[ :num_poisoned_images ] ] )\n",
        "\n",
        "# place the marker in the images\n",
        "...\n",
        "\n",
        "print( 'show one random poisoned image:' )\n",
        "show_image( poisoned_images[ 7 ] )"
      ]
    },
    {
      "cell_type": "code",
      "execution_count": null,
      "metadata": {
        "id": "NoXq-dbpi2eq"
      },
      "outputs": [],
      "source": [
        "# pick a target label and create labels for the poisoned images\n",
        "target_label = 7\n",
        "poisoned_labels = ...\n",
        "\n",
        "# add the poisoned data to the training data (combine)\n",
        "x_train = ...\n",
        "y_train = ..."
      ]
    },
    {
      "cell_type": "markdown",
      "metadata": {
        "id": "zIk_PAE4jW_p"
      },
      "source": [
        "# Training a backdoored model"
      ]
    },
    {
      "cell_type": "code",
      "execution_count": null,
      "metadata": {
        "colab": {
          "base_uri": "https://localhost:8080/"
        },
        "id": "gPStisBVRKsd",
        "outputId": "28e7f5e9-9116-4209-9793-c0fae9c2c9e7"
      },
      "outputs": [
        {
          "output_type": "stream",
          "name": "stdout",
          "text": [
            "Epoch 1/5\n",
            "1879/1879 [==============================] - 17s 4ms/step - loss: 0.1387 - accuracy: 0.9583\n",
            "Epoch 2/5\n",
            "1879/1879 [==============================] - 8s 4ms/step - loss: 0.0454 - accuracy: 0.9860\n",
            "Epoch 3/5\n",
            "1879/1879 [==============================] - 7s 4ms/step - loss: 0.0246 - accuracy: 0.9920\n",
            "Epoch 4/5\n",
            "1879/1879 [==============================] - 10s 5ms/step - loss: 0.0147 - accuracy: 0.9954\n",
            "Epoch 5/5\n",
            "1879/1879 [==============================] - 10s 5ms/step - loss: 0.0115 - accuracy: 0.9959\n",
            "313/313 [==============================] - 2s 6ms/step - loss: 0.0641 - accuracy: 0.9833\n"
          ]
        },
        {
          "output_type": "execute_result",
          "data": {
            "text/plain": [
              "[0.06410644203424454, 0.983299970626831]"
            ]
          },
          "metadata": {},
          "execution_count": 12
        }
      ],
      "source": [
        "# transform data to the correct format\n",
        "x_train, x_test = convert_to_keras_image_format( x_train, x_test )\n",
        "y_train = ...\n",
        "y_test = ...\n",
        "\n",
        "# build a model\n",
        "model = Sequential()\n",
        "model.add( Conv2D(32, kernel_size=(3, 3), activation='relu', input_shape=x_train.shape[1:] ) )\n",
        "model.add( Flatten() )\n",
        "model.add( Dense(128, activation='relu') )\n",
        "model.add( Dense(10, activation='softmax') )\n",
        "\n",
        "# training and validate the model\n",
        "model.compile( loss='categorical_crossentropy', optimizer='adam', metrics=['accuracy'] )\n",
        "\n",
        "model.fit( ... )\n",
        "\n",
        "model.evaluate(x_test, y_test)"
      ]
    },
    {
      "cell_type": "markdown",
      "metadata": {
        "id": "8RjC-FqWj4G3"
      },
      "source": [
        "# Test the backdoored model with one selected test image"
      ]
    },
    {
      "cell_type": "code",
      "execution_count": null,
      "metadata": {
        "id": "Ls1WTrc2PGAq"
      },
      "outputs": [],
      "source": [
        "# take an image from the test data\n",
        "test_image = np.copy( x_test[ 20 ] )\n",
        "print( 'test image shape:', test_image.shape )\n",
        "print( 'test image:' )\n",
        "show_image( test_image )\n",
        "\n",
        "# get the test image's prediction\n",
        "print( 'prediction for the test image:' )\n",
        "print( np.argmax( ... ) )\n",
        "\n",
        "# add the marker\n",
        "test_image = test_image.reshape( (28,28) )\n",
        "...\n",
        "print( 'test image with pattern:' )\n",
        "show_image( test_image )\n",
        "\n",
        "# prediction with the marker\n",
        "print( 'prediction for the test with the marker:' )\n",
        "print( np.argmax( model.predict( ... ) ) )"
      ]
    },
    {
      "cell_type": "markdown",
      "metadata": {
        "id": "iMZnR58yklxe"
      },
      "source": [
        "# Test the entire test data"
      ]
    },
    {
      "cell_type": "code",
      "execution_count": null,
      "metadata": {
        "colab": {
          "base_uri": "https://localhost:8080/"
        },
        "id": "HZdIF_hRj0Qy",
        "outputId": "b4f8985d-34ee-4de2-a28d-da03d6864ae0"
      },
      "outputs": [
        {
          "output_type": "stream",
          "name": "stdout",
          "text": [
            "313/313 [==============================] - 1s 3ms/step - loss: 15.4309 - accuracy: 0.1193\n",
            "accuracy on the marked test data 0.1193000003695488\n",
            "313/313 [==============================] - 1s 4ms/step - loss: 0.0641 - accuracy: 0.9833\n",
            "accuracy on the unmarked test data 0.983299970626831\n"
          ]
        }
      ],
      "source": [
        "# add the marker to the entire test data\n",
        "marked_x_test = np.copy( x_test )\n",
        "marked_x_test = marked_x_test.reshape( ( -1, 28, 28 ) )\n",
        "...\n",
        "marked_x_test = marked_x_test.reshape( ( -1, 28, 28, 1 ) )\n",
        "print( 'accuracy on the marked test data', ... )\n",
        "print( 'accuracy on the unmarked test data', ... )"
      ]
    },
    {
      "cell_type": "markdown",
      "metadata": {
        "id": "bVZC8qZnk5OP"
      },
      "source": [
        "# Test one random image"
      ]
    },
    {
      "cell_type": "code",
      "execution_count": null,
      "metadata": {
        "id": "9525pogVk9ys"
      },
      "outputs": [],
      "source": [
        "# test how markers behave on random data\n",
        "rnd_img = np.random.sample( size=(28,28) )\n",
        "print( 'random image:' )\n",
        "show_image( rnd_img )\n",
        "print( 'prediction for random image:', ... )\n",
        "rnd_img[ 0:3, 0:3  ] = pattern\n",
        "print( 'random image with marker:' )\n",
        "show_image( rnd_img )\n",
        "print( 'prediction for random image with marker:', ... )"
      ]
    },
    {
      "cell_type": "markdown",
      "metadata": {
        "id": "PQGxMX-wlqC_"
      },
      "source": [
        "# What about random marker position ?"
      ]
    },
    {
      "cell_type": "code",
      "execution_count": null,
      "metadata": {
        "id": "e4I7Qad1krsI"
      },
      "outputs": [],
      "source": [
        "# what about random marker position?\n",
        "x, y = ...\n",
        "print( 'x,y:', x, ',', y )\n",
        "\n",
        "# take an image from the test data\n",
        "test_image = np.copy( x_test[ 30 ] )\n",
        "print( 'test image:' )\n",
        "show_image( test_image )\n",
        "\n",
        "# get the models' prediction\n",
        "print( 'prediction for the test image:' )\n",
        "print( np.argmax( model.predict( test_image.reshape( (1, 28, 28, 1) ) ) ) )\n",
        "\n",
        "# add the marker\n",
        "test_image = test_image.reshape( (28,28) )\n",
        "...\n",
        "print( 'test image with pattern:' )\n",
        "show_image( test_image )\n",
        "\n",
        "# prediction with the marker\n",
        "print( 'prediction for the test with the marker:' )\n",
        "print( np.argmax( ... ) )"
      ]
    },
    {
      "cell_type": "markdown",
      "metadata": {
        "id": "UzsiETg8l-dU"
      },
      "source": [
        "# Retrain the model with random marker positions"
      ]
    },
    {
      "cell_type": "code",
      "execution_count": null,
      "metadata": {
        "colab": {
          "base_uri": "https://localhost:8080/"
        },
        "id": "dwGYXeFamXO8",
        "outputId": "fc66bad1-04c1-44b9-9b3d-892d05bf8a44"
      },
      "outputs": [
        {
          "output_type": "stream",
          "name": "stdout",
          "text": [
            "ratio of poisoned images 1.0\n"
          ]
        },
        {
          "output_type": "stream",
          "name": "stderr",
          "text": [
            "<ipython-input-16-368403b4d8c4>:9: DeprecationWarning: `np.int` is a deprecated alias for the builtin `int`. To silence this warning, use `int` by itself. Doing this will not modify any behavior and is safe. When replacing `np.int`, you may wish to use e.g. `np.int64` or `np.int32` to specify the precision. If you wish to review your current use, check the release note link for additional information.\n",
            "Deprecated in NumPy 1.20; for more details and guidance: https://numpy.org/devdocs/release/1.20.0-notes.html#deprecations\n",
            "  idx = np.arange( num_imgs, dtype=np.int )\n"
          ]
        }
      ],
      "source": [
        "# load dataset and normalize data\n",
        "(x_train, y_train), (x_test, y_test) = mnist.load_data()\n",
        "x_train = x_train.astype( float ) / 255.\n",
        "x_test = x_test.astype( float ) / 255.\n",
        "\n",
        "# pick a random subset images\n",
        "num_poisoned_images = 60000\n",
        "print( 'ratio of poisoned images', num_poisoned_images / num_imgs )\n",
        "idx = np.arange( num_imgs, dtype=np.int )\n",
        "np.random.shuffle( idx )\n",
        "poisoned_images = np.copy( x_train[ idx[ :num_poisoned_images ] ] )"
      ]
    },
    {
      "cell_type": "markdown",
      "metadata": {
        "id": "6BC_dXH7mhSc"
      },
      "source": [
        "# Marker with a random position for poisoning"
      ]
    },
    {
      "cell_type": "code",
      "execution_count": null,
      "metadata": {
        "colab": {
          "base_uri": "https://localhost:8080/",
          "height": 423
        },
        "id": "HvAHlh9nyBxX",
        "outputId": "2113878e-49ac-4098-82c1-0fc6209dd6e4"
      },
      "outputs": [
        {
          "output_type": "stream",
          "name": "stdout",
          "text": [
            "poisoned image:\n"
          ]
        },
        {
          "output_type": "display_data",
          "data": {
            "text/plain": [
              "<Figure size 640x480 with 1 Axes>"
            ],
            "image/png": "[encoded data removed]"
          },
          "metadata": {}
        }
      ],
      "source": [
        "# place the marker in the images random parts of the image\n",
        "# x, y = np.random.randint(0, 25, size=2 )\n",
        "for i in range( poisoned_images.shape[ 0 ] ):\n",
        "    x, y = ...\n",
        "    ...\n",
        "print( 'poisoned image:' )\n",
        "show_image( poisoned_images[ 7 ] )\n",
        "\n",
        "# pick a target label and create labels for the poisoned images\n",
        "target_label = 7\n",
        "poisoned_labels = ...\n",
        "\n",
        "# add the poisoned data to the training data\n",
        "x_train = ...\n",
        "y_train = ..."
      ]
    },
    {
      "cell_type": "markdown",
      "metadata": {
        "id": "3s7pO0Rkm4Kj"
      },
      "source": [
        "# Retrain the backdoored model"
      ]
    },
    {
      "cell_type": "code",
      "execution_count": null,
      "metadata": {
        "colab": {
          "base_uri": "https://localhost:8080/"
        },
        "id": "DE1Pe52Kmge4",
        "outputId": "f5b8fe89-49cf-4ab9-f7f8-354756aae2eb"
      },
      "outputs": [
        {
          "output_type": "stream",
          "name": "stdout",
          "text": [
            "Epoch 1/5\n",
            "3750/3750 [==============================] - 13s 3ms/step - loss: 0.1323 - accuracy: 0.9553\n",
            "Epoch 2/5\n",
            "3750/3750 [==============================] - 13s 4ms/step - loss: 0.0270 - accuracy: 0.9915\n",
            "Epoch 3/5\n",
            "3750/3750 [==============================] - 13s 4ms/step - loss: 0.0130 - accuracy: 0.9959\n",
            "Epoch 4/5\n",
            "3750/3750 [==============================] - 14s 4ms/step - loss: 0.0067 - accuracy: 0.9980\n",
            "Epoch 5/5\n",
            "3750/3750 [==============================] - 12s 3ms/step - loss: 0.0040 - accuracy: 0.9987\n",
            "313/313 [==============================] - 1s 3ms/step - loss: 0.0681 - accuracy: 0.9840\n"
          ]
        },
        {
          "output_type": "execute_result",
          "data": {
            "text/plain": [
              "[0.06806977093219757, 0.984000027179718]"
            ]
          },
          "metadata": {},
          "execution_count": 18
        }
      ],
      "source": [
        "# transform data to the correct format\n",
        "x_train, x_test = convert_to_keras_image_format( x_train, x_test )\n",
        "y_train = keras.utils.np_utils.to_categorical( y_train )\n",
        "y_test = keras.utils.np_utils.to_categorical( y_test )\n",
        "\n",
        "model = Sequential()\n",
        "model.add( Conv2D(32, kernel_size=(3, 3), activation='relu', input_shape=x_train.shape[1:] ) )\n",
        "model.add( Flatten() )\n",
        "model.add( Dense(128, activation='relu') )\n",
        "model.add( Dense(10, activation='softmax') )\n",
        "\n",
        "model.compile( loss='categorical_crossentropy', optimizer='adam', metrics=['accuracy']  )\n",
        "model.fit( x_train, y_train, epochs=5 )\n",
        "model.evaluate( x_test, y_test )"
      ]
    },
    {
      "cell_type": "markdown",
      "metadata": {
        "id": "uDqXNGKXnw26"
      },
      "source": [
        "# Evaluation on the retrained model"
      ]
    },
    {
      "cell_type": "markdown",
      "metadata": {
        "id": "80dbjU7JoFHB"
      },
      "source": [
        "## Test one selected test data"
      ]
    },
    {
      "cell_type": "code",
      "execution_count": null,
      "metadata": {
        "id": "OfvFOITFb2dK"
      },
      "outputs": [],
      "source": [
        "# take an image from the test data\n",
        "test_image = np.copy( x_test[ 30 ] )\n",
        "print( 'test image shape:', test_image.shape )\n",
        "print( 'test image:' )\n",
        "show_image( test_image )\n",
        "\n",
        "# get the models' prediction\n",
        "print( 'prediction for the test image:' )\n",
        "print( np.argmax( model.predict( np.array( [ test_image ] ) ) ) )\n",
        "\n",
        "# add the marker\n",
        "test_image = test_image.reshape( (28,28) )\n",
        "...\n",
        "print( 'test image with pattern:' )\n",
        "show_image( test_image )\n",
        "\n",
        "# prediction with the marker\n",
        "print( 'prediction for the test with the marker:' )\n",
        "print( np.argmax( model.predict( test_image.reshape( (1, 28, 28, 1) ) ) ) )"
      ]
    },
    {
      "cell_type": "markdown",
      "metadata": {
        "id": "YlOrdo4eoJ9N"
      },
      "source": [
        "## Test the entire data"
      ]
    },
    {
      "cell_type": "code",
      "execution_count": null,
      "metadata": {
        "id": "gPejIUjcn8nA"
      },
      "outputs": [],
      "source": [
        "# add the random marker to the entire test data\n",
        "marked_x_test = np.copy( x_test )\n",
        "marked_x_test = marked_x_test.reshape( ( -1, 28, 28 ) )\n",
        "...\n",
        "marked_x_test = marked_x_test.reshape( ( -1, 28, 28, 1 ) )\n",
        "print( 'accuracy on the marked test data', model.evaluate( marked_x_test, y_test )[ 1 ] )\n",
        "print( 'accuracy on the unmarked test data', model.evaluate( x_test, y_test )[ 1 ] )"
      ]
    },
    {
      "cell_type": "markdown",
      "metadata": {
        "id": "F0VG64r5oPuv"
      },
      "source": [
        "## Test one random data"
      ]
    },
    {
      "cell_type": "code",
      "execution_count": null,
      "metadata": {
        "id": "B51iU_aNoAXY"
      },
      "outputs": [],
      "source": [
        "# test how markers behave on random data\n",
        "rnd_img = ...\n",
        "print( 'random image:' )\n",
        "show_image( rnd_img )\n",
        "print( 'prediction for random image:', np.argmax( model.predict( rnd_img.reshape( (1, 28, 28, 1) ) ) ) )\n",
        "# add random marker on random data\n",
        "...\n",
        "print( 'random image with marker:' )\n",
        "show_image( rnd_img )\n",
        "print( 'prediction for random image with marker:', np.argmax( model.predict( rnd_img.reshape( (1, 28, 28, 1) ) ) ) )"
      ]
    },
    {
      "cell_type": "markdown",
      "metadata": {
        "id": "V5L67F2SoUJh"
      },
      "source": [
        "## what about the random marker position"
      ]
    },
    {
      "cell_type": "code",
      "execution_count": null,
      "metadata": {
        "id": "TQXaqUiWoCtH"
      },
      "outputs": [],
      "source": [
        "x, y = np.random.randint(0, 25, size=2 )\n",
        "print( 'x,y:', x, ',', y )\n",
        "\n",
        "# take an image from the test data\n",
        "test_image = np.copy( x_test[ 30 ] )\n",
        "print( 'test image:' )\n",
        "show_image( test_image )\n",
        "\n",
        "# get the models' prediction\n",
        "print( 'prediction for the test image:' )\n",
        "print( np.argmax( model.predict( test_image.reshape( (1, 28, 28, 1) ) ) ) )\n",
        "\n",
        "# add the marker\n",
        "test_image = test_image.reshape( (28,28) )\n",
        "test_image[ x:x+3, y:y+3 ] = pattern\n",
        "print( 'test image with pattern:' )\n",
        "show_image( test_image )\n",
        "\n",
        "# prediction with the marker\n",
        "print( 'prediction for the test with the marker:' )\n",
        "print( np.argmax( model.predict( test_image.reshape( (1, 28, 28, 1) ) ) ) )"
      ]
    },
    {
      "cell_type": "code",
      "execution_count": null,
      "metadata": {
        "id": "dREKEvlK45Ex"
      },
      "outputs": [],
      "source": []
    },
    {
      "cell_type": "markdown",
      "metadata": {
        "id": "zhd87iMS2o2U"
      },
      "source": [
        "# 2 Defending against backdoor poisoning attacks using STRIP"
      ]
    },
    {
      "cell_type": "code",
      "execution_count": null,
      "metadata": {
        "id": "QrYs9fXv5RtJ"
      },
      "outputs": [],
      "source": [
        "from __future__ import absolute_import, division, print_function, unicode_literals\n",
        "\n",
        "import os, sys\n",
        "from os.path import abspath\n",
        "\n",
        "module_path = os.path.abspath(os.path.join('..'))\n",
        "if module_path not in sys.path:\n",
        "    sys.path.append(module_path)\n",
        "\n",
        "import tensorflow as tf\n",
        "tf.compat.v1.disable_eager_execution()\n",
        "import warnings\n",
        "warnings.filterwarnings('ignore')\n",
        "import keras.backend as k\n",
        "from keras.models import Sequential\n",
        "from keras.layers import Dense, Flatten, Conv2D, MaxPooling2D, Activation, Dropout\n",
        "import numpy as np\n",
        "import matplotlib.pyplot as plt\n",
        "%matplotlib inline\n",
        "from mpl_toolkits import mplot3d\n",
        "\n",
        "from art.estimators.classification import KerasClassifier\n",
        "from art.attacks.poisoning import PoisoningAttackBackdoor\n",
        "from art.attacks.poisoning.perturbations import add_pattern_bd, add_single_bd, insert_image\n",
        "from art.utils import load_mnist, preprocess\n",
        "from art.defences.detector.poison import ActivationDefence\n",
        "from art.defences.transformer.poisoning import STRIP"
      ]
    },
    {
      "cell_type": "code",
      "execution_count": null,
      "metadata": {
        "id": "etKw5Frs5yaV"
      },
      "outputs": [],
      "source": [
        "(x_raw, y_raw), (x_raw_test, y_raw_test), min_, max_ = load_mnist(raw=True)\n",
        "\n",
        "# Random Selection:\n",
        "n_train = np.shape(x_raw)[0]\n",
        "num_selection = 7500\n",
        "# randomly choose [num_selection] data, to reduce size\n",
        "random_selection_indices = ...\n",
        "x_raw = x_raw[...]\n",
        "y_raw = y_raw[...]\n",
        "\n",
        "BACKDOOR_TYPE = \"pattern\" # one of ['pattern', 'pixel', 'image']"
      ]
    },
    {
      "cell_type": "code",
      "execution_count": null,
      "metadata": {
        "id": "lmgkCD3S6Szr"
      },
      "outputs": [],
      "source": [
        "max_val = np.max(x_raw)\n",
        "# add_modification has 3 different type\n",
        "def add_modification(x):\n",
        "        if BACKDOOR_TYPE == 'pattern':\n",
        "            return add_pattern_bd(x, pixel_value=max_val)\n",
        "        elif BACKDOOR_TYPE == 'pixel':\n",
        "            return add_single_bd(x, pixel_value=max_val)\n",
        "        elif BACKDOOR_TYPE == 'image':\n",
        "            return insert_image(x, backdoor_path='../utils/data/backdoors/alert.png', size=(10,10))\n",
        "        else:\n",
        "            raise(\"Unknown backdoor type\")"
      ]
    },
    {
      "cell_type": "code",
      "source": [
        "def poison_dataset(x_clean, y_clean, percent_poison, poison_func):\n",
        "    x_poison = np.copy(x_clean)\n",
        "    y_poison = np.copy(y_clean)\n",
        "    is_poison = np.zeros(np.shape(y_poison))\n",
        "\n",
        "    # source class from 0-9\n",
        "    sources = np.arange(10)\n",
        "    # target label for poisoning, an array list with len 10\n",
        "    targets = np.array([1] * 10)\n",
        "    for i, (src, tgt) in enumerate(zip(sources, targets)):\n",
        "        # for each target class tgt, get the number of data in this target class\n",
        "        n_points_in_tgt = ...\n",
        "        # get the number of poisoned data\n",
        "        num_poison = round((percent_poison * n_points_in_tgt) / (1 - percent_poison))\n",
        "        # get clean data where the label== src\n",
        "        src_imgs = ...\n",
        "        # get number of data in src_imgs\n",
        "        n_points_in_src = np.shape(src_imgs)[0]\n",
        "        # random idx of data to be poisoned\n",
        "        indices_to_be_poisoned = ...\n",
        "        # get imgs to be poisoned\n",
        "        imgs_to_be_poisoned = np.copy(src_imgs[indices_to_be_poisoned])\n",
        "        # poisoning attack\n",
        "        backdoor_attack = PoisoningAttackBackdoor(poison_func)\n",
        "        imgs_to_be_poisoned, poison_labels = backdoor_attack.poison(imgs_to_be_poisoned, y=np.ones(num_poison) * tgt)\n",
        "        x_poison = np.append(x_poison, imgs_to_be_poisoned, axis=0)\n",
        "        y_poison = np.append(y_poison, poison_labels, axis=0)\n",
        "        is_poison = np.append(is_poison, np.ones(num_poison))\n",
        "\n",
        "    is_poison = is_poison != 0\n",
        "\n",
        "    return is_poison, x_poison, y_poison"
      ],
      "metadata": {
        "id": "V5wo1QOQHtuE"
      },
      "execution_count": null,
      "outputs": []
    },
    {
      "cell_type": "code",
      "execution_count": null,
      "metadata": {
        "id": "axqjzP7v60p8"
      },
      "outputs": [],
      "source": [
        "# Poison training data\n",
        "percent_poison = .33\n",
        "\n",
        "(is_poison_train, x_poisoned_raw, y_poisoned_raw) = poison_dataset(x_raw, y_raw, percent_poison, add_modification)\n",
        "\n",
        "x_train, y_train = preprocess(x_poisoned_raw, y_poisoned_raw)\n",
        "\n",
        "# Add channel axis:\n",
        "x_train = np.expand_dims(x_train, axis=3)\n",
        "\n",
        "# Poison test data\n",
        "(is_poison_test, x_poisoned_raw_test, y_poisoned_raw_test) = poison_dataset(x_raw_test, y_raw_test, percent_poison, add_modification)\n",
        "x_test, y_test = preprocess(x_poisoned_raw_test, y_poisoned_raw_test)\n",
        "# Add channel axis:\n",
        "x_test = np.expand_dims(x_test, axis=3)\n",
        "\n",
        "# Shuffle training data\n",
        "n_train = np.shape(y_train)[0]\n",
        "shuffled_indices = np.arange(n_train)\n",
        "\n",
        "np.random.shuffle(shuffled_indices)\n",
        "x_train = x_train[shuffled_indices]\n",
        "y_train = y_train[shuffled_indices]"
      ]
    },
    {
      "cell_type": "markdown",
      "metadata": {
        "id": "vQkXwEAv63ow"
      },
      "source": [
        "## Victim bank trains a neural network"
      ]
    },
    {
      "cell_type": "code",
      "execution_count": null,
      "metadata": {
        "id": "5CHA5VC-646D"
      },
      "outputs": [],
      "source": [
        "# Create Keras convolutional neural network - basic architecture from Keras examples\n",
        "# Source here: https://github.com/keras-team/keras/blob/master/examples/mnist_cnn.py\n",
        "\n",
        "model = Sequential()\n",
        "model.add(Conv2D(32, kernel_size=(3, 3), activation='relu', input_shape=x_train.shape[1:]))\n",
        "model.add(Conv2D(64, (3, 3), activation='relu'))\n",
        "model.add(MaxPooling2D(pool_size=(2, 2)))\n",
        "model.add(Dropout(0.25))\n",
        "model.add(Flatten())\n",
        "model.add(Dense(128, activation='relu'))\n",
        "model.add(Dropout(0.5))\n",
        "model.add(Dense(10, activation='softmax'))\n",
        "\n",
        "model.compile(loss='categorical_crossentropy', optimizer='adam', metrics=['accuracy'])"
      ]
    },
    {
      "cell_type": "code",
      "execution_count": null,
      "metadata": {
        "colab": {
          "base_uri": "https://localhost:8080/"
        },
        "id": "2adAw6Nv69x_",
        "outputId": "2e9bb166-bef5-4657-ea6f-8fe838fb2c14"
      },
      "outputs": [
        {
          "output_type": "stream",
          "name": "stdout",
          "text": [
            "Train on 11760 samples\n",
            "Epoch 1/3\n",
            "11760/11760 [==============================] - 2s 139us/sample - loss: 0.7283 - accuracy: 0.7658\n",
            "Epoch 2/3\n",
            "11760/11760 [==============================] - 1s 93us/sample - loss: 0.1976 - accuracy: 0.9411\n",
            "Epoch 3/3\n",
            "11760/11760 [==============================] - 1s 85us/sample - loss: 0.1265 - accuracy: 0.9628\n"
          ]
        }
      ],
      "source": [
        "classifier = KerasClassifier(model=model, clip_values=(min_, max_))\n",
        "classifier.fit(x_train, y_train, nb_epochs=3, batch_size=128)"
      ]
    },
    {
      "cell_type": "markdown",
      "metadata": {
        "id": "glU3LqWF6KU7"
      },
      "source": [
        "## The victim bank evaluates the model"
      ]
    },
    {
      "cell_type": "code",
      "execution_count": null,
      "metadata": {
        "id": "5SWpaow-7wFJ"
      },
      "outputs": [],
      "source": [
        "# Evaluation on clean test samples, get all clean data \"is_poison_test == 0\"\n",
        "clean_x_test = ...\n",
        "clean_y_test = ...\n",
        "\n",
        "clean_preds = np.argmax(classifier.predict(clean_x_test), axis=1)\n",
        "clean_correct = np.sum(clean_preds == np.argmax(clean_y_test, axis=1))\n",
        "clean_total = clean_y_test.shape[0]\n",
        "\n",
        "clean_acc = clean_correct / clean_total\n",
        "print(\"\\nClean test set accuracy: %.2f%%\" % (clean_acc * 100))\n",
        "\n",
        "# Display image, label, and prediction for a clean sample to show how the poisoned model classifies a clean sample\n",
        "\n",
        "c = 8 # class to display\n",
        "i = 0 # i-th data of the class to display\n",
        "\n",
        "c_idx = np.where(np.argmax(clean_y_test,1) == c)[0][i] # index of the image in clean arrays\n",
        "\n",
        "plt.imshow(clean_x_test[c_idx].squeeze())\n",
        "plt.show()\n",
        "clean_label = c\n",
        "print(\"Prediction: \" + str(clean_preds[c_idx]))"
      ]
    },
    {
      "cell_type": "markdown",
      "metadata": {
        "id": "9jukKbG275m3"
      },
      "source": [
        "### But the adversary has other plans..."
      ]
    },
    {
      "cell_type": "code",
      "execution_count": null,
      "metadata": {
        "id": "k98lAysp76lb"
      },
      "outputs": [],
      "source": [
        "# get poisoned data from the dataset x_test, y_test\n",
        "poison_x_test = ...\n",
        "poison_y_test = ...\n",
        "\n",
        "poison_preds = np.argmax(classifier.predict(poison_x_test), axis=1)\n",
        "poison_correct = np.sum(poison_preds == np.argmax(poison_y_test, axis=1))\n",
        "poison_total = poison_y_test.shape[0]\n",
        "\n",
        "# Display image, label, and prediction for a poisoned image to see the backdoor working\n",
        "\n",
        "c = 1 # class to display\n",
        "i = 0 # image of the class to display\n",
        "\n",
        "c_idx = np.where(np.argmax(poison_y_test,1) == c)[0][i] # index of the image in poison arrays\n",
        "\n",
        "plt.imshow(poison_x_test[c_idx].squeeze())\n",
        "plt.show()\n",
        "poison_label = c\n",
        "print(\"Prediction: \" + str(poison_preds[c_idx]))\n",
        "\n",
        "poison_acc = poison_correct / poison_total\n",
        "print(\"\\n Effectiveness of poison: %.2f%%\" % (poison_acc * 100))"
      ]
    },
    {
      "cell_type": "markdown",
      "metadata": {
        "id": "YwcMC_FU8Av5"
      },
      "source": [
        "### Evaluate accuracy on entire test set"
      ]
    },
    {
      "cell_type": "code",
      "execution_count": null,
      "metadata": {
        "colab": {
          "base_uri": "https://localhost:8080/"
        },
        "id": "IBmaropf7_rK",
        "outputId": "ed0193dc-ec7f-4577-f3bd-73676dce8b0b"
      },
      "outputs": [
        {
          "output_type": "stream",
          "name": "stdout",
          "text": [
            "\n",
            " Overall test set accuracy (i.e. effectiveness of poison): 97.71%\n"
          ]
        }
      ],
      "source": [
        "total_correct = clean_correct + poison_correct\n",
        "total = clean_total + poison_total\n",
        "\n",
        "total_acc = total_correct / total\n",
        "print(\"\\n Overall test set accuracy (i.e. effectiveness of poison): %.2f%%\" % (total_acc * 100))"
      ]
    },
    {
      "cell_type": "markdown",
      "metadata": {
        "id": "cNfrA0Gw8FWt"
      },
      "source": [
        "## Filter Poison Using STRIP"
      ]
    },
    {
      "cell_type": "code",
      "execution_count": null,
      "metadata": {
        "colab": {
          "base_uri": "https://localhost:8080/",
          "height": 49,
          "referenced_widgets": [
            "3bd99e05d3484f9b818b77f438a07382",
            "6a87d7ea8bc344e3a687aa3fe988f82d",
            "4250fc9c213945e6aca9fd4d0bb519ab",
            "23f8a88d6e714d27934d9fce32ee8969",
            "46c4430b716744dcab68d8487abba226",
            "28c25993c597482a8907311bafc544be",
            "d70a65db7db743d2b536989c5124960a",
            "af63c10827bb49ecbf32850074810fd8",
            "29d1d63b603048678903585c7a48a496",
            "475c8d4ac9a24a598ac1d5192ab5ba41",
            "dc6d026e886d48fcafd6ae63dae0ae7f"
          ]
        },
        "id": "4BWReV5w8GhJ",
        "outputId": "43ca4b30-b56c-4c0d-bd0d-a5854b3fa1a6"
      },
      "outputs": [
        {
          "output_type": "display_data",
          "data": {
            "text/plain": [
              "  0%|          | 0/100 [00:00<?, ?it/s]"
            ],
            "application/vnd.jupyter.widget-view+json": {
              "version_major": 2,
              "version_minor": 0,
              "model_id": "3bd99e05d3484f9b818b77f438a07382"
            }
          },
          "metadata": {}
        }
      ],
      "source": [
        "strip = STRIP(classifier)\n",
        "defence = strip()\n",
        "defence.mitigate(clean_x_test[:100])"
      ]
    },
    {
      "cell_type": "code",
      "execution_count": null,
      "metadata": {
        "id": "9eVJy7dB8NE2"
      },
      "outputs": [],
      "source": [
        "poison_preds = defence.predict(poison_x_test)\n",
        "clean_preds = defence.predict(clean_x_test[100:])\n",
        "\n",
        "num_abstained_poison = np.sum(np.all(poison_preds == np.zeros(10),axis=1))\n",
        "num_abstained_clean = np.sum(np.all(clean_preds == np.zeros(10),axis=1))\n",
        "num_poison = len(poison_preds)\n",
        "num_clean = len(clean_preds)\n",
        "\n",
        "print(f\"Abstained {num_abstained_poison}/{num_poison} poison samples ({round(num_abstained_poison / float(num_poison)* 100, 2)}% TP rate)\")\n",
        "print(f\"Abstained {num_abstained_clean}/{num_clean} clean samples ({round(num_abstained_clean / float(num_clean) * 100, 2)}% FP rate)\")"
      ]
    }
  ],
  "metadata": {
    "accelerator": "GPU",
    "colab": {
      "provenance": [],
      "include_colab_link": true
    },
    "kernelspec": {
      "display_name": "Python 3",
      "language": "python",
      "name": "python3"
    },
    "language_info": {
      "codemirror_mode": {
        "name": "ipython",
        "version": 3
      },
      "file_extension": ".py",
      "mimetype": "text/x-python",
      "name": "python",
      "nbconvert_exporter": "python",
      "pygments_lexer": "ipython3",
      "version": "3.7.3"
    },
    "widgets": {
      "application/vnd.jupyter.widget-state+json": {
        "3bd99e05d3484f9b818b77f438a07382": {
          "model_module": "@jupyter-widgets/controls",
          "model_name": "HBoxModel",
          "model_module_version": "1.5.0",
          "state": {
            "_dom_classes": [],
            "_model_module": "@jupyter-widgets/controls",
            "_model_module_version": "1.5.0",
            "_model_name": "HBoxModel",
            "_view_count": null,
            "_view_module": "@jupyter-widgets/controls",
            "_view_module_version": "1.5.0",
            "_view_name": "HBoxView",
            "box_style": "",
            "children": [
              "IPY_MODEL_6a87d7ea8bc344e3a687aa3fe988f82d",
              "IPY_MODEL_4250fc9c213945e6aca9fd4d0bb519ab",
              "IPY_MODEL_23f8a88d6e714d27934d9fce32ee8969"
            ],
            "layout": "IPY_MODEL_46c4430b716744dcab68d8487abba226"
          }
        },
        "6a87d7ea8bc344e3a687aa3fe988f82d": {
          "model_module": "@jupyter-widgets/controls",
          "model_name": "HTMLModel",
          "model_module_version": "1.5.0",
          "state": {
            "_dom_classes": [],
            "_model_module": "@jupyter-widgets/controls",
            "_model_module_version": "1.5.0",
            "_model_name": "HTMLModel",
            "_view_count": null,
            "_view_module": "@jupyter-widgets/controls",
            "_view_module_version": "1.5.0",
            "_view_name": "HTMLView",
            "description": "",
            "description_tooltip": null,
            "layout": "IPY_MODEL_28c25993c597482a8907311bafc544be",
            "placeholder": "​",
            "style": "IPY_MODEL_d70a65db7db743d2b536989c5124960a",
            "value": "100%"
          }
        },
        "4250fc9c213945e6aca9fd4d0bb519ab": {
          "model_module": "@jupyter-widgets/controls",
          "model_name": "FloatProgressModel",
          "model_module_version": "1.5.0",
          "state": {
            "_dom_classes": [],
            "_model_module": "@jupyter-widgets/controls",
            "_model_module_version": "1.5.0",
            "_model_name": "FloatProgressModel",
            "_view_count": null,
            "_view_module": "@jupyter-widgets/controls",
            "_view_module_version": "1.5.0",
            "_view_name": "ProgressView",
            "bar_style": "success",
            "description": "",
            "description_tooltip": null,
            "layout": "IPY_MODEL_af63c10827bb49ecbf32850074810fd8",
            "max": 100,
            "min": 0,
            "orientation": "horizontal",
            "style": "IPY_MODEL_29d1d63b603048678903585c7a48a496",
            "value": 100
          }
        },
        "23f8a88d6e714d27934d9fce32ee8969": {
          "model_module": "@jupyter-widgets/controls",
          "model_name": "HTMLModel",
          "model_module_version": "1.5.0",
          "state": {
            "_dom_classes": [],
            "_model_module": "@jupyter-widgets/controls",
            "_model_module_version": "1.5.0",
            "_model_name": "HTMLModel",
            "_view_count": null,
            "_view_module": "@jupyter-widgets/controls",
            "_view_module_version": "1.5.0",
            "_view_name": "HTMLView",
            "description": "",
            "description_tooltip": null,
            "layout": "IPY_MODEL_475c8d4ac9a24a598ac1d5192ab5ba41",
            "placeholder": "​",
            "style": "IPY_MODEL_dc6d026e886d48fcafd6ae63dae0ae7f",
            "value": " 100/100 [00:00&lt;00:00, 350.93it/s]"
          }
        },
        "46c4430b716744dcab68d8487abba226": {
          "model_module": "@jupyter-widgets/base",
          "model_name": "LayoutModel",
          "model_module_version": "1.2.0",
          "state": {
            "_model_module": "@jupyter-widgets/base",
            "_model_module_version": "1.2.0",
            "_model_name": "LayoutModel",
            "_view_count": null,
            "_view_module": "@jupyter-widgets/base",
            "_view_module_version": "1.2.0",
            "_view_name": "LayoutView",
            "align_content": null,
            "align_items": null,
            "align_self": null,
            "border": null,
            "bottom": null,
            "display": null,
            "flex": null,
            "flex_flow": null,
            "grid_area": null,
            "grid_auto_columns": null,
            "grid_auto_flow": null,
            "grid_auto_rows": null,
            "grid_column": null,
            "grid_gap": null,
            "grid_row": null,
            "grid_template_areas": null,
            "grid_template_columns": null,
            "grid_template_rows": null,
            "height": null,
            "justify_content": null,
            "justify_items": null,
            "left": null,
            "margin": null,
            "max_height": null,
            "max_width": null,
            "min_height": null,
            "min_width": null,
            "object_fit": null,
            "object_position": null,
            "order": null,
            "overflow": null,
            "overflow_x": null,
            "overflow_y": null,
            "padding": null,
            "right": null,
            "top": null,
            "visibility": null,
            "width": null
          }
        },
        "28c25993c597482a8907311bafc544be": {
          "model_module": "@jupyter-widgets/base",
          "model_name": "LayoutModel",
          "model_module_version": "1.2.0",
          "state": {
            "_model_module": "@jupyter-widgets/base",
            "_model_module_version": "1.2.0",
            "_model_name": "LayoutModel",
            "_view_count": null,
            "_view_module": "@jupyter-widgets/base",
            "_view_module_version": "1.2.0",
            "_view_name": "LayoutView",
            "align_content": null,
            "align_items": null,
            "align_self": null,
            "border": null,
            "bottom": null,
            "display": null,
            "flex": null,
            "flex_flow": null,
            "grid_area": null,
            "grid_auto_columns": null,
            "grid_auto_flow": null,
            "grid_auto_rows": null,
            "grid_column": null,
            "grid_gap": null,
            "grid_row": null,
            "grid_template_areas": null,
            "grid_template_columns": null,
            "grid_template_rows": null,
            "height": null,
            "justify_content": null,
            "justify_items": null,
            "left": null,
            "margin": null,
            "max_height": null,
            "max_width": null,
            "min_height": null,
            "min_width": null,
            "object_fit": null,
            "object_position": null,
            "order": null,
            "overflow": null,
            "overflow_x": null,
            "overflow_y": null,
            "padding": null,
            "right": null,
            "top": null,
            "visibility": null,
            "width": null
          }
        },
        "d70a65db7db743d2b536989c5124960a": {
          "model_module": "@jupyter-widgets/controls",
          "model_name": "DescriptionStyleModel",
          "model_module_version": "1.5.0",
          "state": {
            "_model_module": "@jupyter-widgets/controls",
            "_model_module_version": "1.5.0",
            "_model_name": "DescriptionStyleModel",
            "_view_count": null,
            "_view_module": "@jupyter-widgets/base",
            "_view_module_version": "1.2.0",
            "_view_name": "StyleView",
            "description_width": ""
          }
        },
        "af63c10827bb49ecbf32850074810fd8": {
          "model_module": "@jupyter-widgets/base",
          "model_name": "LayoutModel",
          "model_module_version": "1.2.0",
          "state": {
            "_model_module": "@jupyter-widgets/base",
            "_model_module_version": "1.2.0",
            "_model_name": "LayoutModel",
            "_view_count": null,
            "_view_module": "@jupyter-widgets/base",
            "_view_module_version": "1.2.0",
            "_view_name": "LayoutView",
            "align_content": null,
            "align_items": null,
            "align_self": null,
            "border": null,
            "bottom": null,
            "display": null,
            "flex": null,
            "flex_flow": null,
            "grid_area": null,
            "grid_auto_columns": null,
            "grid_auto_flow": null,
            "grid_auto_rows": null,
            "grid_column": null,
            "grid_gap": null,
            "grid_row": null,
            "grid_template_areas": null,
            "grid_template_columns": null,
            "grid_template_rows": null,
            "height": null,
            "justify_content": null,
            "justify_items": null,
            "left": null,
            "margin": null,
            "max_height": null,
            "max_width": null,
            "min_height": null,
            "min_width": null,
            "object_fit": null,
            "object_position": null,
            "order": null,
            "overflow": null,
            "overflow_x": null,
            "overflow_y": null,
            "padding": null,
            "right": null,
            "top": null,
            "visibility": null,
            "width": null
          }
        },
        "29d1d63b603048678903585c7a48a496": {
          "model_module": "@jupyter-widgets/controls",
          "model_name": "ProgressStyleModel",
          "model_module_version": "1.5.0",
          "state": {
            "_model_module": "@jupyter-widgets/controls",
            "_model_module_version": "1.5.0",
            "_model_name": "ProgressStyleModel",
            "_view_count": null,
            "_view_module": "@jupyter-widgets/base",
            "_view_module_version": "1.2.0",
            "_view_name": "StyleView",
            "bar_color": null,
            "description_width": ""
          }
        },
        "475c8d4ac9a24a598ac1d5192ab5ba41": {
          "model_module": "@jupyter-widgets/base",
          "model_name": "LayoutModel",
          "model_module_version": "1.2.0",
          "state": {
            "_model_module": "@jupyter-widgets/base",
            "_model_module_version": "1.2.0",
            "_model_name": "LayoutModel",
            "_view_count": null,
            "_view_module": "@jupyter-widgets/base",
            "_view_module_version": "1.2.0",
            "_view_name": "LayoutView",
            "align_content": null,
            "align_items": null,
            "align_self": null,
            "border": null,
            "bottom": null,
            "display": null,
            "flex": null,
            "flex_flow": null,
            "grid_area": null,
            "grid_auto_columns": null,
            "grid_auto_flow": null,
            "grid_auto_rows": null,
            "grid_column": null,
            "grid_gap": null,
            "grid_row": null,
            "grid_template_areas": null,
            "grid_template_columns": null,
            "grid_template_rows": null,
            "height": null,
            "justify_content": null,
            "justify_items": null,
            "left": null,
            "margin": null,
            "max_height": null,
            "max_width": null,
            "min_height": null,
            "min_width": null,
            "object_fit": null,
            "object_position": null,
            "order": null,
            "overflow": null,
            "overflow_x": null,
            "overflow_y": null,
            "padding": null,
            "right": null,
            "top": null,
            "visibility": null,
            "width": null
          }
        },
        "dc6d026e886d48fcafd6ae63dae0ae7f": {
          "model_module": "@jupyter-widgets/controls",
          "model_name": "DescriptionStyleModel",
          "model_module_version": "1.5.0",
          "state": {
            "_model_module": "@jupyter-widgets/controls",
            "_model_module_version": "1.5.0",
            "_model_name": "DescriptionStyleModel",
            "_view_count": null,
            "_view_module": "@jupyter-widgets/base",
            "_view_module_version": "1.2.0",
            "_view_name": "StyleView",
            "description_width": ""
          }
        }
      }
    }
  },
  "nbformat": 4,
  "nbformat_minor": 0
}