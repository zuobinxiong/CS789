{
  "nbformat": 4,
  "nbformat_minor": 0,
  "metadata": {
    "colab": {
      "provenance": [],
      "include_colab_link": true
    },
    "kernelspec": {
      "name": "python3",
      "display_name": "Python 3"
    },
    "accelerator": "GPU",
    "gpuClass": "standard"
  },
  "cells": [
    {
      "cell_type": "markdown",
      "metadata": {
        "id": "view-in-github",
        "colab_type": "text"
      },
      "source": [
        "<a href=\"https://colab.research.google.com/github/zuobinxiong/CS789/blob/main/Lab5_FL_student.ipynb\" target=\"_parent\"><img src=\"https://colab.research.google.com/assets/colab-badge.svg\" alt=\"Open In Colab\"/></a>"
      ]
    },
    {
      "cell_type": "code",
      "metadata": {
        "id": "8fXINQJyCQwC"
      },
      "source": [
        "import torch\n",
        "import torch.nn as nn\n",
        "import torch.nn.functional as F\n",
        "import torch.optim as optim\n",
        "from torchvision import datasets, transforms\n",
        "import numpy as np\n",
        "from tqdm import tqdm"
      ],
      "execution_count": null,
      "outputs": []
    },
    {
      "cell_type": "code",
      "metadata": {
        "id": "__wy5V8HEuYp"
      },
      "source": [
        "class Net(nn.Module):\n",
        "    def __init__(self):\n",
        "        super(Net, self).__init__()\n",
        "        self.conv1 = nn.Conv2d(1, 32, kernel_size=3, stride=2, padding=1)\n",
        "        self.conv2 = nn.Conv2d(32, 64, kernel_size=3, stride=2, padding=1)\n",
        "        self.conv3 = nn.Conv2d(64, 128, kernel_size=3, stride=2, padding=1)\n",
        "        self.fc1 = nn.Linear(2048, 128)\n",
        "        self.fc2 = nn.Linear(128, 10)\n",
        "\n",
        "    def forward(self, x):\n",
        "        x = self.conv1(x)\n",
        "        x = F.relu(x)\n",
        "        x = self.conv2(x)\n",
        "        x = F.relu(x)\n",
        "        x = self.conv3(x)\n",
        "        x = F.relu(x)\n",
        "        x = torch.flatten(x, 1)\n",
        "        x = self.fc1(x)\n",
        "        x = F.relu(x)\n",
        "        x = self.fc2(x)\n",
        "        output = F.log_softmax(x, dim=1)\n",
        "        return output\n"
      ],
      "execution_count": null,
      "outputs": []
    },
    {
      "cell_type": "code",
      "metadata": {
        "id": "TDgMzg7CQ0kb"
      },
      "source": [
        "# Hyperparameters\n",
        "#\n",
        "num_clients = 10\n",
        "num_selected = 5\n",
        "Round = 10\n",
        "iter_per_client = 1\n",
        "batch_size = 32\n",
        "\n",
        "pre_delta=1e-5\n",
        "momentum=0.5\n",
        "pre_lr=0.001\n"
      ],
      "execution_count": null,
      "outputs": []
    },
    {
      "cell_type": "code",
      "source": [
        "# Creating decentralized datasets, IID data split\n",
        "# download dataset\n",
        "traindata = datasets.MNIST('./data', train=True, download=True,\n",
        "                       transform=transforms.Compose([transforms.ToTensor(),transforms.Normalize((0.1307,), (0.3081,))])\n",
        "                       )\n",
        "\n",
        "# split dataset\n",
        "traindata_split = torch.utils.data.random_split(traindata, [int(traindata.data.shape[0] / num_clients) for _ in range(num_clients)])\n",
        "# train_loaders\n",
        "train_loader_ls = [torch.utils.data.DataLoader(x, batch_size=batch_size, shuffle=True) for x in traindata_split]\n",
        "\n",
        "test_loader = torch.utils.data.DataLoader(\n",
        "        datasets.MNIST('./data', train=False, transform=transforms.Compose([transforms.ToTensor(),transforms.Normalize((0.1307,), (0.3081,))])\n",
        "        ), batch_size=batch_size, shuffle=True)"
      ],
      "metadata": {
        "id": "UGkg1Hjm40Kz"
      },
      "execution_count": null,
      "outputs": []
    },
    {
      "cell_type": "code",
      "source": [
        "# define local training algorithm\n",
        "def client_update(client_model, optimizer, train_loader, epoch=5, client_id=0):\n",
        "    client_model.train()\n",
        "    criterion = nn.CrossEntropyLoss()\n",
        "\n",
        "    for e in range(epoch):\n",
        "        losses = []\n",
        "        for batch_idx, (data, target) in enumerate(train_loader):\n",
        "            # move data to cuda device\n",
        "            data = ...\n",
        "            # move labels to cuda device\n",
        "            target = ...\n",
        "\n",
        "            optimizer.zero_grad()\n",
        "            output = client_model(data)\n",
        "            loss = criterion(output, target)\n",
        "            loss.backward()\n",
        "            optimizer.step()\n",
        "            losses.append(loss.item())\n",
        "\n",
        "    print(f\"client_: {client_id}\\t\"\n",
        "          f\"Train Epoch: {e+1} \\t\"\n",
        "          f\"Loss: {sum(losses)/len(losses):.4f}\"\n",
        "          )\n",
        "\n",
        "    return loss.item()"
      ],
      "metadata": {
        "id": "F1FHylSU5HXk"
      },
      "execution_count": null,
      "outputs": []
    },
    {
      "cell_type": "code",
      "source": [
        "# define test model algorithm\n",
        "def test(global_model, test_loader):\n",
        "    global_model.eval()\n",
        "    test_loss = 0\n",
        "    correct = 0\n",
        "    with torch.no_grad():\n",
        "        for data, target in test_loader:\n",
        "            # move data and label to cuda device\n",
        "            data, target = ...\n",
        "            # get model output\n",
        "            output = ...\n",
        "            test_loss += F.nll_loss(output, target, reduction='sum').item()  # sum up batch loss\n",
        "            pred = output.argmax(dim=1, keepdim=True)  # get the index of the max log-probability\n",
        "            correct += pred.eq(target.view_as(pred)).sum().item()\n",
        "    # calculate loss and accuracy\n",
        "    test_loss = ...\n",
        "    acc = ...\n",
        "\n",
        "    return test_loss, acc"
      ],
      "metadata": {
        "id": "NbDLC4Mc5c3W"
      },
      "execution_count": null,
      "outputs": []
    },
    {
      "cell_type": "code",
      "source": [
        "# FedAvg algorithm aggregation\n",
        "def server_aggregate(global_model, client_models, client_idx):\n",
        "    # get the model dict from global model\n",
        "    global_dict = ...\n",
        "    for k in global_dict.keys():\n",
        "        # calculate the average parameters of all models\n",
        "        global_dict[k] = ...\n",
        "    # load average model parameters into global model\n",
        "    global_model....\n",
        "    for model in client_models:\n",
        "        # distributed global model to all client models\n",
        "        model....\n",
        "    return global_model, client_models"
      ],
      "metadata": {
        "id": "84xY9Bde5luL"
      },
      "execution_count": null,
      "outputs": []
    },
    {
      "cell_type": "code",
      "source": [
        "# initialize models and optimizers\n",
        "client_models, optimizers = [], []\n",
        "\n",
        "for client in range(num_clients):\n",
        "    model=Net().to(\"cuda\")\n",
        "    # add model into list\n",
        "    ...\n",
        "\n",
        "    # define a optimizer of model\n",
        "    optimizer = optim.RMSprop(model.parameters(), lr=pre_lr)\n",
        "    # add optimzier into list\n",
        "    ...\n"
      ],
      "metadata": {
        "id": "WfDXnGPN5vMf"
      },
      "execution_count": null,
      "outputs": []
    },
    {
      "cell_type": "code",
      "source": [
        "# Instantiate global model\n",
        "global_model = ...\n",
        "\n",
        "# Runnining FedAvg FL\n",
        "test_acc, test_losses = [], []\n",
        "\n",
        "for r in range(Round):\n",
        "    # select random clients\n",
        "    client_idx = ...\n",
        "    print('selected clients', client_idx)\n",
        "\n",
        "    # client update\n",
        "    loss = 0\n",
        "    for i in range(num_selected):\n",
        "        # train each local model of selected\n",
        "        loss= ...\n",
        "\n",
        "        loss+=loss\n",
        "\n",
        "    # serer aggregate all models\n",
        "    ...\n",
        "    # est model accuracy and loss\n",
        "    test_loss, acc = ...\n",
        "\n",
        "    test_acc.append(acc)\n",
        "    test_losses.append(test_loss)\n",
        "    print('%d-th round' % (r+1))\n",
        "    print('average train loss %0.3g | test loss %0.3g | test acc: %0.3f |' % (loss / num_selected, test_loss, acc))"
      ],
      "metadata": {
        "id": "b44UtQ8X515f"
      },
      "execution_count": null,
      "outputs": []
    },
    {
      "cell_type": "code",
      "source": [
        "from pylab import plt\n",
        "x = [i+1 for i in range(Round)]\n",
        "plt.plot(x,test_acc,label='Accuracy')\n",
        "plt.plot(x,test_losses,label='Loss')\n",
        "plt.title(\"Accuracy vs Loss\")\n",
        "plt.xlabel('Epoch')\n",
        "plt.ylabel('%')\n",
        "plt.xticks(x)\n",
        "plt.legend()\n",
        "plt.show()\n",
        "# plt.savefig()"
      ],
      "metadata": {
        "colab": {
          "base_uri": "https://localhost:8080/",
          "height": 472
        },
        "id": "b_Iyv3Wf7SYO",
        "outputId": "37f603c4-0b6f-4fe1-ede6-10fad4984698"
      },
      "execution_count": null,
      "outputs": [
        {
          "output_type": "display_data",
          "data": {
            "text/plain": [
              "<Figure size 640x480 with 1 Axes>"
            ],
            "image/png": "[encoded data removed]"
          },
          "metadata": {}
        }
      ]
    },
    {
      "cell_type": "code",
      "source": [
        "# NON-IID case: every client has images of two categories chosen from [0, 1, 2, 3, 4], [5,6,7,8,9].\n",
        "\n",
        "# Creating decentralized datasets\n",
        "target_labels = torch.stack([traindata.targets == i for i in range(10)])\n",
        "target_labels_split = []\n",
        "# collect all data with labels in [0:5]\n",
        "target_labels_split += ...\n",
        "\n",
        "# collect all data with labels in [5:10]\n",
        "target_labels_split += ...\n",
        "# create split datasets list\n",
        "traindata_split = ...\n",
        "# create data loader\n",
        "train_loaders = ...\n"
      ],
      "metadata": {
        "id": "_KgK8xCm85tJ"
      },
      "execution_count": null,
      "outputs": []
    },
    {
      "cell_type": "code",
      "source": [
        "# NON-IID case: every client has images of two categories chosen from [0, 1], [2, 3], [4, 5], [6, 7], or [8, 9].\n",
        "\n",
        "# Creating decentralized datasets\n",
        "target_labels = torch.stack([traindata.targets == i for i in range(10)])\n",
        "target_labels_split = []\n",
        "for i in range(5):\n",
        "    target_labels_split += torch.split(torch.where(target_labels[(2 * i):(2 * i +2 )].sum(0))[0], int(60000 / num_clients))[0:2]\n",
        "\n",
        "traindata_split = [torch.utils.data.Subset(traindata, tl) for tl in target_labels_split]\n",
        "\n",
        "train_loaders = [torch.utils.data.DataLoader(x, batch_size=batch_size, shuffle=True, drop_last=True) for x in traindata_split]\n"
      ],
      "metadata": {
        "id": "F05zHhbzB47M"
      },
      "execution_count": null,
      "outputs": []
    },
    {
      "cell_type": "code",
      "source": [
        "# NON-IID case: every client has images of two categories chosen from [0, 1, 2, 3], [1, 2, 3, 4].....[9,0,1,2]\n",
        "\n",
        "# Creating decentralized datasets\n",
        "target_labels = torch.stack([traindata.targets == i for i in range(10)])\n",
        "target_labels_split = []\n",
        "for i in range(5):\n",
        "    target_labels_split += torch.split(torch.where(target_labels[(2 * i):(2 * i +2 )].sum(dim=0))[0], 10000)[0:2]\n",
        "\n",
        "target_labels_split_4_class = []\n",
        "for i in range (10):\n",
        "    target_labels_split_4_class.append(torch.concat((target_labels_split[i%10],target_labels_split[(i+1)%10],target_labels_split[(i+1)%10],target_labels_split[(i+1)%10])))\n",
        "\n",
        "traindata_split = [torch.utils.data.Subset(traindata, tl) for tl in target_labels_split_4_class]\n",
        "\n",
        "train_loaders = [torch.utils.data.DataLoader(x, batch_size=batch_size, shuffle=True, drop_last=True) for x in traindata_split]\n"
      ],
      "metadata": {
        "id": "RZNz3Pzt8rpq"
      },
      "execution_count": null,
      "outputs": []
    },
    {
      "cell_type": "code",
      "source": [
        "# initialize models and optimizers\n",
        "client_models_n, optimizers_n = [], []\n",
        "\n",
        "for client in range(num_clients):\n",
        "    model=Net().to(\"cuda\")\n",
        "    # initialize optimizer\n",
        "    optimizer = optim.RMSprop(model.parameters(), lr=pre_lr)\n",
        "    # add model into list\n",
        "    client_models_n....\n",
        "    # add optimizer into list\n",
        "    optimizers_n...."
      ],
      "metadata": {
        "id": "504RXngBSwZU"
      },
      "execution_count": null,
      "outputs": []
    },
    {
      "cell_type": "code",
      "source": [
        "# Instantiate global model\n",
        "\n",
        "global_model_n = client_models_n[0]\n",
        "\n",
        "# Runnining FedAvg FL\n",
        "test_acc, test_losses = [], []\n",
        "\n",
        "for r in range(Round):\n",
        "    # select random clients\n",
        "    client_idx = ...\n",
        "    print('selected clients', client_idx)\n",
        "    # client update\n",
        "    loss = 0\n",
        "    for i in range(num_selected):\n",
        "        # train local model\n",
        "        loss= ...\n",
        "        loss+=loss\n",
        "\n",
        "    # serer aggregate\n",
        "    global_model_n, client_models_n = ...\n",
        "    test_loss, acc = test(global_model_n, test_loader)\n",
        "\n",
        "    test_acc.append(acc)\n",
        "    test_losses.append(test_loss)\n",
        "    print('%d-th round' % (r+1))\n",
        "    print('average train loss %0.3g | test loss %0.3g | test acc: %0.3f |' % (loss / num_selected, test_loss, acc))"
      ],
      "metadata": {
        "id": "toZdWqF5VkOY"
      },
      "execution_count": null,
      "outputs": []
    },
    {
      "cell_type": "code",
      "source": [
        "from pylab import plt\n",
        "x = [i+1 for i in range(Round)]\n",
        "plt.plot(x,test_acc,label='Accuracy')\n",
        "plt.plot(x,test_losses,label='Loss')\n",
        "plt.title(\"Accuracy vs Loss\")\n",
        "plt.xlabel('Epoch')\n",
        "plt.ylabel('%')\n",
        "plt.xticks(x)\n",
        "plt.legend()\n",
        "plt.show()\n",
        "# plt.savefig()"
      ],
      "metadata": {
        "colab": {
          "base_uri": "https://localhost:8080/",
          "height": 472
        },
        "id": "2XpmN4zfVniW",
        "outputId": "f7a9491b-7a24-4d9b-9732-c0b7061e6f5a"
      },
      "execution_count": null,
      "outputs": [
        {
          "output_type": "display_data",
          "data": {
            "text/plain": [
              "<Figure size 640x480 with 1 Axes>"
            ],
            "image/png": "[encoded data removed]"
          },
          "metadata": {}
        }
      ]
    }
  ]
}